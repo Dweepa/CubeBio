{
 "cells": [
  {
   "cell_type": "code",
   "execution_count": 8,
   "metadata": {},
   "outputs": [],
   "source": [
    "import pandas as pd\n",
    "import tensorflow as tf\n",
    "import pickle\n",
    "import numpy as np"
   ]
  },
  {
   "cell_type": "code",
   "execution_count": 2,
   "metadata": {},
   "outputs": [],
   "source": [
    "X = pickle.load(open('../Data/X_test', 'rb'))\n",
    "y = pickle.load(open('../Data/y_test', 'rb'))"
   ]
  },
  {
   "cell_type": "code",
   "execution_count": 3,
   "metadata": {},
   "outputs": [
    {
     "name": "stdout",
     "output_type": "stream",
     "text": [
      "(2, 1736, 978) (1736,)\n"
     ]
    }
   ],
   "source": [
    "print(X.shape, y.shape)"
   ]
  },
  {
   "cell_type": "code",
   "execution_count": 4,
   "metadata": {},
   "outputs": [
    {
     "name": "stdout",
     "output_type": "stream",
     "text": [
      "WARNING:tensorflow:From <ipython-input-4-f9c78aa5db83>:16: dense (from tensorflow.python.layers.core) is deprecated and will be removed in a future version.\n",
      "Instructions for updating:\n",
      "Use keras.layers.dense instead.\n",
      "WARNING:tensorflow:From /home/kavya/anaconda3/lib/python3.6/site-packages/tensorflow/python/framework/op_def_library.py:263: colocate_with (from tensorflow.python.framework.ops) is deprecated and will be removed in a future version.\n",
      "Instructions for updating:\n",
      "Colocations handled automatically by placer.\n",
      "WARNING:tensorflow:From /home/kavya/anaconda3/lib/python3.6/site-packages/tensorflow/python/ops/math_ops.py:3066: to_int32 (from tensorflow.python.ops.math_ops) is deprecated and will be removed in a future version.\n",
      "Instructions for updating:\n",
      "Use tf.cast instead.\n"
     ]
    }
   ],
   "source": [
    "tf.reset_default_graph()\n",
    "\n",
    "n_layers = 10\n",
    "n_inputs = 16\n",
    "n_classes = 16\n",
    "learning_rate = 0.05\n",
    "\n",
    "input1 = tf.placeholder(dtype=tf.float32, shape=[None, 978])\n",
    "input2 = tf.placeholder(dtype=tf.float32, shape=[None, 978])\n",
    "orig_1 = input1\n",
    "orig_2 = input2\n",
    "\n",
    "labels = tf.placeholder(dtype=tf.float32, shape=(None))\n",
    "\n",
    "for a in range(n_layers):\n",
    "    a_layer = tf.layers.dense(input1, n_inputs, 'selu', name='layer'+str(a))\n",
    "    input1 = tf.concat([input1, a_layer], 1, name='a_concatenation'+str(a))\n",
    "    \n",
    "for a in range(n_layers):\n",
    "    b_layer = tf.layers.dense(input2, n_inputs, 'selu', name='layer'+str(a), reuse=True)\n",
    "    input2 = tf.concat([input2, b_layer], 1, name='b_concatenation'+str(a))\n",
    "    \n",
    "emb1 = tf.nn.l2_normalize(tf.layers.dense(input1, 16, None), axis=1)\n",
    "emb2 = tf.nn.l2_normalize(tf.layers.dense(input2, n_classes, None), axis=1)\n",
    "\n",
    "distance = tf.reduce_sum(tf.multiply(emb1, emb2),axis=1)\n",
    "diff = tf.subtract(distance, labels)\n",
    "loss = tf.reduce_mean(tf.multiply(diff, diff))\n",
    "\n",
    "optimizer = tf.train.AdamOptimizer(learning_rate).minimize(loss)"
   ]
  },
  {
   "cell_type": "code",
   "execution_count": 12,
   "metadata": {
    "scrolled": true
   },
   "outputs": [
    {
     "name": "stdout",
     "output_type": "stream",
     "text": [
      "Initialized\n",
      "0.5662695\n",
      "0.6179323\n",
      "0.29235843\n",
      "0.47624302\n",
      "0.2522788\n",
      "0.27782902\n",
      "0.29336467\n",
      "0.28379706\n",
      "0.26597592\n",
      "0.2521252\n",
      "0.24890196\n",
      "0.25430688\n",
      "0.26032406\n",
      "0.26113468\n",
      "0.25715828\n",
      "0.2520977\n",
      "0.24885158\n",
      "0.24819426\n",
      "0.2492441\n",
      "0.25095236\n",
      "0.25217706\n",
      "0.25241563\n",
      "0.2517209\n",
      "0.25038013\n",
      "0.2490133\n",
      "0.24800435\n",
      "0.24755768\n",
      "0.24770492\n",
      "0.248217\n",
      "0.24871801\n",
      "0.24893716\n",
      "0.24881451\n",
      "0.24833773\n",
      "0.24774599\n",
      "0.24720891\n",
      "0.24690145\n",
      "0.24685293\n",
      "0.2470116\n",
      "0.2469815\n",
      "0.24693035\n",
      "0.24672814\n",
      "0.24646413\n",
      "0.24609178\n",
      "0.24572235\n",
      "0.2453518\n",
      "0.24509245\n",
      "0.24497983\n",
      "0.24475577\n",
      "0.24426551\n",
      "0.24366426\n",
      "0.24295829\n",
      "0.24216014\n",
      "0.24081555\n",
      "0.23866716\n",
      "0.2346594\n",
      "0.22989468\n",
      "0.22706749\n",
      "0.23304485\n",
      "0.22700159\n",
      "0.21622679\n",
      "0.20776212\n",
      "0.19889493\n",
      "0.20698734\n",
      "0.20476706\n",
      "0.21239333\n",
      "0.1951125\n",
      "0.18523645\n",
      "0.1805501\n",
      "0.1671569\n",
      "0.16544965\n",
      "0.15847065\n",
      "0.14923044\n",
      "0.14112894\n",
      "0.13307284\n",
      "0.12520048\n",
      "0.119859785\n",
      "0.11356616\n",
      "0.108463906\n",
      "0.1046536\n",
      "0.10158211\n",
      "0.09811846\n",
      "0.09542283\n",
      "0.092333965\n",
      "0.08975617\n",
      "0.08746481\n",
      "0.08464741\n",
      "0.08284614\n",
      "0.08092949\n",
      "0.07906379\n",
      "0.077311926\n",
      "0.07570353\n",
      "0.07386581\n",
      "0.0722812\n",
      "0.07090136\n",
      "0.070524566\n",
      "0.06940347\n",
      "0.067164935\n",
      "0.06530655\n",
      "0.063710965\n",
      "0.061512824\n",
      "[[ 0.23216619 -0.2976543  -0.2785324  ...  0.06601524 -0.41277626\n",
      "   0.26515725]\n",
      " [ 0.21928728 -0.29966992 -0.2853256  ...  0.07134283 -0.41447097\n",
      "   0.27659914]\n",
      " [ 0.22769602 -0.00656595  0.14442298 ... -0.2583487  -0.3151938\n",
      "  -0.0362749 ]\n",
      " ...\n",
      " [ 0.2711348  -0.2384463  -0.19785449 ... -0.0542445  -0.4525487\n",
      "   0.18800992]\n",
      " [ 0.2711348  -0.2384463  -0.19785449 ... -0.0542445  -0.4525487\n",
      "   0.18800992]\n",
      " [ 0.21845362 -0.29933462 -0.2845425  ...  0.06847467 -0.41475627\n",
      "   0.27433866]] [[ 0.16106819  0.10732867  0.26146308 ... -0.3010375  -0.17595555\n",
      "  -0.14401956]\n",
      " [ 0.15108198  0.12006412  0.26479432 ... -0.30060437 -0.16667102\n",
      "  -0.14376506]\n",
      " [ 0.2654979  -0.23601769 -0.16340445 ... -0.04864187 -0.44234294\n",
      "   0.1974977 ]\n",
      " ...\n",
      " [ 0.21536905  0.00739285  0.17481287 ... -0.28186306 -0.23714589\n",
      "  -0.06170096]\n",
      " [ 0.21536905  0.00739285  0.17481287 ... -0.28186306 -0.23714589\n",
      "  -0.06170096]\n",
      " [ 0.15153664  0.11816787  0.2650439  ... -0.30149788 -0.16848901\n",
      "  -0.1444721 ]]\n"
     ]
    }
   ],
   "source": [
    "with tf.Session() as session:  \n",
    "    tf.initialize_all_variables().run()\n",
    "    print(\"Initialized\")\n",
    "    \n",
    "#     feed_dict={orig_1:X[0], orig_2:X[1], labels:y}\n",
    "    \n",
    "    feed_dict={orig_1:X[0], orig_2:X[1], labels:y}\n",
    "    \n",
    "    for a in range(100):\n",
    "        _, l = session.run([optimizer, loss], feed_dict=feed_dict)\n",
    "        print(l)\n",
    "    d = session.run([distance], feed_dict=feed_dict)\n",
    "    feed_dict={orig_1:X[0], orig_2:X[0], labels:y}\n",
    "    e1, e2 = session.run([emb1, emb2], feed_dict=feed_dict)\n",
    "    print(e1, e2)\n",
    "#     print(d)\n",
    "    \n",
    "    tf.summary.FileWriter('./logs', session.graph)"
   ]
  },
  {
   "cell_type": "code",
   "execution_count": 15,
   "metadata": {},
   "outputs": [],
   "source": [
    "xnew1 = []\n",
    "xnew2 = []\n",
    "ynew = []\n",
    "for a in range(len(y)):\n",
    "    if y[a]==0:\n",
    "        xnew1.append(X[0][a])\n",
    "        xnew2.append(X[0][a])\n",
    "        ynew.append(y[a])\n",
    "xnew1 = np.asarray(xnew1)\n",
    "xnew2 = np.asarray(xnew2)\n",
    "ynew = np.asarray(ynew)"
   ]
  },
  {
   "cell_type": "code",
   "execution_count": 16,
   "metadata": {},
   "outputs": [
    {
     "data": {
      "text/plain": [
       "(868, 978)"
      ]
     },
     "execution_count": 16,
     "metadata": {},
     "output_type": "execute_result"
    }
   ],
   "source": [
    "xnew1.shape"
   ]
  },
  {
   "cell_type": "code",
   "execution_count": 17,
   "metadata": {},
   "outputs": [
    {
     "data": {
      "text/plain": [
       "(868,)"
      ]
     },
     "execution_count": 17,
     "metadata": {},
     "output_type": "execute_result"
    }
   ],
   "source": [
    "ynew.shape"
   ]
  },
  {
   "cell_type": "code",
   "execution_count": 18,
   "metadata": {},
   "outputs": [
    {
     "data": {
      "text/plain": [
       "array([ 0.23216619, -0.2976543 , -0.2785324 ,  0.19524847,  0.21490829,\n",
       "        0.16193542,  0.4253295 ,  0.27673236, -0.14786448, -0.16926019,\n",
       "       -0.24436551, -0.23750608,  0.01472671,  0.06601524, -0.41277626,\n",
       "        0.26515725], dtype=float32)"
      ]
     },
     "execution_count": 18,
     "metadata": {},
     "output_type": "execute_result"
    }
   ],
   "source": [
    "e1[0]"
   ]
  },
  {
   "cell_type": "code",
   "execution_count": 19,
   "metadata": {},
   "outputs": [
    {
     "data": {
      "text/plain": [
       "array([ 0.16106819,  0.10732867,  0.26146308, -0.26907846, -0.26455677,\n",
       "        0.35873795,  0.13699406, -0.15860845, -0.34518462, -0.44496343,\n",
       "       -0.25078627,  0.23644447, -0.02990031, -0.3010375 , -0.17595555,\n",
       "       -0.14401956], dtype=float32)"
      ]
     },
     "execution_count": 19,
     "metadata": {},
     "output_type": "execute_result"
    }
   ],
   "source": [
    "e2[0]"
   ]
  },
  {
   "cell_type": "code",
   "execution_count": null,
   "metadata": {},
   "outputs": [],
   "source": []
  }
 ],
 "metadata": {
  "kernelspec": {
   "display_name": "Python 3",
   "language": "python",
   "name": "python3"
  },
  "language_info": {
   "codemirror_mode": {
    "name": "ipython",
    "version": 3
   },
   "file_extension": ".py",
   "mimetype": "text/x-python",
   "name": "python",
   "nbconvert_exporter": "python",
   "pygments_lexer": "ipython3",
   "version": "3.6.5"
  }
 },
 "nbformat": 4,
 "nbformat_minor": 2
}
