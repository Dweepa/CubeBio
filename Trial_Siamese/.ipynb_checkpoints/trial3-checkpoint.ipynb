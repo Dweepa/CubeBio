{
 "cells": [
  {
   "cell_type": "code",
   "execution_count": 6,
   "metadata": {
    "collapsed": true
   },
   "outputs": [],
   "source": [
    "import tensorflow as tf\n",
    "import pickle\n",
    "import sys"
   ]
  },
  {
   "cell_type": "code",
   "execution_count": 7,
   "metadata": {
    "collapsed": true
   },
   "outputs": [],
   "source": [
    "X = pickle.load(open('../Data/X_train_triplet', 'rb'))\n",
    "test = pickle.load(open('../Data/X_test_triplet', 'rb'))\n",
    "y = pickle.load(open('../Data/y_test', 'rb'))"
   ]
  },
  {
   "cell_type": "code",
   "execution_count": 8,
   "metadata": {
    "collapsed": true
   },
   "outputs": [],
   "source": [
    "class siamese:\n",
    "\n",
    "    # Create model\n",
    "    def __init__(self):\n",
    "        tf.reset_default_graph()\n",
    "        self.x1 = tf.placeholder(tf.float32, [None, 978])\n",
    "        self.x2 = tf.placeholder(tf.float32, [None, 978])\n",
    "        self.x3 = tf.placeholder(tf.float32, [None, 978])\n",
    "\n",
    "        with tf.variable_scope(\"siamese\") as scope:\n",
    "            self.o1 = self.network(self.x1)\n",
    "            scope.reuse_variables()\n",
    "            self.o2 = self.network(self.x2)\n",
    "            scope.reuse_variables()\n",
    "            self.o3 = self.network(self.x3)\n",
    "\n",
    "        self.loss = self.loss_with_cosine()\n",
    "\n",
    "    def network(self, x):\n",
    "        weights = []\n",
    "        fc1 = self.fc_layer(x, 1024, \"fc1\")\n",
    "        ac1 = tf.nn.relu(fc1)\n",
    "        fc2 = self.fc_layer(ac1, 1024, \"fc2\")\n",
    "        ac2 = tf.nn.relu(fc2)\n",
    "        fc3 = self.fc_layer(ac2, 32, \"fc3\")\n",
    "        fc3 = tf.nn.l2_normalize(fc3, axis=1)\n",
    "        return fc3\n",
    "\n",
    "    def fc_layer(self, bottom, n_weight, name):\n",
    "        assert len(bottom.get_shape()) == 2\n",
    "        n_prev_weight = bottom.get_shape()[1]\n",
    "        initer = tf.truncated_normal_initializer(stddev=0.01)\n",
    "        W = tf.get_variable(name+'W', dtype=tf.float32, shape=[n_prev_weight, n_weight], initializer=initer)\n",
    "        b = tf.get_variable(name+'b', dtype=tf.float32, initializer=tf.constant(0.01, shape=[n_weight], dtype=tf.float32))\n",
    "        fc = tf.nn.bias_add(tf.matmul(bottom, W), b)\n",
    "        return fc\n",
    "\n",
    "    def loss_with_euclid(self):  \n",
    "        eucd2 = tf.pow(tf.subtract(self.o1, self.o2), 2)\n",
    "        eucd2 = tf.sqrt(tf.reduce_sum(eucd2, axis=1))\n",
    "        eucd2_mean = tf.reduce_mean(eucd2, axis=0)\n",
    "        \n",
    "        eucd3 = tf.pow(tf.subtract(self.o1, self.o3), 2)\n",
    "        eucd3 = tf.sqrt(tf.reduce_sum(eucd3, axis=1))\n",
    "        eucd3_mean = tf.reduce_mean(eucd3, axis=0)\n",
    "        \n",
    "        return eucd2_mean, eucd3_mean, eucd2, eucd3\n",
    "    \n",
    "    def loss_with_cosine(self):  \n",
    "        eucd2 = tf.multiply(self.o1, self.o2)\n",
    "        eucd2 = 1-tf.pow(tf.reduce_sum(eucd2, axis=1), 2)\n",
    "        eucd2_mean = tf.reduce_mean(eucd2, axis=0)\n",
    "        \n",
    "        eucd3 = tf.multiply(self.o1, self.o3)\n",
    "        eucd3 = 1-tf.pow(tf.reduce_sum(eucd3, axis=1), 2)\n",
    "        eucd3_mean = tf.reduce_mean(eucd3, axis=0)\n",
    "        \n",
    "        return eucd2_mean, eucd3_mean, eucd2, eucd3\n",
    "    \n",
    "    def mahalanobis(x=None, data=None, cov=None):\n",
    "    \"\"\"Compute the Mahalanobis Distance between each row of x and the data  \n",
    "    x    : vector or matrix of data with, say, p columns.\n",
    "    data : ndarray of the distribution from which Mahalanobis distance of each observation of x is to be computed.\n",
    "    cov  : covariance matrix (p x p) of the distribution. If None, will be computed from data.\n",
    "    \"\"\"\n",
    "    x_minus_mu = x - np.mean(data)\n",
    "    if not cov:\n",
    "        cov = np.cov(data.values.T)\n",
    "    inv_covmat = sp.linalg.inv(cov)\n",
    "    left_term = np.dot(x_minus_mu, inv_covmat)\n",
    "    mahal = np.dot(left_term, x_minus_mu.T)\n",
    "    return mahal.diagonal()\n",
    "\n",
    "df_x = df[['carat', 'depth', 'price']].head(500)\n",
    "df_x['mahala'] = mahalanobis(x=df_x, data=df[['carat', 'depth', 'price']])\n",
    "df_x.head()"
   ]
  },
  {
   "cell_type": "code",
   "execution_count": 9,
   "metadata": {
    "collapsed": true
   },
   "outputs": [],
   "source": [
    "s = siamese()\n",
    "optim_pos = tf.train.AdamOptimizer(0.005).minimize(s.loss[0])\n",
    "optim_neg = tf.train.AdamOptimizer(0.005).minimize(-s.loss[1])"
   ]
  },
  {
   "cell_type": "code",
   "execution_count": 10,
   "metadata": {},
   "outputs": [
    {
     "name": "stdout",
     "output_type": "stream",
     "text": [
      "Initialized\n",
      "Epoch 0:\t420/420  0.21711631772064027 0.36928673287232716\n",
      "Epoch 1:\t420/420  0.21103125143618812 0.2790373545317423\n",
      "Epoch 2:\t420/420  0.25646759342579617 0.565873194308508\n",
      "Epoch 3:\t420/420  0.24238232530298687 0.6799342298791522\n",
      "Epoch 4:\t420/420  0.17345438528628576 0.7410046874057679\n",
      "Epoch 5:\t420/420  0.1582727991399311 0.8126056419951575\n",
      "Epoch 6:\t420/420  0.12453865607579549 0.848505534018789\n",
      "Epoch 7:\t420/420  0.11780639219851721 0.8552440593640009\n",
      "Epoch 8:\t420/420  0.0719123248543058 0.8813099009650094\n",
      "Epoch 9:\t420/420  0.06315307744911738 0.9155839116800399\n",
      "Epoch 10:\t420/420  0.056777897619065786 0.936929144178118\n",
      "Epoch 11:\t420/420  0.051935129931994846 0.9472490730739775\n",
      "Epoch 12:\t420/420  0.05022782839479901 0.9568232620046252\n",
      "Epoch 13:\t420/420  0.0398822219598861 0.9648972616309212\n",
      "Epoch 14:\t420/420  0.042671431672005426 0.9708909230572836\n",
      "Epoch 15:\t420/420  0.038421490078880675 0.9617058565219243\n",
      "Epoch 16:\t420/420  0.06324312317939032 0.9534219213894435\n",
      "Epoch 17:\t420/420  0.03408975033533006 0.9755306059405917\n",
      "Epoch 18:\t420/420  0.025771495557966685 0.9786191694793247\n",
      "Epoch 19:\t420/420  0.020895781829243613 0.9870474460579101\n",
      "Epoch 20:\t420/420  0.01751844712666103 0.987761948789869\n",
      "Epoch 21:\t420/420  0.015618271912847247 0.9864476628246761\n",
      "Epoch 22:\t420/420  0.013807466058504013 0.9861074992588588\n",
      "Epoch 23:\t420/420  0.016415707412220183 0.9895682096481323\n",
      "Epoch 24:\t420/420  0.013559650239490328 0.9897564457995551\n",
      "Epoch 25:\t420/420  0.011739559116817656 0.9907671142192114\n",
      "Epoch 26:\t420/420  0.010256916852224442 0.9923397245861235\n",
      "Epoch 27:\t420/420  0.009461272188595363 0.9955600082874299\n",
      "Epoch 28:\t420/420  0.010021476376624334 0.9959697496323359\n",
      "Epoch 29:\t420/420  0.009542801266624814 0.996477926061267\n",
      "Epoch 30:\t420/420  0.00800925266175043 0.9984050574756804\n",
      "Epoch 31:\t420/420  0.00771808922290802 0.9966247941766466\n",
      "Epoch 32:\t420/420  0.03006686894666581 0.9604351658196676\n",
      "Epoch 33:\t420/420  0.020863961321966988 0.9688959797223409\n",
      "Epoch 34:\t420/420  0.009369262485277086 0.994666967079753\n",
      "Epoch 35:\t420/420  0.006487291625567845 0.9992678003651755\n",
      "Epoch 36:\t420/420  0.006051719472521828 0.9995606040670758\n",
      "Epoch 37:\t420/420  0.005990182501929147 0.9997068036170232\n",
      "Epoch 38:\t420/420  0.005943932277815683 0.9998037190664382\n",
      "Epoch 39:\t420/420  0.005901250527018592 0.999731374070758\n"
     ]
    }
   ],
   "source": [
    "with tf.Session() as session:  \n",
    "    tf.initialize_all_variables().run()\n",
    "    print(\"Initialized\")\n",
    "    \n",
    "    feed_dict={s.x1:X[0], s.x2:X[1], s.x3:X[2]}\n",
    "    \n",
    "    p_loss = []\n",
    "    n_loss = []\n",
    "    \n",
    "    for a in range(40):        \n",
    "        p_loss.append([])\n",
    "        n_loss.append([])\n",
    "        for b in range(len(X[0])):\n",
    "            sys.stdout.write('\\rEpoch %d:\\t%d/%d' % (a, b+1, len(X[0])))\n",
    "            feed_dict = {s.x1:X[0][b:b+1], s.x2:X[1][b:b+1], s.x3:X[2][b:b+1]}\n",
    "            _, _, l = session.run([optim_pos, optim_neg, s.loss], feed_dict=feed_dict)\n",
    "            p_loss[-1].append(l[0])\n",
    "            n_loss[-1].append(l[1])\n",
    "        p_loss[-1] = sum(p_loss[-1])/len(p_loss[-1])\n",
    "        n_loss[-1] = sum(n_loss[-1])/len(n_loss[-1])\n",
    "        print(\" \", p_loss[-1], n_loss[-1]) \n",
    "    \n",
    "    embeddings = session.run([s.o1, s.o2, s.o3], feed_dict={s.x1:X[0], s.x2:X[1], s.x3:X[2]})\n",
    "    trained = session.run([s.loss], feed_dict={s.x1:X[0], s.x2:X[1], s.x3:X[2]})\n",
    "    pred = session.run([s.loss], feed_dict={s.x1:test[0], s.x2:test[1], s.x3:test[2]})\n",
    "    \n",
    "    "
   ]
  },
  {
   "cell_type": "code",
   "execution_count": 181,
   "metadata": {},
   "outputs": [
    {
     "data": {
      "image/png": "[encoded data removed]",
      "text/plain": [
       "<Figure size 1440x432 with 1 Axes>"
      ]
     },
     "metadata": {},
     "output_type": "display_data"
    }
   ],
   "source": [
    "plt.figure(figsize=(20, 6))\n",
    "plt.plot(np.arange(40), p_loss, label='positive')\n",
    "plt.plot(np.arange(40), n_loss, label='negative')\n",
    "plt.legend()\n",
    "plt.show()"
   ]
  },
  {
   "cell_type": "code",
   "execution_count": 104,
   "metadata": {},
   "outputs": [
    {
     "name": "stdout",
     "output_type": "stream",
     "text": [
      "here\n"
     ]
    }
   ],
   "source": [
    "values = []\n",
    "for i in pred:\n",
    "    anch = normalize(i[0:16].reshape(1,-1)).flatten()\n",
    "    pos = normalize(i[16:32].reshape(1,-1)).flatten()\n",
    "    neg = normalize(i[32:].reshape(1,-1)).flatten()\n",
    "    pos_neg_val = [(np.dot(anch,pos)), (np.dot(anch,neg))]\n",
    "    print(pos_neg_val)\n",
    "    values.append(pos_neg_val[0]>=0.7)\n",
    "    values.append(pos_neg_val[1]<0.7)\n",
    "    # print(positives, negatives)\n",
    "    #     print(pos_val, neg_val, pos_val>neg_val)\n",
    "print((np.sum(np.asarray(values)==True))/len(values))"
   ]
  },
  {
   "cell_type": "code",
   "execution_count": 182,
   "metadata": {},
   "outputs": [
    {
     "name": "stdout",
     "output_type": "stream",
     "text": [
      "420 419 0.9988095238095238\n"
     ]
    }
   ],
   "source": [
    "p = np.sum(trained[0][2]<=0.5)\n",
    "n = np.sum(trained[0][3]>0.5)\n",
    "print(p, n, (p+n)/420/2)"
   ]
  },
  {
   "cell_type": "code",
   "execution_count": 183,
   "metadata": {},
   "outputs": [
    {
     "name": "stdout",
     "output_type": "stream",
     "text": [
      "229 240 0.5583333333333333\n"
     ]
    }
   ],
   "source": [
    "p = np.sum(pred[0][2]<=0.5)\n",
    "n = np.sum(pred[0][3]>0.5)\n",
    "print(p, n, (p+n)/420/2)"
   ]
  },
  {
   "cell_type": "code",
   "execution_count": 184,
   "metadata": {},
   "outputs": [
    {
     "name": "stdout",
     "output_type": "stream",
     "text": [
      "0.00012373924 0.9993296\n",
      "[-0.11018907 -0.1209731   0.13839094 -0.4247587  -0.045997    0.12430564\n",
      "  0.02165835  0.08987827 -0.19687092 -0.41668624  0.08030747 -0.08179423\n",
      " -0.09862445  0.12119547 -0.08019971  0.16259034 -0.13685857  0.10027993\n",
      " -0.35781202 -0.18072918 -0.13175824  0.10020714 -0.02613992 -0.11494952\n",
      "  0.21348856 -0.16047528  0.00613986 -0.021885   -0.36046    -0.14323977\n",
      " -0.09843989  0.04434245]\n",
      "[-0.10612432 -0.11862195  0.13712327 -0.42638773 -0.04557925  0.12333737\n",
      "  0.01992982  0.08992988 -0.19557221 -0.4190446   0.08007918 -0.0814627\n",
      " -0.09754758  0.12061928 -0.08076268  0.16023633 -0.13379085  0.10025469\n",
      " -0.36183476 -0.18216513 -0.12901008  0.09709573 -0.02489562 -0.1119298\n",
      "  0.21007107 -0.16234805  0.00656732 -0.02232155 -0.36222175 -0.14252146\n",
      " -0.09735301  0.04269537]\n",
      "[ 0.35774428 -0.20051353 -0.02276542 -0.02748582 -0.11236633 -0.09357957\n",
      " -0.36975214 -0.01326136 -0.19141358 -0.02351078 -0.02309883 -0.03233564\n",
      "  0.09758405 -0.01350527  0.01474599 -0.04272079 -0.28004605 -0.07097354\n",
      " -0.03708641 -0.04614671  0.230071   -0.3544989   0.32351255  0.00507496\n",
      "  0.15750396 -0.00295924 -0.33307475 -0.02861749 -0.04336744  0.11108752\n",
      " -0.20152348 -0.24511638]\n"
     ]
    }
   ],
   "source": [
    "x = 138\n",
    "print(trained[0][2][x], trained[0][3][x])\n",
    "print(embeddings[0][x], embeddings[1][x], embeddings[2][x], sep='\\n') "
   ]
  },
  {
   "cell_type": "code",
   "execution_count": null,
   "metadata": {
    "collapsed": true
   },
   "outputs": [],
   "source": []
  }
 ],
 "metadata": {
  "kernelspec": {
   "display_name": "Python 3",
   "language": "python",
   "name": "python3"
  },
  "language_info": {
   "codemirror_mode": {
    "name": "ipython",
    "version": 3
   },
   "file_extension": ".py",
   "mimetype": "text/x-python",
   "name": "python",
   "nbconvert_exporter": "python",
   "pygments_lexer": "ipython3",
   "version": "3.6.8"
  }
 },
 "nbformat": 4,
 "nbformat_minor": 2
}
