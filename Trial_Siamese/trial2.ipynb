{
 "cells": [
  {
   "cell_type": "code",
   "execution_count": 3,
   "metadata": {},
   "outputs": [],
   "source": [
    "import tensorflow as tf\n",
    "import pickle"
   ]
  },
  {
   "cell_type": "code",
   "execution_count": 23,
   "metadata": {},
   "outputs": [],
   "source": [
    "X = pickle.load(open('../Data/X_train_triplet', 'rb'))\n",
    "test = pickle.load(open('../Data/X_test_triplet', 'rb'))\n",
    "y = pickle.load(open('../Data/y_test', 'rb'))"
   ]
  },
  {
   "cell_type": "code",
   "execution_count": 113,
   "metadata": {},
   "outputs": [],
   "source": [
    "class siamese:\n",
    "\n",
    "    # Create model\n",
    "    def __init__(self):\n",
    "        tf.reset_default_graph()\n",
    "        self.x1 = tf.placeholder(tf.float32, [None, 978])\n",
    "        self.x2 = tf.placeholder(tf.float32, [None, 978])\n",
    "        self.x3 = tf.placeholder(tf.float32, [None, 978])\n",
    "\n",
    "        with tf.variable_scope(\"siamese\") as scope:\n",
    "            self.o1 = self.network(self.x1)\n",
    "            scope.reuse_variables()\n",
    "            self.o2 = self.network(self.x2)\n",
    "            scope.reuse_variables()\n",
    "            self.o3 = self.network(self.x3)\n",
    "\n",
    "        self.loss = self.loss_with_step()\n",
    "\n",
    "    def network(self, x):\n",
    "        weights = []\n",
    "        fc1 = self.fc_layer(x, 1024, \"fc1\")\n",
    "        ac1 = tf.nn.relu(fc1)\n",
    "        fc2 = self.fc_layer(ac1, 1024, \"fc2\")\n",
    "        ac2 = tf.nn.relu(fc2)\n",
    "        fc3 = self.fc_layer(ac2, 32, \"fc3\")\n",
    "        fc3 = tf.nn.l2_normalize(fc3, axis=1)\n",
    "        return fc3\n",
    "\n",
    "    def fc_layer(self, bottom, n_weight, name):\n",
    "        assert len(bottom.get_shape()) == 2\n",
    "        n_prev_weight = bottom.get_shape()[1]\n",
    "        initer = tf.truncated_normal_initializer(stddev=0.01)\n",
    "        W = tf.get_variable(name+'W', dtype=tf.float32, shape=[n_prev_weight, n_weight], initializer=initer)\n",
    "        b = tf.get_variable(name+'b', dtype=tf.float32, initializer=tf.constant(0.01, shape=[n_weight], dtype=tf.float32))\n",
    "        fc = tf.nn.bias_add(tf.matmul(bottom, W), b)\n",
    "        return fc\n",
    "\n",
    "    def loss_with_step(self):  \n",
    "        eucd2 = tf.pow(tf.subtract(self.o1, self.o2), 2)\n",
    "        eucd2 = tf.sqrt(tf.reduce_sum(eucd2, axis=1))\n",
    "        eucd2_mean = tf.reduce_mean(eucd2, axis=0)\n",
    "        \n",
    "        eucd3 = tf.pow(tf.subtract(self.o1, self.o3), 2)\n",
    "        eucd3 = tf.sqrt(tf.reduce_sum(eucd3, axis=1))\n",
    "        eucd3_mean = tf.reduce_mean(eucd3, axis=0)\n",
    "        \n",
    "        return eucd2_mean, eucd3_mean, eucd2, eucd3"
   ]
  },
  {
   "cell_type": "code",
   "execution_count": 114,
   "metadata": {},
   "outputs": [],
   "source": [
    "s = siamese()\n",
    "optim_pos = tf.train.AdamOptimizer(0.005).minimize(s.loss[0])\n",
    "optim_neg = tf.train.AdamOptimizer(0.005).minimize(-s.loss[1])"
   ]
  },
  {
   "cell_type": "code",
   "execution_count": null,
   "metadata": {},
   "outputs": [
    {
     "name": "stdout",
     "output_type": "stream",
     "text": [
      "Initialized\n",
      "Epoch 0:\t419/420  0.5341717644117862 0.8766641574867424\n",
      "Epoch 1:\t419/420  0.4644586531201466 0.9599724324863581\n",
      "Epoch 2:\t419/420  0.41970584496988783 1.0865199414614055\n",
      "Epoch 3:\t419/420  0.4067787584455107 1.2535062073574712\n",
      "Epoch 4:\t419/420  0.34836789435025173 1.3692935541538256\n",
      "Epoch 5:\t320/420"
     ]
    }
   ],
   "source": [
    "with tf.Session() as session:  \n",
    "    tf.initialize_all_variables().run()\n",
    "    print(\"Initialized\")\n",
    "    \n",
    "    feed_dict={s.x1:X[0], s.x2:X[1], s.x3:X[2]}\n",
    "    \n",
    "    p_loss = []\n",
    "    n_loss = []\n",
    "    \n",
    "    for a in range(50):        \n",
    "        p_loss.append([])\n",
    "        n_loss.append([])\n",
    "        for b in range(len(X[0])):\n",
    "            sys.stdout.write('\\rEpoch %d:\\t%d/%d' % (a, b, len(X[0])))\n",
    "            feed_dict = {s.x1:X[0][b:b+1], s.x2:X[1][b:b+1], s.x3:X[2][b:b+1]}\n",
    "            _, _, l = session.run([optim_pos, optim_neg, s.loss], feed_dict=feed_dict)\n",
    "            p_loss[-1].append(l[0])\n",
    "            n_loss[-1].append(l[1])\n",
    "        p_loss[-1] = sum(p_loss[-1])/len(p_loss[-1])\n",
    "        n_loss[-1] = sum(n_loss[-1])/len(n_loss[-1])\n",
    "        print(\" \", p_loss[-1], n_loss[-1]) \n",
    "    \n",
    "    trained = session.run([s.loss], feed_dict={s.x1:X[0], s.x2:X[1], s.x3:X[2]})\n",
    "    pred = session.run([s.loss], feed_dict={s.x1:test[0], s.x2:test[1], s.x3:test[2]})\n",
    "    \n",
    "    "
   ]
  },
  {
   "cell_type": "code",
   "execution_count": 49,
   "metadata": {},
   "outputs": [
    {
     "data": {
      "image/png": "[encoded data removed]",
      "text/plain": [
       "<Figure size 1440x432 with 1 Axes>"
      ]
     },
     "metadata": {},
     "output_type": "display_data"
    }
   ],
   "source": [
    "plt.figure(figsize=(20, 6))\n",
    "plt.plot(np.arange(10), p_loss, label='positive')\n",
    "plt.plot(np.arange(10), n_loss, label='negative')\n",
    "plt.legend()\n",
    "plt.show()"
   ]
  },
  {
   "cell_type": "code",
   "execution_count": 104,
   "metadata": {},
   "outputs": [
    {
     "name": "stdout",
     "output_type": "stream",
     "text": [
      "here\n"
     ]
    }
   ],
   "source": [
    "values = []\n",
    "for i in pred:\n",
    "    anch = normalize(i[0:16].reshape(1,-1)).flatten()\n",
    "    pos = normalize(i[16:32].reshape(1,-1)).flatten()\n",
    "    neg = normalize(i[32:].reshape(1,-1)).flatten()\n",
    "    pos_neg_val = [(np.dot(anch,pos)), (np.dot(anch,neg))]\n",
    "    print(pos_neg_val)\n",
    "    values.append(pos_neg_val[0]>=0.7)\n",
    "    values.append(pos_neg_val[1]<0.7)\n",
    "    # print(positives, negatives)\n",
    "    #     print(pos_val, neg_val, pos_val>neg_val)\n",
    "print((np.sum(np.asarray(values)==True))/len(values))"
   ]
  },
  {
   "cell_type": "code",
   "execution_count": 125,
   "metadata": {},
   "outputs": [
    {
     "name": "stdout",
     "output_type": "stream",
     "text": [
      "0.9154761904761904\n"
     ]
    }
   ],
   "source": [
    "p = np.sum(trained[0][2]<=1)\n",
    "n = np.sum(trained[0][3]>1)\n",
    "print((p+n)/420/2)"
   ]
  },
  {
   "cell_type": "code",
   "execution_count": 126,
   "metadata": {},
   "outputs": [
    {
     "name": "stdout",
     "output_type": "stream",
     "text": [
      "0.6285714285714286\n"
     ]
    }
   ],
   "source": [
    "p = np.sum(pred[0][2]<=1)\n",
    "n = np.sum(pred[0][3]>1)\n",
    "print((p+n)/420/2)"
   ]
  },
  {
   "cell_type": "code",
   "execution_count": null,
   "metadata": {},
   "outputs": [],
   "source": []
  }
 ],
 "metadata": {
  "kernelspec": {
   "display_name": "Python 3",
   "language": "python",
   "name": "python3"
  },
  "language_info": {
   "codemirror_mode": {
    "name": "ipython",
    "version": 3
   },
   "file_extension": ".py",
   "mimetype": "text/x-python",
   "name": "python",
   "nbconvert_exporter": "python",
   "pygments_lexer": "ipython3",
   "version": "3.6.5"
  }
 },
 "nbformat": 4,
 "nbformat_minor": 2
}
