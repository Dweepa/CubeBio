{
 "cells": [
  {
   "cell_type": "markdown",
   "metadata": {},
   "source": [
    "<img style=\"float: left;\" src=\"https://cdn.pixabay.com/photo/2016/12/07/09/45/dna-1889085__340.jpg\" width=10%> <h1> Application of AI to Discover Novel Binding of Small Molecules </h1>"
   ]
  },
  {
   "cell_type": "markdown",
   "metadata": {},
   "source": [
    "---------\n",
    "### Sample Dataset for Testing Purposes\n",
    "\n",
    "##### Here we create a sample dataset for two reasons:\n",
    "- to get a better understanding of the structure of the data\n",
    "- test any sample code for validity\n",
    "\n",
    "##### Structure of sample dataset:\n",
    "1. A dataframe consisting of 50 genes and 1020 profiles [50 x 1020]\n",
    "2. Columns are a combination of drug, replicate, time, concentration, probe_location, cell type. For the purposes of this project only drug and replicate matters in terms of training. So the column name will be structured as\n",
    "\"*drug + replicate id + unique characters that represent time, concentration, probe_location and cell type*\"\n",
    "3. 20 columns consist of control genes or 'control probes'. Columns are labelled control_x where x is a number from 1 to 20\n",
    "3. Dataset consists of 25 drugs with 4 replicates and 10 combinations of time, concentration, probe_location and cell type\n",
    "\n",
    "| Feature      | Quantity | Represented By |\n",
    "| ----------- | ----------- | ----------- |\n",
    "| Drug      | 25       | Alphabets A-Y |\n",
    "| Replicate   | 4        | Numbers 1-4 |\n",
    "| Other features   | 10        | Random String of length 3 |\n",
    "\n",
    "***R_3_xcv*** represents a profile of drug 'R', of replicate 3, with other features coresponding to 'xcv'\n",
    "\n",
    "##### Construction of Sample Dataset"
   ]
  },
  {
   "cell_type": "code",
   "execution_count": 1,
   "metadata": {
    "collapsed": true
   },
   "outputs": [],
   "source": [
    "import random\n",
    "import pandas as pd\n",
    "import numpy as np\n",
    "from sklearn.model_selection import train_test_split"
   ]
  },
  {
   "cell_type": "code",
   "execution_count": 2,
   "metadata": {
    "collapsed": true
   },
   "outputs": [],
   "source": [
    "genes = ['gene'+str(a) for a in range(50)]\n",
    "drugs = [chr(a) for a in range(65, 90)]\n",
    "replicates = [str(a) for a in range(1, 5)]\n",
    "other_features = set()\n",
    "\n",
    "while len(other_features)!=10:\n",
    "    rand_string = \"\". join([str(chr(int(random.random()*100)%26+97)) for a in range(3)])\n",
    "    other_features.add(rand_string)"
   ]
  },
  {
   "cell_type": "code",
   "execution_count": 3,
   "metadata": {
    "collapsed": true
   },
   "outputs": [],
   "source": [
    "columns = [\"_\".join([a,b,c]) for a in drugs for b in replicates for c in other_features]\n",
    "# columns = [\"control_\"+str(a+1) for a in range(20)] + columns"
   ]
  },
  {
   "cell_type": "code",
   "execution_count": 4,
   "metadata": {},
   "outputs": [
    {
     "data": {
      "text/plain": [
       "(50, 1000)"
      ]
     },
     "execution_count": 4,
     "metadata": {},
     "output_type": "execute_result"
    }
   ],
   "source": [
    "data = pd.DataFrame(2*np.random.rand(50, len(columns))-1, index=genes, columns=columns)\n",
    "data.columns = columns\n",
    "data.fillna(random.random(), inplace = True)\n",
    "data.shape"
   ]
  },
  {
   "cell_type": "code",
   "execution_count": 5,
   "metadata": {},
   "outputs": [
    {
     "data": {
      "text/html": [
       "<div>\n",
       "<style>\n",
       "    .dataframe thead tr:only-child th {\n",
       "        text-align: right;\n",
       "    }\n",
       "\n",
       "    .dataframe thead th {\n",
       "        text-align: left;\n",
       "    }\n",
       "\n",
       "    .dataframe tbody tr th {\n",
       "        vertical-align: top;\n",
       "    }\n",
       "</style>\n",
       "<table border=\"1\" class=\"dataframe\">\n",
       "  <thead>\n",
       "    <tr style=\"text-align: right;\">\n",
       "      <th></th>\n",
       "      <th>A_1_prm</th>\n",
       "      <th>A_1_unv</th>\n",
       "      <th>A_1_wgm</th>\n",
       "      <th>A_1_hng</th>\n",
       "      <th>A_1_cpi</th>\n",
       "      <th>A_1_ngn</th>\n",
       "      <th>A_1_jzs</th>\n",
       "      <th>A_1_hlg</th>\n",
       "      <th>A_1_hfj</th>\n",
       "      <th>A_1_vzy</th>\n",
       "      <th>...</th>\n",
       "      <th>Y_4_prm</th>\n",
       "      <th>Y_4_unv</th>\n",
       "      <th>Y_4_wgm</th>\n",
       "      <th>Y_4_hng</th>\n",
       "      <th>Y_4_cpi</th>\n",
       "      <th>Y_4_ngn</th>\n",
       "      <th>Y_4_jzs</th>\n",
       "      <th>Y_4_hlg</th>\n",
       "      <th>Y_4_hfj</th>\n",
       "      <th>Y_4_vzy</th>\n",
       "    </tr>\n",
       "  </thead>\n",
       "  <tbody>\n",
       "    <tr>\n",
       "      <th>gene0</th>\n",
       "      <td>-0.837681</td>\n",
       "      <td>-0.848637</td>\n",
       "      <td>-0.087142</td>\n",
       "      <td>-0.405961</td>\n",
       "      <td>0.004049</td>\n",
       "      <td>0.407791</td>\n",
       "      <td>-0.683858</td>\n",
       "      <td>-0.079311</td>\n",
       "      <td>0.680765</td>\n",
       "      <td>0.530237</td>\n",
       "      <td>...</td>\n",
       "      <td>-0.562764</td>\n",
       "      <td>-0.210179</td>\n",
       "      <td>0.630523</td>\n",
       "      <td>-0.117293</td>\n",
       "      <td>0.719510</td>\n",
       "      <td>0.198040</td>\n",
       "      <td>-0.498323</td>\n",
       "      <td>0.506826</td>\n",
       "      <td>0.410857</td>\n",
       "      <td>0.160310</td>\n",
       "    </tr>\n",
       "    <tr>\n",
       "      <th>gene1</th>\n",
       "      <td>0.134055</td>\n",
       "      <td>-0.035813</td>\n",
       "      <td>0.241758</td>\n",
       "      <td>0.232256</td>\n",
       "      <td>0.983380</td>\n",
       "      <td>-0.139263</td>\n",
       "      <td>0.865222</td>\n",
       "      <td>-0.829397</td>\n",
       "      <td>0.985169</td>\n",
       "      <td>0.623781</td>\n",
       "      <td>...</td>\n",
       "      <td>-0.746222</td>\n",
       "      <td>0.767714</td>\n",
       "      <td>0.262454</td>\n",
       "      <td>-0.939741</td>\n",
       "      <td>0.975793</td>\n",
       "      <td>-0.051887</td>\n",
       "      <td>0.737123</td>\n",
       "      <td>0.034843</td>\n",
       "      <td>0.282754</td>\n",
       "      <td>-0.498887</td>\n",
       "    </tr>\n",
       "    <tr>\n",
       "      <th>gene2</th>\n",
       "      <td>-0.069256</td>\n",
       "      <td>-0.966952</td>\n",
       "      <td>0.321458</td>\n",
       "      <td>-0.780353</td>\n",
       "      <td>-0.726598</td>\n",
       "      <td>0.129363</td>\n",
       "      <td>-0.122175</td>\n",
       "      <td>-0.601217</td>\n",
       "      <td>0.811797</td>\n",
       "      <td>0.014393</td>\n",
       "      <td>...</td>\n",
       "      <td>-0.747781</td>\n",
       "      <td>-0.376094</td>\n",
       "      <td>-0.764969</td>\n",
       "      <td>0.808239</td>\n",
       "      <td>-0.420177</td>\n",
       "      <td>0.626916</td>\n",
       "      <td>-0.924948</td>\n",
       "      <td>0.805889</td>\n",
       "      <td>0.881259</td>\n",
       "      <td>-0.034140</td>\n",
       "    </tr>\n",
       "    <tr>\n",
       "      <th>gene3</th>\n",
       "      <td>0.879256</td>\n",
       "      <td>0.255205</td>\n",
       "      <td>0.159366</td>\n",
       "      <td>-0.677889</td>\n",
       "      <td>-0.011056</td>\n",
       "      <td>-0.030545</td>\n",
       "      <td>-0.559349</td>\n",
       "      <td>-0.948835</td>\n",
       "      <td>0.309141</td>\n",
       "      <td>0.662506</td>\n",
       "      <td>...</td>\n",
       "      <td>0.519676</td>\n",
       "      <td>0.542734</td>\n",
       "      <td>0.782838</td>\n",
       "      <td>-0.158183</td>\n",
       "      <td>-0.794980</td>\n",
       "      <td>-0.855891</td>\n",
       "      <td>-0.311861</td>\n",
       "      <td>0.613019</td>\n",
       "      <td>0.295519</td>\n",
       "      <td>0.366462</td>\n",
       "    </tr>\n",
       "    <tr>\n",
       "      <th>gene4</th>\n",
       "      <td>0.329362</td>\n",
       "      <td>0.060296</td>\n",
       "      <td>0.840975</td>\n",
       "      <td>-0.858893</td>\n",
       "      <td>0.976929</td>\n",
       "      <td>0.764979</td>\n",
       "      <td>-0.438007</td>\n",
       "      <td>0.928542</td>\n",
       "      <td>-0.998299</td>\n",
       "      <td>-0.968178</td>\n",
       "      <td>...</td>\n",
       "      <td>-0.512103</td>\n",
       "      <td>0.450282</td>\n",
       "      <td>-0.123677</td>\n",
       "      <td>-0.209013</td>\n",
       "      <td>-0.453330</td>\n",
       "      <td>-0.886884</td>\n",
       "      <td>0.089143</td>\n",
       "      <td>-0.082960</td>\n",
       "      <td>0.040806</td>\n",
       "      <td>-0.392981</td>\n",
       "    </tr>\n",
       "  </tbody>\n",
       "</table>\n",
       "<p>5 rows × 1000 columns</p>\n",
       "</div>"
      ],
      "text/plain": [
       "        A_1_prm   A_1_unv   A_1_wgm   A_1_hng   A_1_cpi   A_1_ngn   A_1_jzs  \\\n",
       "gene0 -0.837681 -0.848637 -0.087142 -0.405961  0.004049  0.407791 -0.683858   \n",
       "gene1  0.134055 -0.035813  0.241758  0.232256  0.983380 -0.139263  0.865222   \n",
       "gene2 -0.069256 -0.966952  0.321458 -0.780353 -0.726598  0.129363 -0.122175   \n",
       "gene3  0.879256  0.255205  0.159366 -0.677889 -0.011056 -0.030545 -0.559349   \n",
       "gene4  0.329362  0.060296  0.840975 -0.858893  0.976929  0.764979 -0.438007   \n",
       "\n",
       "        A_1_hlg   A_1_hfj   A_1_vzy    ...      Y_4_prm   Y_4_unv   Y_4_wgm  \\\n",
       "gene0 -0.079311  0.680765  0.530237    ...    -0.562764 -0.210179  0.630523   \n",
       "gene1 -0.829397  0.985169  0.623781    ...    -0.746222  0.767714  0.262454   \n",
       "gene2 -0.601217  0.811797  0.014393    ...    -0.747781 -0.376094 -0.764969   \n",
       "gene3 -0.948835  0.309141  0.662506    ...     0.519676  0.542734  0.782838   \n",
       "gene4  0.928542 -0.998299 -0.968178    ...    -0.512103  0.450282 -0.123677   \n",
       "\n",
       "        Y_4_hng   Y_4_cpi   Y_4_ngn   Y_4_jzs   Y_4_hlg   Y_4_hfj   Y_4_vzy  \n",
       "gene0 -0.117293  0.719510  0.198040 -0.498323  0.506826  0.410857  0.160310  \n",
       "gene1 -0.939741  0.975793 -0.051887  0.737123  0.034843  0.282754 -0.498887  \n",
       "gene2  0.808239 -0.420177  0.626916 -0.924948  0.805889  0.881259 -0.034140  \n",
       "gene3 -0.158183 -0.794980 -0.855891 -0.311861  0.613019  0.295519  0.366462  \n",
       "gene4 -0.209013 -0.453330 -0.886884  0.089143 -0.082960  0.040806 -0.392981  \n",
       "\n",
       "[5 rows x 1000 columns]"
      ]
     },
     "execution_count": 5,
     "metadata": {},
     "output_type": "execute_result"
    }
   ],
   "source": [
    "data.head()"
   ]
  },
  {
   "cell_type": "markdown",
   "metadata": {},
   "source": [
    "##### Classifying Columns\n",
    "A label needs to be assigned to each class. This can be done at the biological replicate level or the perturbagen level. We create classifications for each of these."
   ]
  },
  {
   "cell_type": "code",
   "execution_count": 6,
   "metadata": {},
   "outputs": [],
   "source": [
    "perturbagen_class = [int(a/25) for a in range(1000)]\n",
    "replicate_class = [10*a+c for a in range(25) for b in range(4) for c in range(10)]"
   ]
  },
  {
   "cell_type": "markdown",
   "metadata": {},
   "source": [
    "##### Creating the dataset"
   ]
  },
  {
   "cell_type": "code",
   "execution_count": 7,
   "metadata": {},
   "outputs": [
    {
     "data": {
      "text/html": [
       "<div>\n",
       "<style>\n",
       "    .dataframe thead tr:only-child th {\n",
       "        text-align: right;\n",
       "    }\n",
       "\n",
       "    .dataframe thead th {\n",
       "        text-align: left;\n",
       "    }\n",
       "\n",
       "    .dataframe tbody tr th {\n",
       "        vertical-align: top;\n",
       "    }\n",
       "</style>\n",
       "<table border=\"1\" class=\"dataframe\">\n",
       "  <thead>\n",
       "    <tr style=\"text-align: right;\">\n",
       "      <th></th>\n",
       "      <th>gene0</th>\n",
       "      <th>gene1</th>\n",
       "      <th>gene2</th>\n",
       "      <th>gene3</th>\n",
       "      <th>gene4</th>\n",
       "      <th>gene5</th>\n",
       "      <th>gene6</th>\n",
       "      <th>gene7</th>\n",
       "      <th>gene8</th>\n",
       "      <th>gene9</th>\n",
       "      <th>...</th>\n",
       "      <th>gene40</th>\n",
       "      <th>gene41</th>\n",
       "      <th>gene42</th>\n",
       "      <th>gene43</th>\n",
       "      <th>gene44</th>\n",
       "      <th>gene45</th>\n",
       "      <th>gene46</th>\n",
       "      <th>gene47</th>\n",
       "      <th>gene48</th>\n",
       "      <th>gene49</th>\n",
       "    </tr>\n",
       "  </thead>\n",
       "  <tbody>\n",
       "    <tr>\n",
       "      <th>A_1_prm</th>\n",
       "      <td>-0.837681</td>\n",
       "      <td>0.134055</td>\n",
       "      <td>-0.069256</td>\n",
       "      <td>0.879256</td>\n",
       "      <td>0.329362</td>\n",
       "      <td>0.430083</td>\n",
       "      <td>-0.328941</td>\n",
       "      <td>0.142370</td>\n",
       "      <td>0.497543</td>\n",
       "      <td>-0.610296</td>\n",
       "      <td>...</td>\n",
       "      <td>-0.430143</td>\n",
       "      <td>0.948235</td>\n",
       "      <td>0.067023</td>\n",
       "      <td>-0.235707</td>\n",
       "      <td>0.598989</td>\n",
       "      <td>0.571571</td>\n",
       "      <td>0.187593</td>\n",
       "      <td>0.046400</td>\n",
       "      <td>0.510854</td>\n",
       "      <td>0.250320</td>\n",
       "    </tr>\n",
       "    <tr>\n",
       "      <th>A_1_unv</th>\n",
       "      <td>-0.848637</td>\n",
       "      <td>-0.035813</td>\n",
       "      <td>-0.966952</td>\n",
       "      <td>0.255205</td>\n",
       "      <td>0.060296</td>\n",
       "      <td>0.527317</td>\n",
       "      <td>0.264332</td>\n",
       "      <td>0.893420</td>\n",
       "      <td>-0.032422</td>\n",
       "      <td>-0.035097</td>\n",
       "      <td>...</td>\n",
       "      <td>0.574412</td>\n",
       "      <td>-0.722249</td>\n",
       "      <td>-0.443834</td>\n",
       "      <td>-0.804338</td>\n",
       "      <td>-0.135993</td>\n",
       "      <td>0.635998</td>\n",
       "      <td>0.907667</td>\n",
       "      <td>0.461371</td>\n",
       "      <td>0.992589</td>\n",
       "      <td>0.266990</td>\n",
       "    </tr>\n",
       "    <tr>\n",
       "      <th>A_1_wgm</th>\n",
       "      <td>-0.087142</td>\n",
       "      <td>0.241758</td>\n",
       "      <td>0.321458</td>\n",
       "      <td>0.159366</td>\n",
       "      <td>0.840975</td>\n",
       "      <td>0.909729</td>\n",
       "      <td>0.871960</td>\n",
       "      <td>0.380354</td>\n",
       "      <td>0.037835</td>\n",
       "      <td>-0.468677</td>\n",
       "      <td>...</td>\n",
       "      <td>0.715138</td>\n",
       "      <td>-0.978814</td>\n",
       "      <td>0.333647</td>\n",
       "      <td>-0.292106</td>\n",
       "      <td>0.461211</td>\n",
       "      <td>0.407429</td>\n",
       "      <td>0.400556</td>\n",
       "      <td>0.088992</td>\n",
       "      <td>0.264357</td>\n",
       "      <td>-0.339276</td>\n",
       "    </tr>\n",
       "    <tr>\n",
       "      <th>A_1_hng</th>\n",
       "      <td>-0.405961</td>\n",
       "      <td>0.232256</td>\n",
       "      <td>-0.780353</td>\n",
       "      <td>-0.677889</td>\n",
       "      <td>-0.858893</td>\n",
       "      <td>0.911963</td>\n",
       "      <td>-0.217289</td>\n",
       "      <td>0.364805</td>\n",
       "      <td>0.166131</td>\n",
       "      <td>0.036939</td>\n",
       "      <td>...</td>\n",
       "      <td>0.231293</td>\n",
       "      <td>-0.686190</td>\n",
       "      <td>-0.945634</td>\n",
       "      <td>-0.115836</td>\n",
       "      <td>0.895154</td>\n",
       "      <td>0.430906</td>\n",
       "      <td>0.552569</td>\n",
       "      <td>-0.931495</td>\n",
       "      <td>-0.521365</td>\n",
       "      <td>-0.993977</td>\n",
       "    </tr>\n",
       "    <tr>\n",
       "      <th>A_1_cpi</th>\n",
       "      <td>0.004049</td>\n",
       "      <td>0.983380</td>\n",
       "      <td>-0.726598</td>\n",
       "      <td>-0.011056</td>\n",
       "      <td>0.976929</td>\n",
       "      <td>0.433159</td>\n",
       "      <td>0.408588</td>\n",
       "      <td>0.987440</td>\n",
       "      <td>-0.951953</td>\n",
       "      <td>-0.503968</td>\n",
       "      <td>...</td>\n",
       "      <td>0.320173</td>\n",
       "      <td>0.101312</td>\n",
       "      <td>-0.922830</td>\n",
       "      <td>0.957474</td>\n",
       "      <td>0.075836</td>\n",
       "      <td>0.378065</td>\n",
       "      <td>-0.169205</td>\n",
       "      <td>0.798374</td>\n",
       "      <td>0.863706</td>\n",
       "      <td>-0.253660</td>\n",
       "    </tr>\n",
       "  </tbody>\n",
       "</table>\n",
       "<p>5 rows × 50 columns</p>\n",
       "</div>"
      ],
      "text/plain": [
       "            gene0     gene1     gene2     gene3     gene4     gene5     gene6  \\\n",
       "A_1_prm -0.837681  0.134055 -0.069256  0.879256  0.329362  0.430083 -0.328941   \n",
       "A_1_unv -0.848637 -0.035813 -0.966952  0.255205  0.060296  0.527317  0.264332   \n",
       "A_1_wgm -0.087142  0.241758  0.321458  0.159366  0.840975  0.909729  0.871960   \n",
       "A_1_hng -0.405961  0.232256 -0.780353 -0.677889 -0.858893  0.911963 -0.217289   \n",
       "A_1_cpi  0.004049  0.983380 -0.726598 -0.011056  0.976929  0.433159  0.408588   \n",
       "\n",
       "            gene7     gene8     gene9    ...       gene40    gene41    gene42  \\\n",
       "A_1_prm  0.142370  0.497543 -0.610296    ...    -0.430143  0.948235  0.067023   \n",
       "A_1_unv  0.893420 -0.032422 -0.035097    ...     0.574412 -0.722249 -0.443834   \n",
       "A_1_wgm  0.380354  0.037835 -0.468677    ...     0.715138 -0.978814  0.333647   \n",
       "A_1_hng  0.364805  0.166131  0.036939    ...     0.231293 -0.686190 -0.945634   \n",
       "A_1_cpi  0.987440 -0.951953 -0.503968    ...     0.320173  0.101312 -0.922830   \n",
       "\n",
       "           gene43    gene44    gene45    gene46    gene47    gene48    gene49  \n",
       "A_1_prm -0.235707  0.598989  0.571571  0.187593  0.046400  0.510854  0.250320  \n",
       "A_1_unv -0.804338 -0.135993  0.635998  0.907667  0.461371  0.992589  0.266990  \n",
       "A_1_wgm -0.292106  0.461211  0.407429  0.400556  0.088992  0.264357 -0.339276  \n",
       "A_1_hng -0.115836  0.895154  0.430906  0.552569 -0.931495 -0.521365 -0.993977  \n",
       "A_1_cpi  0.957474  0.075836  0.378065 -0.169205  0.798374  0.863706 -0.253660  \n",
       "\n",
       "[5 rows x 50 columns]"
      ]
     },
     "execution_count": 7,
     "metadata": {},
     "output_type": "execute_result"
    }
   ],
   "source": [
    "#transpose data\n",
    "workingdata = data.transpose()\n",
    "workingdata.head()"
   ]
  },
  {
   "cell_type": "code",
   "execution_count": 8,
   "metadata": {},
   "outputs": [
    {
     "data": {
      "text/plain": [
       "(500, 50)"
      ]
     },
     "execution_count": 8,
     "metadata": {},
     "output_type": "execute_result"
    }
   ],
   "source": [
    "X_train, X_test, y_train, y_test = train_test_split(workingdata, perturbagen_class, test_size=0.5)\n",
    "X_test.shape"
   ]
  },
  {
   "cell_type": "markdown",
   "metadata": {},
   "source": [
    "##### Computation - Siamese"
   ]
  },
  {
   "cell_type": "code",
   "execution_count": 9,
   "metadata": {},
   "outputs": [
    {
     "name": "stderr",
     "output_type": "stream",
     "text": [
      "/Users/dweepa/anaconda/lib/python3.6/site-packages/h5py/__init__.py:34: FutureWarning: Conversion of the second argument of issubdtype from `float` to `np.floating` is deprecated. In future, it will be treated as `np.float64 == np.dtype(float).type`.\n",
      "  from ._conv import register_converters as _register_converters\n",
      "Using TensorFlow backend.\n"
     ]
    }
   ],
   "source": [
    "import keras\n",
    "from keras.datasets import reuters\n",
    "from keras.models import Sequential, Model\n",
    "from keras.layers import Dense, Activation, Dropout, Input\n",
    "from keras.layers.noise import AlphaDropout\n",
    "from keras.preprocessing.text import Tokenizer\n",
    "from keras.layers import Layer\n",
    "from tensorflow.python.keras import backend as K"
   ]
  },
  {
   "cell_type": "code",
   "execution_count": 20,
   "metadata": {},
   "outputs": [],
   "source": [
    "max_words = 50\n",
    "batch_size = 16\n",
    "epochs = 40\n",
    "\n",
    "def create_network(n_dense=6,\n",
    "                   dense_units=16,\n",
    "                   activation='selu',\n",
    "                   dropout=AlphaDropout,\n",
    "                   dropout_rate=0.1,\n",
    "                   kernel_initializer='lecun_normal',\n",
    "                   optimizer='adam',\n",
    "                   num_classes=1,\n",
    "                   max_words=max_words):\n",
    "    \n",
    "    model = Sequential()\n",
    "    model.add(Dense(dense_units, input_shape=(max_words,),\n",
    "                    kernel_initializer=kernel_initializer))\n",
    "    model.add(Activation(activation))\n",
    "    model.add(dropout(dropout_rate))\n",
    "\n",
    "    for i in range(n_dense - 1):\n",
    "        model.add(Dense(dense_units, kernel_initializer=kernel_initializer))\n",
    "        model.add(Activation(activation))\n",
    "        model.add(dropout(dropout_rate))\n",
    "\n",
    "    #model.add(Dense(num_classes))\n",
    "    #model.add(Activation('softmax'))\n",
    "    return model"
   ]
  },
  {
   "cell_type": "code",
   "execution_count": 21,
   "metadata": {},
   "outputs": [],
   "source": [
    "network = {\n",
    "    'n_dense': 6,\n",
    "    'dense_units': 16,\n",
    "    'activation': 'selu',\n",
    "    'dropout': AlphaDropout,\n",
    "    'dropout_rate': 0.1,\n",
    "    'kernel_initializer': 'lecun_normal',\n",
    "    'optimizer': 'sgd',\n",
    "    'num_classes':40\n",
    "}"
   ]
  },
  {
   "cell_type": "code",
   "execution_count": 22,
   "metadata": {
    "collapsed": true
   },
   "outputs": [],
   "source": [
    "model = create_network(**network)"
   ]
  },
  {
   "cell_type": "code",
   "execution_count": 23,
   "metadata": {},
   "outputs": [],
   "source": [
    "class ManDist(Layer):\n",
    "    \n",
    "    # initialize the layer, No need to include inputs parameter!\n",
    "    def __init__(self, **kwargs):\n",
    "        self.result = None\n",
    "        super(ManDist, self).__init__(**kwargs)\n",
    "\n",
    "    # input_shape will automatic collect input shapes to build layer\n",
    "    def build(self, input_shape):\n",
    "        super(ManDist, self).build(input_shape)\n",
    "\n",
    "    # This is where the layer's logic lives.\n",
    "    def call(self, x, **kwargs):\n",
    "        self.result = K.sum(K.abs(x[0] - x[1]), axis=1, keepdims=True)\n",
    "        return self.result\n",
    "\n",
    "    # return output shape\n",
    "    def compute_output_shape(self, input_shape):\n",
    "        return K.int_shape(self.result)"
   ]
  },
  {
   "cell_type": "code",
   "execution_count": 24,
   "metadata": {},
   "outputs": [],
   "source": [
    "left_input = Input(shape=(max_words,))\n",
    "right_input = Input(shape=(max_words,))"
   ]
  },
  {
   "cell_type": "code",
   "execution_count": 25,
   "metadata": {},
   "outputs": [],
   "source": [
    "# Model variables\n",
    "shared_model = model"
   ]
  },
  {
   "cell_type": "code",
   "execution_count": 26,
   "metadata": {},
   "outputs": [],
   "source": [
    "#TypeError: unsupported operand type(s) for +: 'NoneType' and 'int'- embedding layer is required\n",
    "#Node error -> from keras not from tf.python.keras\n",
    "#Input 'b' of 'MatMul' Op has type float32 that does not match type int32 of argument 'a'. ->\n",
    "malstm_distance = ManDist()([shared_model(left_input), shared_model(right_input)])\n",
    "model = Model(inputs=[left_input, right_input], outputs=[malstm_distance])"
   ]
  },
  {
   "cell_type": "code",
   "execution_count": 27,
   "metadata": {},
   "outputs": [
    {
     "name": "stdout",
     "output_type": "stream",
     "text": [
      "__________________________________________________________________________________________________\n",
      "Layer (type)                    Output Shape         Param #     Connected to                     \n",
      "==================================================================================================\n",
      "input_3 (InputLayer)            (None, 50)           0                                            \n",
      "__________________________________________________________________________________________________\n",
      "input_4 (InputLayer)            (None, 50)           0                                            \n",
      "__________________________________________________________________________________________________\n",
      "sequential_2 (Sequential)       (None, 16)           2176        input_3[0][0]                    \n",
      "                                                                 input_4[0][0]                    \n",
      "__________________________________________________________________________________________________\n",
      "man_dist_2 (ManDist)            (None, 1)            0           sequential_2[1][0]               \n",
      "                                                                 sequential_2[2][0]               \n",
      "==================================================================================================\n",
      "Total params: 2,176\n",
      "Trainable params: 2,176\n",
      "Non-trainable params: 0\n",
      "__________________________________________________________________________________________________\n",
      "_________________________________________________________________\n",
      "Layer (type)                 Output Shape              Param #   \n",
      "=================================================================\n",
      "dense_7 (Dense)              (None, 16)                816       \n",
      "_________________________________________________________________\n",
      "activation_7 (Activation)    (None, 16)                0         \n",
      "_________________________________________________________________\n",
      "alpha_dropout_7 (AlphaDropou (None, 16)                0         \n",
      "_________________________________________________________________\n",
      "dense_8 (Dense)              (None, 16)                272       \n",
      "_________________________________________________________________\n",
      "activation_8 (Activation)    (None, 16)                0         \n",
      "_________________________________________________________________\n",
      "alpha_dropout_8 (AlphaDropou (None, 16)                0         \n",
      "_________________________________________________________________\n",
      "dense_9 (Dense)              (None, 16)                272       \n",
      "_________________________________________________________________\n",
      "activation_9 (Activation)    (None, 16)                0         \n",
      "_________________________________________________________________\n",
      "alpha_dropout_9 (AlphaDropou (None, 16)                0         \n",
      "_________________________________________________________________\n",
      "dense_10 (Dense)             (None, 16)                272       \n",
      "_________________________________________________________________\n",
      "activation_10 (Activation)   (None, 16)                0         \n",
      "_________________________________________________________________\n",
      "alpha_dropout_10 (AlphaDropo (None, 16)                0         \n",
      "_________________________________________________________________\n",
      "dense_11 (Dense)             (None, 16)                272       \n",
      "_________________________________________________________________\n",
      "activation_11 (Activation)   (None, 16)                0         \n",
      "_________________________________________________________________\n",
      "alpha_dropout_11 (AlphaDropo (None, 16)                0         \n",
      "_________________________________________________________________\n",
      "dense_12 (Dense)             (None, 16)                272       \n",
      "_________________________________________________________________\n",
      "activation_12 (Activation)   (None, 16)                0         \n",
      "_________________________________________________________________\n",
      "alpha_dropout_12 (AlphaDropo (None, 16)                0         \n",
      "=================================================================\n",
      "Total params: 2,176\n",
      "Trainable params: 2,176\n",
      "Non-trainable params: 0\n",
      "_________________________________________________________________\n"
     ]
    }
   ],
   "source": [
    "model.compile(loss='mean_squared_error', optimizer=\"adam\", metrics=['accuracy'])\n",
    "model.summary()\n",
    "shared_model.summary()"
   ]
  },
  {
   "cell_type": "code",
   "execution_count": 28,
   "metadata": {
    "scrolled": true
   },
   "outputs": [
    {
     "name": "stdout",
     "output_type": "stream",
     "text": [
      "Epoch 1/10\n",
      "500/500 [==============================] - 1s 2ms/step - loss: 151.8171 - acc: 0.0240\n",
      "Epoch 2/10\n",
      "500/500 [==============================] - 0s 134us/step - loss: 154.5742 - acc: 0.0240\n",
      "Epoch 3/10\n",
      "500/500 [==============================] - 0s 132us/step - loss: 150.2509 - acc: 0.0200\n",
      "Epoch 4/10\n",
      "500/500 [==============================] - 0s 148us/step - loss: 148.5489 - acc: 0.0340\n",
      "Epoch 5/10\n",
      "500/500 [==============================] - 0s 153us/step - loss: 151.4181 - acc: 0.0360\n",
      "Epoch 6/10\n",
      "500/500 [==============================] - 0s 137us/step - loss: 159.4542 - acc: 0.0240\n",
      "Epoch 7/10\n",
      "500/500 [==============================] - 0s 137us/step - loss: 147.5819 - acc: 0.0320\n",
      "Epoch 8/10\n",
      "500/500 [==============================] - 0s 138us/step - loss: 153.8733 - acc: 0.0280\n",
      "Epoch 9/10\n",
      "500/500 [==============================] - 0s 122us/step - loss: 146.9377 - acc: 0.0280\n",
      "Epoch 10/10\n",
      "500/500 [==============================] - 0s 131us/step - loss: 155.7830 - acc: 0.0240\n"
     ]
    }
   ],
   "source": [
    "#ValueError: Error when checking target: expected man_dist_1 to have shape (1,) but got array with shape (46,)\n",
    "#==> need to convert code to suit multi-class\n",
    "\n",
    "malstm_trained = model.fit([X_train,X_test], y_train, epochs=10, verbose=1)"
   ]
  },
  {
   "cell_type": "code",
   "execution_count": 30,
   "metadata": {},
   "outputs": [
    {
     "name": "stdout",
     "output_type": "stream",
     "text": [
      "500/500 [==============================] - 0s 500us/step\n",
      "[[22.66892 ]\n",
      " [ 9.096903]\n",
      " [16.879007]\n",
      " [12.323569]\n",
      " [11.885744]]\n"
     ]
    }
   ],
   "source": [
    "prediction = model.predict([X_test,X_train],verbose=1)\n",
    "print(prediction[0:5])"
   ]
  },
  {
   "cell_type": "code",
   "execution_count": 33,
   "metadata": {},
   "outputs": [
    {
     "name": "stdout",
     "output_type": "stream",
     "text": [
      "500/500 [==============================] - 0s 482us/step\n"
     ]
    },
    {
     "data": {
      "text/plain": [
       "[164.97259533691405, 0.01600000002980232]"
      ]
     },
     "execution_count": 33,
     "metadata": {},
     "output_type": "execute_result"
    }
   ],
   "source": [
    "score = model.evaluate([X_test,X_train],y_train,verbose=1)\n",
    "score"
   ]
  },
  {
   "cell_type": "code",
   "execution_count": null,
   "metadata": {
    "collapsed": true
   },
   "outputs": [],
   "source": []
  }
 ],
 "metadata": {
  "kernelspec": {
   "display_name": "Python 3",
   "language": "python",
   "name": "python3"
  },
  "language_info": {
   "codemirror_mode": {
    "name": "ipython",
    "version": 3
   },
   "file_extension": ".py",
   "mimetype": "text/x-python",
   "name": "python",
   "nbconvert_exporter": "python",
   "pygments_lexer": "ipython3",
   "version": "3.6.8"
  }
 },
 "nbformat": 4,
 "nbformat_minor": 2
}
