{
 "cells": [
  {
   "cell_type": "markdown",
   "metadata": {},
   "source": [
    "<img style=\"float: left;\" src=\"https://cdn.pixabay.com/photo/2016/12/07/09/45/dna-1889085__340.jpg\" width=10%> <h1> Application of AI to Discover Novel Binding of Small Molecules </h1>"
   ]
  },
  {
   "cell_type": "markdown",
   "metadata": {},
   "source": [
    "---------\n",
    "### Sample Dataset for Testing Purposes\n",
    "\n",
    "##### Here we create a sample dataset for two reason:\n",
    "- to get a better understanding of the structure of the data\n",
    "- test any sample code for validity\n",
    "\n",
    "##### Structure of sample dataset:\n",
    "1. A dataframe of consisting of 50 genes and 1020 profiles [50 x 1020]\n",
    "2. Columns are a combination of drug, replicate, time, concentration, probe_location, cell type. For the purposes of this project only drug and replicate matters in terms of training. So the column name will be structed as\n",
    "\"*drug + replicate id + unique characters that represent time, concentration, probe_location and cell type*\"\n",
    "3. 20 columns consist of control genes or 'control probes'. Columns are labelled control_x where x is a number from 1 to 20\n",
    "3. Dataset consists of 25 drugs with 4 replicates and 10 combinations of time, concentration, probe_location and cell type\n",
    "\n",
    "| Feature      | Quantity | Represented By |\n",
    "| ----------- | ----------- | ----------- |\n",
    "| Drug      | 25       | Alphabets A-Y |\n",
    "| Replicate   | 4        | Numbers 1-4 |\n",
    "| Other features   | 10        | Random String of length 3 |\n",
    "\n",
    "***R_3_xcv*** represents a profile of drug 'R', of replicate 3, with other features coresponding to "
   ]
  },
  {
   "cell_type": "code",
   "execution_count": null,
   "metadata": {},
   "outputs": [],
   "source": []
  }
 ],
 "metadata": {
  "kernelspec": {
   "display_name": "Python 3",
   "language": "python",
   "name": "python3"
  },
  "language_info": {
   "codemirror_mode": {
    "name": "ipython",
    "version": 3
   },
   "file_extension": ".py",
   "mimetype": "text/x-python",
   "name": "python",
   "nbconvert_exporter": "python",
   "pygments_lexer": "ipython3",
   "version": "3.6.5"
  }
 },
 "nbformat": 4,
 "nbformat_minor": 2
}
