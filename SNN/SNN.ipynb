{
 "cells": [
  {
   "cell_type": "markdown",
   "metadata": {},
   "source": [
    "# SNN"
   ]
  },
  {
   "cell_type": "markdown",
   "metadata": {},
   "source": [
    "--------------------------\n",
    "## Personal\n",
    "#### Things to Do:\n",
    "- (DONE) L2 normalisation gives slower training so that line has been commented out.Need to figure out why that's happening and if it is normal\n",
    "- (DONE) Implement modified softmax\n",
    "- (DONE) Combine DenseNet and Modified Softmax\n",
    "- Figure out class weights and incorporate that\n",
    "- check if alpha needs a relu (only with actual embeddings)\n",
    "- Batching the training\n",
    "- Logging information nicely\n",
    "--------------------------\n",
    "\n",
    "## Resources and Information\n",
    "\n",
    "Additive margin loss: https://arxiv.org/pdf/1801.05599.pdf\n",
    "<br>Large margin softmax: https://arxiv.org/pdf/1612.02295.pdf https://github.com/auroua/L_Softmax_TensorFlow/blob/master/nets/l_softmax.py\n",
    "\n",
    "--------------------------\n",
    "\n",
    "## Code\n",
    "--------------------------"
   ]
  },
  {
   "cell_type": "code",
   "execution_count": 31,
   "metadata": {},
   "outputs": [],
   "source": [
    "import tensorflow as tf\n",
    "import numpy as np\n",
    "from tensorflow import keras\n",
    "from keras.datasets import mnist\n",
    "from sklearn.preprocessing import normalize\n",
    "import matplotlib.pyplot as plt"
   ]
  },
  {
   "cell_type": "markdown",
   "metadata": {},
   "source": [
    "### MNIST Data"
   ]
  },
  {
   "cell_type": "code",
   "execution_count": 6,
   "metadata": {
    "collapsed": true
   },
   "outputs": [],
   "source": [
    "(x_train_mnist, y_train_mnist), (x_test_mnist, y_test_mnist) = mnist.load_data()\n",
    "x_train_mnist = x_train_mnist.reshape(x_train_mnist.shape[0], 784)\n",
    "x_test_mnist = x_test_mnist.reshape(x_test_mnist.shape[0], 784)\n",
    "x_train_mnist = x_train_mnist.astype('float32')\n",
    "x_test_mnist = x_test_mnist.astype('float32')\n",
    "x_train_mnist /= 255\n",
    "x_test_mnist /= 255\n",
    "\n",
    "data_size = 5000\n",
    "\n",
    "X_mnist = x_train_mnist[:data_size]\n",
    "y_mnist = y_train_mnist[:data_size]\n",
    "\n",
    "y_onehot_mnist = np.zeros([data_size, 10])\n",
    "y_onehot_test_mnist = np.zeros([len(y_test_mnist), 10])\n",
    "\n",
    "for a in range(data_size):\n",
    "    y_onehot_mnist[a][y_mnist[a]] = 1\n",
    "for a in range(len(y_test_mnist)):\n",
    "    y_onehot_test_mnist[a][y_test_mnist[a]] = 1"
   ]
  },
  {
   "cell_type": "markdown",
   "metadata": {},
   "source": [
    "### Network Parameters"
   ]
  },
  {
   "cell_type": "code",
   "execution_count": 88,
   "metadata": {},
   "outputs": [],
   "source": [
    "input_size = 28*28\n",
    "n_layers = 10\n",
    "n_classes = 10\n",
    "n_units = 30\n",
    "batch_size = 50\n",
    "epochs = 50\n",
    "learning_rate = 0.05"
   ]
  },
  {
   "cell_type": "markdown",
   "metadata": {},
   "source": [
    "### Accuracy Function"
   ]
  },
  {
   "cell_type": "code",
   "execution_count": 89,
   "metadata": {},
   "outputs": [],
   "source": [
    "def accuracy(predictions, labels):\n",
    "    return (100.0 * np.sum(np.argmax(predictions, 1) == np.argmax(labels, 1))/ predictions.shape[0])"
   ]
  },
  {
   "cell_type": "markdown",
   "metadata": {},
   "source": [
    "### Dense Network with Softmax on Onehot Encoding"
   ]
  },
  {
   "cell_type": "code",
   "execution_count": 90,
   "metadata": {},
   "outputs": [],
   "source": [
    "tf.reset_default_graph()\n",
    "\n",
    "inputs = tf.placeholder(tf.float32, [None, input_size])\n",
    "original_input = inputs\n",
    "labels = tf.placeholder(tf.float32, [None, n_classes])\n",
    "\n",
    "for a in range(n_layers):\n",
    "    layer = tf.layers.dense(inputs, n_units, 'selu', name='layer'+str(a))\n",
    "    inputs = tf.concat([inputs, layer], 1, name='concatenation'+str(a))\n",
    "\n",
    "logits = tf.layers.dense(inputs, n_classes, None, name='output')\n",
    "logits = tf.math.l2_normalize(logits, axis=1)\n",
    "\n",
    "loss = tf.reduce_mean(tf.nn.softmax_cross_entropy_with_logits(logits=logits, labels=labels))\n",
    "\n",
    "predictions = tf.nn.softmax(logits)\n",
    "\n",
    "optimizer = tf.train.AdamOptimizer(learning_rate).minimize(loss)"
   ]
  },
  {
   "cell_type": "markdown",
   "metadata": {},
   "source": [
    "### Running the Network"
   ]
  },
  {
   "cell_type": "code",
   "execution_count": 91,
   "metadata": {},
   "outputs": [
    {
     "name": "stdout",
     "output_type": "stream",
     "text": [
      "Initialized\n",
      "Epoch: 1 \tLoss: 2.3991852 \tAccuracy: 7.22\n",
      "Epoch: 2 \tLoss: 1.9697156 \tAccuracy: 46.56\n",
      "Epoch: 3 \tLoss: 2.2053034 \tAccuracy: 26.2\n",
      "Epoch: 4 \tLoss: 2.1088948 \tAccuracy: 33.92\n",
      "Epoch: 5 \tLoss: 2.1498044 \tAccuracy: 17.34\n",
      "Epoch: 6 \tLoss: 1.9769281 \tAccuracy: 41.06\n",
      "Epoch: 7 \tLoss: 1.9603381 \tAccuracy: 40.24\n",
      "Epoch: 8 \tLoss: 1.8726305 \tAccuracy: 58.4\n",
      "Epoch: 9 \tLoss: 1.849096 \tAccuracy: 63.82\n",
      "Epoch: 10 \tLoss: 1.8369582 \tAccuracy: 58.68\n",
      "Epoch: 11 \tLoss: 1.7982334 \tAccuracy: 63.4\n",
      "Epoch: 12 \tLoss: 1.7612938 \tAccuracy: 69.42\n",
      "Epoch: 13 \tLoss: 1.7339334 \tAccuracy: 71.58\n",
      "Epoch: 14 \tLoss: 1.7136658 \tAccuracy: 71.48\n",
      "Epoch: 15 \tLoss: 1.7003529 \tAccuracy: 72.0\n",
      "Epoch: 16 \tLoss: 1.6790887 \tAccuracy: 75.78\n",
      "Epoch: 17 \tLoss: 1.6647344 \tAccuracy: 75.64\n",
      "Epoch: 18 \tLoss: 1.651609 \tAccuracy: 77.26\n",
      "Epoch: 19 \tLoss: 1.6402272 \tAccuracy: 77.88\n",
      "Epoch: 20 \tLoss: 1.6242397 \tAccuracy: 79.28\n",
      "Epoch: 21 \tLoss: 1.6138338 \tAccuracy: 80.88\n",
      "Epoch: 22 \tLoss: 1.6025642 \tAccuracy: 84.2\n",
      "Epoch: 23 \tLoss: 1.5948198 \tAccuracy: 85.5\n",
      "Epoch: 24 \tLoss: 1.585157 \tAccuracy: 85.76\n",
      "Epoch: 25 \tLoss: 1.5751201 \tAccuracy: 86.5\n",
      "Epoch: 26 \tLoss: 1.5621675 \tAccuracy: 87.48\n",
      "Epoch: 27 \tLoss: 1.5526254 \tAccuracy: 88.26\n",
      "Epoch: 28 \tLoss: 1.5432389 \tAccuracy: 88.96\n",
      "Epoch: 29 \tLoss: 1.5339469 \tAccuracy: 89.66\n",
      "Epoch: 30 \tLoss: 1.5243744 \tAccuracy: 90.48\n",
      "Epoch: 31 \tLoss: 1.516779 \tAccuracy: 91.08\n",
      "Epoch: 32 \tLoss: 1.5096487 \tAccuracy: 91.64\n",
      "Epoch: 33 \tLoss: 1.5047314 \tAccuracy: 91.94\n",
      "Epoch: 34 \tLoss: 1.5006144 \tAccuracy: 92.58\n",
      "Epoch: 35 \tLoss: 1.4965 \tAccuracy: 93.04\n",
      "Epoch: 36 \tLoss: 1.4932555 \tAccuracy: 93.22\n",
      "Epoch: 37 \tLoss: 1.489196 \tAccuracy: 93.68\n",
      "Epoch: 38 \tLoss: 1.4857572 \tAccuracy: 93.98\n",
      "Epoch: 39 \tLoss: 1.4818305 \tAccuracy: 94.4\n",
      "Epoch: 40 \tLoss: 1.4784921 \tAccuracy: 94.62\n",
      "Epoch: 41 \tLoss: 1.4750435 \tAccuracy: 94.92\n",
      "Epoch: 42 \tLoss: 1.4724237 \tAccuracy: 95.42\n",
      "Epoch: 43 \tLoss: 1.4699309 \tAccuracy: 95.58\n",
      "Epoch: 44 \tLoss: 1.4675587 \tAccuracy: 95.72\n",
      "Epoch: 45 \tLoss: 1.4655123 \tAccuracy: 95.94\n",
      "Epoch: 46 \tLoss: 1.4632334 \tAccuracy: 96.06\n",
      "Epoch: 47 \tLoss: 1.4613144 \tAccuracy: 96.3\n",
      "Epoch: 48 \tLoss: 1.4598792 \tAccuracy: 96.42\n",
      "Epoch: 49 \tLoss: 1.4588577 \tAccuracy: 96.58\n",
      "Epoch: 50 \tLoss: 1.4583734 \tAccuracy: 96.52\n",
      "Test Accuracy:  90.61\n"
     ]
    }
   ],
   "source": [
    "with tf.Session() as session:\n",
    "    tf.initialize_all_variables().run()\n",
    "    print(\"Initialized\")\n",
    "\n",
    "    for a in range(epochs):\n",
    "        _, l, p = session.run([optimizer, loss, predictions], \n",
    "                              feed_dict={original_input:X_mnist, labels:y_onehot_mnist})\n",
    "\n",
    "        if a%50==0 or 1:\n",
    "            print(\"Epoch:\", a+1, \"\\tLoss:\", l, \"\\tAccuracy:\", accuracy(p, y_onehot_mnist))\n",
    "\n",
    "    test_p = session.run(predictions, feed_dict={original_input:x_test_mnist, labels:y_onehot_test_mnist})\n",
    "\n",
    "    print(\"Test Accuracy: \", accuracy(test_p, y_onehot_test_mnist))\n",
    "\n",
    "    \n",
    "    tf.summary.FileWriter('./logs', session.graph)"
   ]
  },
  {
   "cell_type": "markdown",
   "metadata": {},
   "source": [
    "### Modified Softmax Function"
   ]
  },
  {
   "cell_type": "code",
   "execution_count": 79,
   "metadata": {},
   "outputs": [
    {
     "name": "stdout",
     "output_type": "stream",
     "text": [
      "3.3053637 [0.30579776]\n",
      "3.3053641 [0.30563483]\n",
      "3.3053648 [0.3054718]\n",
      "3.3053656 [0.3053087]\n",
      "3.3053658 [0.3051455]\n",
      "3.3053665 [0.30498222]\n",
      "3.3053672 [0.30481884]\n",
      "3.3053672 [0.30465537]\n",
      "3.305368 [0.30449182]\n",
      "3.3053682 [0.30432817]\n"
     ]
    }
   ],
   "source": [
    "embedding_length = 12\n",
    "number_of_samples = 22\n",
    "number_of_classes = 27\n",
    "\n",
    "tf.reset_default_graph()\n",
    "\n",
    "labels = tf.placeholder(tf.int32, [None], name='labels')\n",
    "\n",
    "embeddings = tf.placeholder(tf.float32, [None, embedding_length])\n",
    "norm_embeddings = tf.nn.l2_normalize(embeddings, axis=1, name='embeddings')\n",
    "\n",
    "class_weights = tf.constant(normalize(np.random.rand(embedding_length, number_of_classes)), dtype=tf.float32,\n",
    "                           name='class_weights')\n",
    "\n",
    "margin = tf.placeholder(tf.float32, name='margin')\n",
    "\n",
    "alpha_initial = tf.get_variable(dtype=tf.float32, initializer=tf.constant(np.random.rand(1), dtype='float32'), name='alpha')\n",
    "alpha = tf.nn.relu(alpha_initial)\n",
    "\n",
    "cosines = tf.matmul(norm_embeddings, class_weights, name='cosines')\n",
    "onehot_label = tf.one_hot(labels, number_of_classes, name='labels_onehot')\n",
    "m_onehot = tf.math.multiply(margin, onehot_label, name='mxonehot')\n",
    "margin_cosine = tf.subtract(cosines, m_onehot, name='cosine-m')\n",
    "alpha_margin_cosine = tf.math.exp(tf.math.multiply(alpha, margin_cosine), name='alphaxc-m')\n",
    "amc_numerator = tf.reduce_sum(tf.multiply(alpha_margin_cosine, onehot_label), axis=1, name='amc_positive')\n",
    "amc_denominator = tf.reduce_sum(alpha_margin_cosine, axis=1, name='amc_total')\n",
    "amc_fraction = tf.divide(amc_numerator, amc_denominator, name='amc_fraction')\n",
    "log_amcf = -tf.log(amc_fraction, name='log_amc')\n",
    "loss = tf.reduce_mean(log_amcf, name='loss')\n",
    "\n",
    "m = 0\n",
    "m_change = 0.00002\n",
    "m_max = 25\n",
    "\n",
    "optimizer = tf.train.GradientDescentOptimizer(learning_rate).minimize(loss)\n",
    "\n",
    "with tf.Session() as session:\n",
    "    feed_dict={embeddings:np.random.rand(number_of_samples, embedding_length),\n",
    "                                     labels: np.random.randint(0, number_of_classes, number_of_samples),\n",
    "                                      margin: m}\n",
    "    alpha_initial.initializer.run()\n",
    "    \n",
    "    for a in range(10):\n",
    "        l, o, a = session.run([loss, optimizer, alpha], feed_dict=feed_dict)\n",
    "        print(l, a)\n",
    "        feed_dict[margin] = min(feed_dict[margin]+m_change, m_max)\n",
    "    tf.summary.FileWriter('./logs', session.graph)"
   ]
  },
  {
   "cell_type": "markdown",
   "metadata": {},
   "source": [
    "### DenseNet with Modified Softmax Function"
   ]
  },
  {
   "cell_type": "code",
   "execution_count": 92,
   "metadata": {},
   "outputs": [],
   "source": [
    "input_size = 28*28\n",
    "n_layers = 10\n",
    "n_classes = 10\n",
    "n_units = 12\n",
    "batch_size = 50\n",
    "epochs = 50\n",
    "learning_rate = 0.005\n",
    "\n",
    "embedding_length = 12\n",
    "number_of_samples = 300"
   ]
  },
  {
   "cell_type": "code",
   "execution_count": 93,
   "metadata": {},
   "outputs": [],
   "source": [
    "tf.reset_default_graph()\n",
    "\n",
    "inputs = tf.placeholder(tf.float32, [None, input_size], name='gene_expression')\n",
    "original_input = inputs\n",
    "labels = tf.placeholder(tf.int32, [None], name='labels')\n",
    "\n",
    "for a in range(n_layers):\n",
    "    layer = tf.layers.dense(inputs, n_units, 'selu', name='layer'+str(a))\n",
    "    inputs = tf.concat([inputs, layer], 1, name='concatenation'+str(a))\n",
    "\n",
    "embeddings = tf.layers.dense(inputs, embedding_length, None, name='embedding')\n",
    "norm_embeddings = tf.nn.l2_normalize(embeddings, axis=1, name='norm_embeddings')\n",
    "\n",
    "class_weights = tf.constant(normalize(np.random.rand(embedding_length, n_classes)), dtype=tf.float32,\n",
    "                           name='class_weights')\n",
    "\n",
    "margin = tf.placeholder(tf.float32, name='margin')\n",
    "\n",
    "alpha_initial = tf.get_variable(dtype=tf.float32, initializer=tf.constant(np.random.rand(1), dtype='float32'), \n",
    "                                name='alpha')\n",
    "alpha = tf.nn.relu(alpha_initial)\n",
    "\n",
    "cosines = tf.matmul(norm_embeddings, class_weights, name='cosines')\n",
    "onehot_label = tf.one_hot(labels, n_classes, name='labels_onehot')\n",
    "m_onehot = tf.math.multiply(margin, onehot_label, name='mxonehot')\n",
    "margin_cosine = tf.subtract(cosines, m_onehot, name='cosine-m')\n",
    "alpha_margin_cosine = tf.math.exp(tf.math.multiply(alpha, margin_cosine), name='alphaxc-m')\n",
    "amc_numerator = tf.reduce_sum(tf.multiply(alpha_margin_cosine, onehot_label), axis=1, name='amc_positive')\n",
    "amc_denominator = tf.reduce_sum(alpha_margin_cosine, axis=1, name='amc_total')\n",
    "amc_fraction = tf.divide(amc_numerator, amc_denominator, name='amc_fraction')\n",
    "log_amcf = -tf.log(amc_fraction, name='log_amc')\n",
    "loss = tf.reduce_mean(log_amcf, name='loss')\n",
    "\n",
    "m = 0\n",
    "m_change = 0.00002\n",
    "m_max = 25\n",
    "\n",
    "optimizer = tf.train.AdamOptimizer(learning_rate).minimize(loss)"
   ]
  },
  {
   "cell_type": "code",
   "execution_count": 98,
   "metadata": {
    "scrolled": false
   },
   "outputs": [
    {
     "name": "stdout",
     "output_type": "stream",
     "text": [
      "Initialized\n",
      "Epoch: 1 \tLoss: 2.3018057\n",
      "Epoch: 51 \tLoss: 2.1486962\n",
      "Epoch: 101 \tLoss: 2.0130262\n",
      "Epoch: 151 \tLoss: 1.8926766\n",
      "Epoch: 201 \tLoss: 1.7824774\n",
      "Epoch: 251 \tLoss: 1.6803116\n",
      "Epoch: 301 \tLoss: 1.6004846\n",
      "Epoch: 351 \tLoss: 1.5030854\n",
      "Epoch: 401 \tLoss: 1.4158542\n",
      "Epoch: 451 \tLoss: 1.3359962\n",
      "Epoch: 501 \tLoss: 1.2616202\n",
      "Epoch: 551 \tLoss: 1.1921333\n",
      "Epoch: 601 \tLoss: 1.1273557\n",
      "Epoch: 651 \tLoss: 1.0669711\n",
      "Epoch: 701 \tLoss: 1.0107015\n",
      "Epoch: 751 \tLoss: 0.95831007\n",
      "Epoch: 801 \tLoss: 0.90945154\n",
      "Epoch: 851 \tLoss: 0.8639754\n",
      "Epoch: 901 \tLoss: 0.82161486\n",
      "Epoch: 951 \tLoss: 0.7821442\n"
     ]
    }
   ],
   "source": [
    "with tf.Session() as session:\n",
    "    feed_dict={original_input:np.random.rand(number_of_samples, input_size),\n",
    "                                     labels: np.random.randint(0, n_classes, number_of_samples),\n",
    "                                      margin: m}\n",
    "    \n",
    "    feed_dict={original_input:X_mnist, labels: y_mnist, margin: m}\n",
    "    \n",
    "    \n",
    "    alpha_initial.initializer.run()\n",
    "    tf.initialize_all_variables().run()\n",
    "    print(\"Initialized\")\n",
    "    losses = []\n",
    "    for a in range(1000):\n",
    "        _, l = session.run([optimizer, loss], feed_dict=feed_dict)\n",
    "        if a%50==0:\n",
    "            print(\"Epoch:\", a+1, \"\\tLoss:\", l)\n",
    "        losses.append(l)\n",
    "        feed_dict[margin] = min(feed_dict[margin]+m_change, m_max)\n",
    "    tf.summary.FileWriter('./logs', session.graph)"
   ]
  },
  {
   "cell_type": "code",
   "execution_count": 97,
   "metadata": {},
   "outputs": [
    {
     "data": {
      "image/png": "[encoded data removed]",
      "text/plain": [
       "<Figure size 432x288 with 1 Axes>"
      ]
     },
     "metadata": {},
     "output_type": "display_data"
    }
   ],
   "source": [
    "plt.plot(np.arange(len(losses)), losses)\n",
    "plt.show()"
   ]
  },
  {
   "cell_type": "code",
   "execution_count": null,
   "metadata": {
    "collapsed": true
   },
   "outputs": [],
   "source": []
  },
  {
   "cell_type": "code",
   "execution_count": null,
   "metadata": {
    "collapsed": true
   },
   "outputs": [],
   "source": []
  }
 ],
 "metadata": {
  "kernelspec": {
   "display_name": "Python 3",
   "language": "python",
   "name": "python3"
  },
  "language_info": {
   "codemirror_mode": {
    "name": "ipython",
    "version": 3
   },
   "file_extension": ".py",
   "mimetype": "text/x-python",
   "name": "python",
   "nbconvert_exporter": "python",
   "pygments_lexer": "ipython3",
   "version": "3.6.8"
  }
 },
 "nbformat": 4,
 "nbformat_minor": 2
}
