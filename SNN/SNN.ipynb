{
 "cells": [
  {
   "cell_type": "markdown",
   "metadata": {},
   "source": [
    "# SNN"
   ]
  },
  {
   "cell_type": "markdown",
   "metadata": {},
   "source": [
    "--------------------------\n",
    "## Personal\n",
    "#### Things to Do:\n",
    "- (DONE) L2 normalisation gives slower training so that line has been commented out.Need to figure out why that's happening and if it is normal\n",
    "- (DONE) Implement modified softmax\n",
    "- (DONE) Combine DenseNet and Modified Softmax\n",
    "- Figure out class weights and incorporate that\n",
    "- check if alpha needs a relu (only with actual embeddings)\n",
    "- (DONE)Batching the training\n",
    "- (DONE)Logging information nicely\n",
    "- (DONE)Write out embeddings into a file for all the profiles\n",
    "--------------------------\n",
    "\n",
    "## Resources and Information\n",
    "\n",
    "Additive margin loss: https://arxiv.org/pdf/1801.05599.pdf\n",
    "<br>Large margin softmax: https://arxiv.org/pdf/1612.02295.pdf https://github.com/auroua/L_Softmax_TensorFlow/blob/master/nets/l_softmax.py\n",
    "\n",
    "--------------------------\n",
    "\n",
    "## Code\n",
    "--------------------------"
   ]
  },
  {
   "cell_type": "code",
   "execution_count": 1,
   "metadata": {},
   "outputs": [
    {
     "name": "stderr",
     "output_type": "stream",
     "text": [
      "/home/kavya/anaconda3/lib/python3.6/site-packages/h5py/__init__.py:36: FutureWarning: Conversion of the second argument of issubdtype from `float` to `np.floating` is deprecated. In future, it will be treated as `np.float64 == np.dtype(float).type`.\n",
      "  from ._conv import register_converters as _register_converters\n",
      "Using TensorFlow backend.\n"
     ]
    }
   ],
   "source": [
    "import tensorflow as tf\n",
    "import numpy as np\n",
    "from tensorflow import keras\n",
    "from keras.datasets import mnist\n",
    "from sklearn.preprocessing import normalize\n",
    "import matplotlib.pyplot as plt\n",
    "import pandas as pd\n",
    "import pickle\n",
    "import math\n",
    "import sys\n",
    "from sklearn.model_selection import train_test_split"
   ]
  },
  {
   "cell_type": "markdown",
   "metadata": {},
   "source": [
    "### MNIST Data"
   ]
  },
  {
   "cell_type": "code",
   "execution_count": 15,
   "metadata": {
    "collapsed": true
   },
   "outputs": [],
   "source": [
    "(x_train_mnist, y_train_mnist), (x_test_mnist, y_test_mnist) = mnist.load_data()\n",
    "x_train_mnist = x_train_mnist.reshape(x_train_mnist.shape[0], 784)\n",
    "x_test_mnist = x_test_mnist.reshape(x_test_mnist.shape[0], 784)\n",
    "x_train_mnist = x_train_mnist.astype('float32')\n",
    "x_test_mnist = x_test_mnist.astype('float32')\n",
    "x_train_mnist /= 255\n",
    "x_test_mnist /= 255\n",
    "\n",
    "data_size = 5000\n",
    "\n",
    "X_mnist = x_train_mnist[:data_size]\n",
    "y_mnist = y_train_mnist[:data_size]\n",
    "\n",
    "y_onehot_mnist = np.zeros([data_size, 10])\n",
    "y_onehot_test_mnist = np.zeros([len(y_test_mnist), 10])\n",
    "\n",
    "for a in range(data_size):\n",
    "    y_onehot_mnist[a][y_mnist[a]] = 1\n",
    "for a in range(len(y_test_mnist)):\n",
    "    y_onehot_test_mnist[a][y_test_mnist[a]] = 1"
   ]
  },
  {
   "cell_type": "markdown",
   "metadata": {},
   "source": [
    "### Network Parameters"
   ]
  },
  {
   "cell_type": "code",
   "execution_count": 101,
   "metadata": {
    "collapsed": true
   },
   "outputs": [],
   "source": [
    "input_size = 28*28\n",
    "n_layers = 10\n",
    "n_classes = 10\n",
    "n_units = 20\n",
    "batch_size = 50\n",
    "epochs = 80\n",
    "learning_rate = 0.05"
   ]
  },
  {
   "cell_type": "markdown",
   "metadata": {},
   "source": [
    "### Accuracy Function"
   ]
  },
  {
   "cell_type": "code",
   "execution_count": 49,
   "metadata": {
    "collapsed": true
   },
   "outputs": [],
   "source": [
    "def accuracy(predictions, labels):\n",
    "    return (100.0 * np.sum(np.argmax(predictions, 1) == np.argmax(labels, 1))/ predictions.shape[0])"
   ]
  },
  {
   "cell_type": "markdown",
   "metadata": {},
   "source": [
    "### Neural Network"
   ]
  },
  {
   "cell_type": "code",
   "execution_count": 115,
   "metadata": {},
   "outputs": [
    {
     "name": "stdout",
     "output_type": "stream",
     "text": [
      "Initialized\n",
      "Epoch: 1 \tLoss: 2.372304 \tAccuracy: 11.02\n",
      "Epoch: 11 \tLoss: 2.0812314 \tAccuracy: 33.98\n",
      "Epoch: 21 \tLoss: 1.9506289 \tAccuracy: 42.7\n",
      "Epoch: 31 \tLoss: 1.8882558 \tAccuracy: 43.34\n",
      "Epoch: 41 \tLoss: 1.8369068 \tAccuracy: 47.56\n",
      "Epoch: 51 \tLoss: 1.8022531 \tAccuracy: 50.0\n",
      "Epoch: 61 \tLoss: 1.7814133 \tAccuracy: 51.5\n",
      "Epoch: 71 \tLoss: 1.783635 \tAccuracy: 49.22\n",
      "Test Accuracy:  60.8\n"
     ]
    }
   ],
   "source": [
    "tf.reset_default_graph()\n",
    "\n",
    "number_of_units_nn = 20\n",
    "\n",
    "inputs = tf.placeholder(tf.float32, [None, input_size])\n",
    "original_input = inputs\n",
    "labels = tf.placeholder(tf.int32, [None])\n",
    "onehot_label = tf.one_hot(labels, n_classes, name='labels_onehot')\n",
    "\n",
    "for a in range(n_layers):\n",
    "    layer = tf.layers.dense(inputs, number_of_units_nn, 'selu', name='layer'+str(a))\n",
    "    inputs = layer\n",
    "\n",
    "logits = tf.layers.dense(inputs, n_classes, None, name='output')\n",
    "logits = tf.math.l2_normalize(logits, axis=1)\n",
    "\n",
    "loss = tf.reduce_mean(tf.nn.softmax_cross_entropy_with_logits(logits=logits, labels=onehot_label))\n",
    "\n",
    "predictions = tf.nn.softmax(logits)\n",
    "\n",
    "optimizer = tf.train.AdamOptimizer(learning_rate).minimize(loss)\n",
    "\n",
    "with tf.Session() as session:\n",
    "    tf.initialize_all_variables().run()\n",
    "    print(\"Initialized\")\n",
    "    nn_loss = []\n",
    "\n",
    "    for a in range(epochs):\n",
    "        _, l, p = session.run([optimizer, loss, predictions], \n",
    "                              feed_dict={original_input:X_mnist, labels:y_mnist})\n",
    "        nn_loss.append(l)\n",
    "\n",
    "        if a%10==0:\n",
    "            print(\"Epoch:\", a+1, \"\\tLoss:\", l, \"\\tAccuracy:\", accuracy(p, y_onehot_mnist))\n",
    "\n",
    "    test_p = session.run(predictions, feed_dict={original_input:x_test_mnist, labels:y_test_mnist})\n",
    "\n",
    "    print(\"Test Accuracy: \", accuracy(test_p, y_onehot_test_mnist))\n",
    "\n",
    "    \n",
    "    tf.summary.FileWriter('./logs', session.graph)"
   ]
  },
  {
   "cell_type": "markdown",
   "metadata": {},
   "source": [
    "---------------------\n",
    "### Dense Network with Softmax on Onehot Encoding\n",
    "![title](img/densenet.png)"
   ]
  },
  {
   "cell_type": "code",
   "execution_count": 117,
   "metadata": {
    "collapsed": true
   },
   "outputs": [],
   "source": [
    "tf.reset_default_graph()\n",
    "\n",
    "inputs = tf.placeholder(tf.float32, [None, input_size])\n",
    "original_input = inputs\n",
    "labels = tf.placeholder(tf.int32, [None])\n",
    "\n",
    "for a in range(n_layers):\n",
    "    layer = tf.layers.dense(inputs, n_units, 'selu', name='layer'+str(a))\n",
    "    inputs = tf.concat([inputs, layer], 1, name='concatenation'+str(a))\n",
    "\n",
    "logits = tf.layers.dense(inputs, n_classes, None, name='output')\n",
    "logits = tf.math.l2_normalize(logits, axis=1)\n",
    "\n",
    "onehot_label = tf.one_hot(labels, n_classes, name='labels_onehot')\n",
    "loss = tf.reduce_mean(tf.nn.softmax_cross_entropy_with_logits(logits=logits, labels=onehot_label))\n",
    "\n",
    "predictions = tf.nn.softmax(logits)\n",
    "\n",
    "optimizer = tf.train.AdamOptimizer(learning_rate).minimize(loss)"
   ]
  },
  {
   "cell_type": "markdown",
   "metadata": {},
   "source": [
    "### Running the Network"
   ]
  },
  {
   "cell_type": "code",
   "execution_count": 118,
   "metadata": {},
   "outputs": [
    {
     "name": "stdout",
     "output_type": "stream",
     "text": [
      "Initialized\n",
      "Epoch: 1 \tLoss: 2.3720586 \tAccuracy: 8.28\n",
      "Epoch: 21 \tLoss: 1.486958 \tAccuracy: 94.06\n",
      "Epoch: 41 \tLoss: 1.4444349 \tAccuracy: 97.76\n",
      "Epoch: 61 \tLoss: 1.4347043 \tAccuracy: 98.62\n",
      "Test Accuracy:  92.95\n"
     ]
    }
   ],
   "source": [
    "with tf.Session() as session:\n",
    "    tf.initialize_all_variables().run()\n",
    "    print(\"Initialized\")\n",
    "    dnn_loss = []\n",
    "\n",
    "    for a in range(epochs):\n",
    "        _, l, p = session.run([optimizer, loss, predictions], \n",
    "                              feed_dict={original_input:X_mnist, labels:y_mnist})\n",
    "        dnn_loss.append(l)\n",
    "        if a%20==0:\n",
    "            print(\"Epoch:\", a+1, \"\\tLoss:\", l, \"\\tAccuracy:\", accuracy(p, y_onehot_mnist))\n",
    "\n",
    "    test_p = session.run(predictions, feed_dict={original_input:x_test_mnist, labels:y_test_mnist})\n",
    "\n",
    "    print(\"Test Accuracy: \", accuracy(test_p, y_onehot_test_mnist))\n",
    "\n",
    "    \n",
    "    tf.summary.FileWriter('./logs', session.graph)"
   ]
  },
  {
   "cell_type": "code",
   "execution_count": 108,
   "metadata": {},
   "outputs": [
    {
     "data": {
      "image/png": "[encoded data removed]",
      "text/plain": [
       "<Figure size 1440x432 with 1 Axes>"
      ]
     },
     "metadata": {},
     "output_type": "display_data"
    }
   ],
   "source": [
    "plt.figure(figsize=(20, 6))\n",
    "plt.plot(np.arange(epochs), nn_loss, label='Neural Network')\n",
    "plt.plot(np.arange(epochs), dnn_loss, label='DenseNet')\n",
    "plt.legend()\n",
    "plt.xlabel('Epochs')\n",
    "plt.ylabel('Loss')\n",
    "plt.title(\"Comparison Between Neural Network and Densenet\")\n",
    "plt.show()"
   ]
  },
  {
   "cell_type": "markdown",
   "metadata": {},
   "source": [
    "-----------------\n",
    "### Modified Softmax Function\n",
    "![title](img/modified_softmax.png)"
   ]
  },
  {
   "cell_type": "code",
   "execution_count": 8,
   "metadata": {},
   "outputs": [
    {
     "name": "stdout",
     "output_type": "stream",
     "text": [
      "3.2774904 [0.36053702]\n",
      "3.2773767 [0.36299577]\n",
      "3.277263 [0.3654524]\n",
      "3.2771494 [0.3679069]\n",
      "3.2770364 [0.37035927]\n",
      "3.2769234 [0.3728095]\n",
      "3.2768111 [0.3752576]\n",
      "3.2766988 [0.3777036]\n",
      "3.2765863 [0.38014746]\n",
      "3.2764747 [0.3825892]\n"
     ]
    }
   ],
   "source": [
    "embedding_length = 12\n",
    "number_of_samples = 22\n",
    "number_of_classes = 27\n",
    "\n",
    "tf.reset_default_graph()\n",
    "\n",
    "labels = tf.placeholder(tf.int32, [None], name='labels')\n",
    "\n",
    "embeddings = tf.placeholder(tf.float32, [None, embedding_length])\n",
    "norm_embeddings = tf.nn.l2_normalize(embeddings, axis=1, name='embeddings')\n",
    "\n",
    "class_weights = tf.constant(normalize(np.random.rand(embedding_length, number_of_classes)), dtype=tf.float32,\n",
    "                           name='class_weights')\n",
    "\n",
    "margin = tf.placeholder(tf.float32, name='margin')\n",
    "\n",
    "alpha_initial = tf.get_variable(dtype=tf.float32, initializer=tf.constant(np.random.rand(1), dtype='float32'), name='alpha')\n",
    "alpha = tf.nn.relu(alpha_initial)\n",
    "\n",
    "cosines = tf.matmul(norm_embeddings, class_weights, name='cosines')\n",
    "onehot_label = tf.one_hot(labels, number_of_classes, name='labels_onehot')\n",
    "m_onehot = tf.math.multiply(margin, onehot_label, name='mxonehot')\n",
    "margin_cosine = tf.subtract(cosines, m_onehot, name='cosine-m')\n",
    "alpha_margin_cosine = tf.math.exp(tf.math.multiply(alpha, margin_cosine), name='alphaxc-m')\n",
    "amc_numerator = tf.reduce_sum(tf.multiply(alpha_margin_cosine, onehot_label), axis=1, name='amc_positive')\n",
    "amc_denominator = tf.reduce_sum(alpha_margin_cosine, axis=1, name='amc_total')\n",
    "amc_fraction = tf.divide(amc_numerator, amc_denominator, name='amc_fraction')\n",
    "log_amcf = -tf.log(amc_fraction, name='log_amc')\n",
    "loss = tf.reduce_mean(log_amcf, name='loss')\n",
    "\n",
    "m = 0\n",
    "m_change = 0.00002\n",
    "m_max = 25\n",
    "\n",
    "optimizer = tf.train.GradientDescentOptimizer(learning_rate).minimize(loss)\n",
    "\n",
    "with tf.Session() as session:\n",
    "    feed_dict={embeddings:np.random.rand(number_of_samples, embedding_length),\n",
    "                                     labels: np.random.randint(0, number_of_classes, number_of_samples),\n",
    "                                      margin: m}\n",
    "    alpha_initial.initializer.run()\n",
    "    \n",
    "    for a in range(10):\n",
    "        l, o, a = session.run([loss, optimizer, alpha], feed_dict=feed_dict)\n",
    "        print(l, a)\n",
    "        feed_dict[margin] = min(feed_dict[margin]+m_change, m_max)\n",
    "    tf.summary.FileWriter('./logs', session.graph)"
   ]
  },
  {
   "cell_type": "markdown",
   "metadata": {},
   "source": [
    "-----------------\n",
    "### DenseNet with Modified Softmax Function\n",
    "![title](img/graph.png)"
   ]
  },
  {
   "cell_type": "code",
   "execution_count": 9,
   "metadata": {
    "collapsed": true
   },
   "outputs": [],
   "source": [
    "input_size = 28*28\n",
    "n_layers = 10\n",
    "n_classes = 10\n",
    "n_units = 12\n",
    "batch_size = 50\n",
    "epochs = 50\n",
    "learning_rate = 0.005\n",
    "\n",
    "embedding_length = 12\n",
    "number_of_samples = 300"
   ]
  },
  {
   "cell_type": "code",
   "execution_count": 68,
   "metadata": {
    "collapsed": true
   },
   "outputs": [],
   "source": [
    "tf.reset_default_graph()\n",
    "\n",
    "inputs = tf.placeholder(tf.float32, [None, input_size], name='gene_expression')\n",
    "original_input = inputs\n",
    "labels = tf.placeholder(tf.int32, [None], name='labels')\n",
    "\n",
    "for a in range(n_layers):\n",
    "    layer = tf.layers.dense(inputs, n_units, 'selu', name='layer'+str(a))\n",
    "    inputs = tf.concat([inputs, layer], 1, name='concatenation'+str(a))\n",
    "\n",
    "embeddings = tf.layers.dense(inputs, embedding_length, None, name='embedding')\n",
    "norm_embeddings = tf.nn.l2_normalize(embeddings, axis=1, name='norm_embeddings')\n",
    "\n",
    "class_weights = tf.constant(normalize(np.random.rand(embedding_length, n_classes)), dtype=tf.float32,\n",
    "                           name='class_weights')\n",
    "\n",
    "margin = tf.placeholder(tf.float32, name='margin')\n",
    "\n",
    "alpha_initial = tf.get_variable(dtype=tf.float32, initializer=tf.constant(np.random.rand(1), dtype='float32'), \n",
    "                                name='alpha')\n",
    "alpha = tf.nn.relu(alpha_initial)\n",
    "\n",
    "cosines = tf.matmul(norm_embeddings, class_weights, name='cosines')\n",
    "onehot_label = tf.one_hot(labels, n_classes, name='labels_onehot')\n",
    "m_onehot = tf.math.multiply(margin, onehot_label, name='mxonehot')\n",
    "margin_cosine = tf.subtract(cosines, m_onehot, name='cosine-m')\n",
    "alpha_margin_cosine = tf.math.exp(tf.math.multiply(alpha, margin_cosine), name='alphaxc-m')\n",
    "amc_numerator = tf.reduce_sum(tf.multiply(alpha_margin_cosine, onehot_label), axis=1, name='amc_positive')\n",
    "amc_denominator = tf.reduce_sum(alpha_margin_cosine, axis=1, name='amc_total')\n",
    "amc_fraction = tf.divide(amc_numerator, amc_denominator, name='amc_fraction')\n",
    "log_amcf = -tf.log(amc_fraction, name='log_amc')\n",
    "loss = tf.reduce_mean(log_amcf, name='loss')\n",
    "\n",
    "m = 0\n",
    "m_change = 0.00002\n",
    "m_max = 25\n",
    "\n",
    "optimizer = tf.train.AdamOptimizer(learning_rate).minimize(loss)"
   ]
  },
  {
   "cell_type": "code",
   "execution_count": 69,
   "metadata": {
    "scrolled": false
   },
   "outputs": [
    {
     "name": "stdout",
     "output_type": "stream",
     "text": [
      "Initialized\n",
      "Epoch: 1 \tLoss: 2.307089\n",
      "Epoch: 51 \tLoss: 1.1351569\n",
      "Epoch: 101 \tLoss: 0.5687475\n",
      "Epoch: 151 \tLoss: 0.3291086\n",
      "Epoch: 201 \tLoss: 0.22148006\n",
      "Epoch: 251 \tLoss: 0.16155751\n",
      "Epoch: 301 \tLoss: 0.14798883\n",
      "Epoch: 351 \tLoss: 0.10793887\n"
     ]
    }
   ],
   "source": [
    "with tf.Session() as session:\n",
    "    feed_dict={original_input:np.random.rand(number_of_samples, input_size),\n",
    "                                     labels: np.random.randint(0, n_classes, number_of_samples),\n",
    "                                      margin: m}\n",
    "    \n",
    "    feed_dict={original_input:X_mnist, labels: y_mnist, margin: m}\n",
    "    \n",
    "    \n",
    "    alpha_initial.initializer.run()\n",
    "    tf.initialize_all_variables().run()\n",
    "    print(\"Initialized\")\n",
    "    losses = []\n",
    "    for a in range(400):\n",
    "        _, l = session.run([optimizer, loss], feed_dict=feed_dict)\n",
    "        if a%50==0:\n",
    "            print(\"Epoch:\", a+1, \"\\tLoss:\", l)\n",
    "        losses.append(l)\n",
    "        feed_dict[margin] = min(feed_dict[margin]+m_change, m_max)\n",
    "    tf.summary.FileWriter('./logs', session.graph)"
   ]
  },
  {
   "cell_type": "code",
   "execution_count": 70,
   "metadata": {},
   "outputs": [
    {
     "data": {
      "image/png": "[encoded data removed]",
      "text/plain": [
       "<Figure size 1440x432 with 1 Axes>"
      ]
     },
     "metadata": {},
     "output_type": "display_data"
    }
   ],
   "source": [
    "plt.figure(figsize=(20, 6))\n",
    "plt.plot(np.arange(len(losses)), losses)\n",
    "plt.title(\"Loss observed in Densenet with modified softmax function\")\n",
    "plt.show()"
   ]
  },
  {
   "cell_type": "markdown",
   "metadata": {},
   "source": [
    "-------------------------\n",
    "# LINCS Dataset Training"
   ]
  },
  {
   "cell_type": "code",
   "execution_count": 3,
   "metadata": {
    "collapsed": true
   },
   "outputs": [],
   "source": [
    "data_sub = pd.read_csv('../Data/subset.csv')\n",
    "data = pickle.load(open('../Data/full', 'rb'))"
   ]
  },
  {
   "cell_type": "code",
   "execution_count": 4,
   "metadata": {},
   "outputs": [
    {
     "data": {
      "text/plain": [
       "Index(['780', '7849', '6193', '23', '9552', '387', '10921', '10285', '533',\n",
       "       '6194',\n",
       "       ...\n",
       "       '11000', '6915', '6253', '7264', '5467', '2767', '23038', '57048',\n",
       "       '79716', 'target'],\n",
       "      dtype='object', name='rid', length=979)"
      ]
     },
     "execution_count": 4,
     "metadata": {},
     "output_type": "execute_result"
    }
   ],
   "source": [
    "data.columns"
   ]
  },
  {
   "cell_type": "code",
   "execution_count": 5,
   "metadata": {
    "collapsed": true
   },
   "outputs": [],
   "source": [
    "X = data.loc[:, '780':'79716']\n",
    "y = list(data['target'])\n",
    "pert_dict = {}\n",
    "num = 0\n",
    "for a in range(len(y)):\n",
    "    if y[a] not in pert_dict.keys():\n",
    "        pert_dict[y[a]] = num\n",
    "        num+=1\n",
    "    y[a] = pert_dict[y[a]]"
   ]
  },
  {
   "cell_type": "code",
   "execution_count": 6,
   "metadata": {},
   "outputs": [
    {
     "data": {
      "text/plain": [
       "118050"
      ]
     },
     "execution_count": 6,
     "metadata": {},
     "output_type": "execute_result"
    }
   ],
   "source": [
    "len(set(data['target']))\n",
    "len(y)"
   ]
  },
  {
   "cell_type": "code",
   "execution_count": 7,
   "metadata": {
    "collapsed": true
   },
   "outputs": [],
   "source": [
    "X = X[:100]\n",
    "y = np.asarray(y[:100]).flatten()\n",
    "# y_small"
   ]
  },
  {
   "cell_type": "code",
   "execution_count": 8,
   "metadata": {
    "collapsed": true
   },
   "outputs": [],
   "source": [
    "X_train, X_test, y_train, y_test = train_test_split(X, y, test_size=0.3, random_state=42)"
   ]
  },
  {
   "cell_type": "code",
   "execution_count": 9,
   "metadata": {},
   "outputs": [
    {
     "name": "stdout",
     "output_type": "stream",
     "text": [
      "WARNING:tensorflow:From <ipython-input-9-d93fd4f0aa41>:16: dense (from tensorflow.python.layers.core) is deprecated and will be removed in a future version.\n",
      "Instructions for updating:\n",
      "Use keras.layers.dense instead.\n",
      "WARNING:tensorflow:From /home/kavya/anaconda3/lib/python3.6/site-packages/tensorflow/python/framework/op_def_library.py:263: colocate_with (from tensorflow.python.framework.ops) is deprecated and will be removed in a future version.\n",
      "Instructions for updating:\n",
      "Colocations handled automatically by placer.\n",
      "WARNING:tensorflow:From <ipython-input-9-d93fd4f0aa41>:23: softmax_cross_entropy_with_logits (from tensorflow.python.ops.nn_ops) is deprecated and will be removed in a future version.\n",
      "Instructions for updating:\n",
      "\n",
      "Future major versions of TensorFlow will allow gradients to flow\n",
      "into the labels input on backprop by default.\n",
      "\n",
      "See `tf.nn.softmax_cross_entropy_with_logits_v2`.\n",
      "\n",
      "WARNING:tensorflow:From /home/kavya/anaconda3/lib/python3.6/site-packages/tensorflow/python/ops/math_ops.py:3066: to_int32 (from tensorflow.python.ops.math_ops) is deprecated and will be removed in a future version.\n",
      "Instructions for updating:\n",
      "Use tf.cast instead.\n",
      "WARNING:tensorflow:From /home/kavya/anaconda3/lib/python3.6/site-packages/tensorflow/python/util/tf_should_use.py:193: initialize_all_variables (from tensorflow.python.ops.variables) is deprecated and will be removed after 2017-03-02.\n",
      "Instructions for updating:\n",
      "Use `tf.global_variables_initializer` instead.\n",
      "Initialized\n",
      "Epoch 0: \t[==================================================] 70/70 Loss: 7.684961 Accuracy: 0.00%\n",
      "Epoch 1: \t[==================================================] 70/70 Loss: 7.603830 Accuracy: 75.71%\n",
      "Epoch 2: \t[==================================================] 70/70 Loss: 7.707685 Accuracy: 1.43%\n",
      "Epoch 3: \t[==================================================] 70/70 Loss: 7.642804 Accuracy: 48.57%\n",
      "Epoch 4: \t[==================================================] 70/70 Loss: 7.603243 Accuracy: 65.71%\n",
      "Epoch 5: \t[==================================================] 70/70 Loss: 7.422957 Accuracy: 84.29%\n",
      "Epoch 6: \t[==================================================] 70/70 Loss: 7.488427 Accuracy: 87.14%\n",
      "Epoch 7: \t[==================================================] 70/70 Loss: 7.425083 Accuracy: 91.43%\n",
      "Epoch 8: \t[==================================================] 70/70 Loss: 7.331026 Accuracy: 87.14%\n",
      "Epoch 9: \t[==================================================] 70/70 Loss: 7.397503 Accuracy: 84.29%\n",
      "Test Accuracy:  40.0\n"
     ]
    }
   ],
   "source": [
    "input_size = 978\n",
    "n_layers = 10\n",
    "n_classes = 2170\n",
    "n_units = 20\n",
    "batch_size = 3000\n",
    "epochs = 10\n",
    "learning_rate = 0.05\n",
    "\n",
    "tf.reset_default_graph()\n",
    "\n",
    "inputs = tf.placeholder(tf.float32, [None, input_size])\n",
    "original_input = inputs\n",
    "labels = tf.placeholder(tf.int32, [None])\n",
    "\n",
    "for a in range(n_layers):\n",
    "    layer = tf.layers.dense(inputs, n_units, 'selu', name='layer'+str(a))\n",
    "    inputs = tf.concat([inputs, layer], 1, name='concatenation'+str(a))\n",
    "\n",
    "logits = tf.layers.dense(inputs, n_classes, None, name='output')\n",
    "logits = tf.math.l2_normalize(logits, axis=1)\n",
    "\n",
    "onehot_label = tf.one_hot(labels, n_classes, name='labels_onehot')\n",
    "loss = tf.reduce_sum(tf.nn.softmax_cross_entropy_with_logits(logits=logits, labels=onehot_label))\n",
    "\n",
    "predictions = tf.nn.softmax(logits)\n",
    "\n",
    "optimizer = tf.train.AdamOptimizer(learning_rate).minimize(loss)\n",
    "\n",
    "with tf.Session() as session:\n",
    "    tf.initialize_all_variables().run()\n",
    "    print(\"Initialized\")\n",
    "    dnn_loss = []\n",
    "    feed_dict={original_input:X_train, labels:y_train}    \n",
    "    \n",
    "    total = np.asarray(session.run([original_input], feed_dict=feed_dict)).shape[1]\n",
    "    order = np.arange(total)\n",
    "\n",
    "    for a in range(epochs):\n",
    "        np.random.shuffle(order)\n",
    "        total_loss = 0\n",
    "        total_acc = 0\n",
    "        \n",
    "        for ind in range(0, total, batch_size):\n",
    "            sys.stdout.flush()\n",
    "            perc = math.ceil(50*(ind/total))\n",
    "            feed_dict[original_input] = X_train.iloc[order[ind:ind+batch_size]]\n",
    "            feed_dict[labels] = [y_train[a] for a in order[ind:ind+batch_size]]\n",
    "            _, l, p = session.run([optimizer, loss, predictions], \n",
    "                              feed_dict=feed_dict)\n",
    "            total_loss+=(l)\n",
    "            total_acc+=(np.sum(np.equal(np.argmax(p, axis=1), feed_dict[labels])))\n",
    "            sys.stdout.write(\"\\rEpoch %d: \\t[%s%s] %d/%d Loss: %f\" % (a, \"=\"*perc, ' '*(50-perc), ind, total, total_loss/(ind+batch_size)))\n",
    "            \n",
    "        \n",
    "        dnn_loss.append(total_loss/total)\n",
    "        sys.stdout.write(\"\\rEpoch %d: \\t[%s] %d/%d Loss: %f Accuracy: %.2f%%\\n\" % (a, \"=\"*50, total, total, total_loss/total, 100*total_acc/total))\n",
    "\n",
    "    test_p = session.run(predictions, feed_dict={original_input:X_test})\n",
    "    print(\"Test Accuracy: \", 100*(np.sum(np.equal(np.argmax(test_p, axis=1), y_test)))/(len(y_test)))\n",
    "\n",
    "    \n",
    "    tf.summary.FileWriter('./logs', session.graph)"
   ]
  },
  {
   "cell_type": "markdown",
   "metadata": {},
   "source": [
    "### Densenet with Modified Softmax"
   ]
  },
  {
   "cell_type": "code",
   "execution_count": 12,
   "metadata": {
    "collapsed": true
   },
   "outputs": [],
   "source": [
    "input_size = 978\n",
    "n_layers = 10\n",
    "n_classes = 2170\n",
    "n_units = 12\n",
    "batch_size = 3000\n",
    "epochs = 50\n",
    "learning_rate = 0.005\n",
    "\n",
    "embedding_length = 32\n",
    "number_of_samples = 300\n",
    "\n",
    "tf.reset_default_graph()\n",
    "\n",
    "inputs = tf.placeholder(tf.float32, [None, input_size], name='gene_expression')\n",
    "original_input = inputs\n",
    "labels = tf.placeholder(tf.int32, [None], name='labels')\n",
    "\n",
    "for a in range(n_layers):\n",
    "    layer = tf.layers.dense(inputs, n_units, 'selu', name='layer'+str(a))\n",
    "    inputs = tf.concat([inputs, layer], 1, name='concatenation'+str(a))\n",
    "\n",
    "embeddings = tf.layers.dense(inputs, embedding_length, None, name='embedding')\n",
    "norm_embeddings = tf.nn.l2_normalize(embeddings, axis=1, name='norm_embeddings')\n",
    "\n",
    "# class_weights = tf.constant(normalize(np.random.rand(embedding_length, n_classes)), dtype=tf.float32,\n",
    "#                            name='class_weights')\n",
    "\n",
    "class_weights = tf.Variable(tf.random_normal([embedding_length, n_classes], stddev=0.35), name=\"class_weights\")\n",
    "\n",
    "margin = tf.placeholder(tf.float32, name='margin')\n",
    "\n",
    "alpha_initial = tf.get_variable(dtype=tf.float32, initializer=tf.constant(np.random.rand(1), dtype='float32'), \n",
    "                                name='alpha')\n",
    "alpha = tf.nn.relu(alpha_initial)\n",
    "\n",
    "cosines = tf.matmul(norm_embeddings, class_weights, name='cosines')\n",
    "onehot_label = tf.one_hot(labels, n_classes, name='labels_onehot')\n",
    "m_onehot = tf.math.multiply(margin, onehot_label, name='mxonehot')\n",
    "margin_cosine = tf.subtract(cosines, m_onehot, name='cosine-m')\n",
    "alpha_margin_cosine = tf.math.exp(tf.math.multiply(alpha, margin_cosine), name='alphaxc-m')\n",
    "amc_numerator = tf.reduce_sum(tf.multiply(alpha_margin_cosine, onehot_label), axis=1, name='amc_positive')\n",
    "amc_denominator = tf.reduce_sum(alpha_margin_cosine, axis=1, name='amc_total')\n",
    "amc_fraction = tf.divide(amc_numerator, amc_denominator, name='amc_fraction')\n",
    "log_amcf = -tf.log(amc_fraction, name='log_amc')\n",
    "loss = tf.reduce_sum(log_amcf, name='loss')\n",
    "\n",
    "m = 0\n",
    "m_change = 0.00002\n",
    "m_max = 25\n",
    "\n",
    "optimizer = tf.train.AdamOptimizer(learning_rate).minimize(loss)"
   ]
  },
  {
   "cell_type": "code",
   "execution_count": 13,
   "metadata": {
    "scrolled": false
   },
   "outputs": [
    {
     "name": "stdout",
     "output_type": "stream",
     "text": [
      "Initialized\n",
      "Epoch 0: \t[==================================================] 100/100 Loss: 7.696288\n",
      "Epoch 1: \t[==================================================] 100/100 Loss: 7.323425\n",
      "Epoch 2: \t[==================================================] 100/100 Loss: 7.196678\n",
      "Epoch 3: \t[==================================================] 100/100 Loss: 7.141425\n",
      "Epoch 4: \t[==================================================] 100/100 Loss: 7.097783\n",
      "Epoch 5: \t[==================================================] 100/100 Loss: 7.053423\n",
      "Epoch 6: \t[==================================================] 100/100 Loss: 7.011295\n",
      "Epoch 7: \t[==================================================] 100/100 Loss: 6.973979\n",
      "Epoch 8: \t[==================================================] 100/100 Loss: 6.941943\n",
      "Epoch 9: \t[==================================================] 100/100 Loss: 6.913185\n",
      "Epoch 10: \t[==================================================] 100/100 Loss: 6.884202\n",
      "Epoch 11: \t[==================================================] 100/100 Loss: 6.853845\n",
      "Epoch 12: \t[==================================================] 100/100 Loss: 6.822969\n",
      "Epoch 13: \t[==================================================] 100/100 Loss: 6.792347\n",
      "Epoch 14: \t[==================================================] 100/100 Loss: 6.761890\n",
      "Epoch 15: \t[==================================================] 100/100 Loss: 6.731161\n",
      "Epoch 16: \t[==================================================] 100/100 Loss: 6.699835\n",
      "Epoch 17: \t[==================================================] 100/100 Loss: 6.667638\n",
      "Epoch 18: \t[==================================================] 100/100 Loss: 6.634335\n",
      "Epoch 19: \t[==================================================] 100/100 Loss: 6.599964\n",
      "Epoch 20: \t[==================================================] 100/100 Loss: 6.564832\n",
      "Epoch 21: \t[==================================================] 100/100 Loss: 6.529229\n",
      "Epoch 22: \t[==================================================] 100/100 Loss: 6.493194\n",
      "Epoch 23: \t[==================================================] 100/100 Loss: 6.456548\n",
      "Epoch 24: \t[==================================================] 100/100 Loss: 6.419063\n",
      "Epoch 25: \t[==================================================] 100/100 Loss: 6.380609\n",
      "Epoch 26: \t[==================================================] 100/100 Loss: 6.341181\n",
      "Epoch 27: \t[==================================================] 100/100 Loss: 6.300842\n",
      "Epoch 28: \t[==================================================] 100/100 Loss: 6.259665\n",
      "Epoch 29: \t[==================================================] 100/100 Loss: 6.217706\n",
      "Epoch 30: \t[==================================================] 100/100 Loss: 6.174971\n",
      "Epoch 31: \t[==================================================] 100/100 Loss: 6.131414\n",
      "Epoch 32: \t[==================================================] 100/100 Loss: 6.086958\n",
      "Epoch 33: \t[==================================================] 100/100 Loss: 6.041548\n",
      "Epoch 34: \t[==================================================] 100/100 Loss: 5.995171\n",
      "Epoch 35: \t[==================================================] 100/100 Loss: 5.947849\n",
      "Epoch 36: \t[==================================================] 100/100 Loss: 5.899594\n",
      "Epoch 37: \t[==================================================] 100/100 Loss: 5.850398\n",
      "Epoch 38: \t[==================================================] 100/100 Loss: 5.800256\n",
      "Epoch 39: \t[==================================================] 100/100 Loss: 5.749177\n",
      "Epoch 40: \t[==================================================] 100/100 Loss: 5.697156\n",
      "Epoch 41: \t[==================================================] 100/100 Loss: 5.644167\n",
      "Epoch 42: \t[==================================================] 100/100 Loss: 5.590170\n",
      "Epoch 43: \t[==================================================] 100/100 Loss: 5.535153\n",
      "Epoch 44: \t[==================================================] 100/100 Loss: 5.479126\n",
      "Epoch 45: \t[==================================================] 100/100 Loss: 5.422108\n",
      "Epoch 46: \t[==================================================] 100/100 Loss: 5.364094\n",
      "Epoch 47: \t[==================================================] 100/100 Loss: 5.305068\n",
      "Epoch 48: \t[==================================================] 100/100 Loss: 5.245015\n",
      "Epoch 49: \t[==================================================] 100/100 Loss: 5.183923\n"
     ]
    }
   ],
   "source": [
    "with tf.Session() as session:\n",
    "    feed_dict={original_input:np.random.rand(number_of_samples, input_size),\n",
    "                                     labels: np.random.randint(0, n_classes, number_of_samples),\n",
    "                                      margin: m}\n",
    "    \n",
    "    feed_dict={original_input:X, labels: y, margin: m}\n",
    "    \n",
    "    \n",
    "    alpha_initial.initializer.run()\n",
    "    tf.initialize_all_variables().run()\n",
    "    print(\"Initialized\")\n",
    "    \n",
    "    total = np.asarray(session.run([original_input], feed_dict=feed_dict)).shape[1]\n",
    "    order = np.arange(total)\n",
    "    losses = []\n",
    "    \n",
    "    for a in range(epochs):\n",
    "        np.random.shuffle(order)\n",
    "        total_loss = 0\n",
    "        sys.stdout.write(\"\\rEpoch %d: \\t[%s%s] %d/%d Loss: %f\" % (a, \"=\"*0, ' '*(50), ind, total, 0))\n",
    "            \n",
    "        for ind in range(0, total, batch_size):\n",
    "            sys.stdout.flush()\n",
    "            perc = math.ceil(50*(ind/total))\n",
    "            feed_dict[original_input] = X.iloc[order[ind:ind+batch_size]]\n",
    "            feed_dict[labels] = [y[a] for a in order[ind:ind+batch_size]]\n",
    "            _, l = session.run([optimizer, loss], feed_dict=feed_dict)\n",
    "            sys.stdout.write(\"\\rEpoch %d: \\t[%s%s] %d/%d Loss: %f\" % (a, \"=\"*perc, ' '*(50-perc), ind, total, total_loss/(ind+batch_size)))\n",
    "            total_loss+=(l)\n",
    "            \n",
    "        sys.stdout.write(\"\\rEpoch %d: \\t[%s] %d/%d Loss: %f\\n\" % (a, \"=\"*50, total, total, total_loss/total))\n",
    "        losses.append(total_loss/total)\n",
    "        feed_dict[margin] = min(feed_dict[margin]+m_change, m_max)\n",
    "    \n",
    "    tf.summary.FileWriter('./logs', session.graph)\n",
    "    saver = tf.train.Saver()\n",
    "    saver.save(session, './models/trial1')"
   ]
  },
  {
   "cell_type": "code",
   "execution_count": 14,
   "metadata": {},
   "outputs": [
    {
     "data": {
      "image/png": "[encoded data removed]",
      "text/plain": [
       "<Figure size 1440x432 with 1 Axes>"
      ]
     },
     "metadata": {},
     "output_type": "display_data"
    }
   ],
   "source": [
    "plt.figure(figsize=(20, 6))\n",
    "plt.plot(np.arange(len(losses)), losses)\n",
    "plt.title(\"Loss observed in Densenet with modified softmax function\")\n",
    "plt.show()"
   ]
  },
  {
   "cell_type": "code",
   "execution_count": 52,
   "metadata": {
    "collapsed": true
   },
   "outputs": [],
   "source": [
    "# tf.reset_default_graph()\n",
    "def save_embeddings(X, y, filename):\n",
    "    with tf.Session() as session:\n",
    "        saver = tf.train.import_meta_graph('./models/trial.meta')\n",
    "        saver.restore(session,tf.train.latest_checkpoint('./models/'))\n",
    "        graph = tf.get_default_graph()\n",
    "        original_input = graph.get_tensor_by_name('gene_expression:0')\n",
    "        norm_embeddings = graph.get_tensor_by_name('norm_embeddings:0')\n",
    "        print(original_input)\n",
    "        print(\"Loaded\")\n",
    "        feed_dict={original_input:np.asarray(X)}\n",
    "        embeddings = pd.DataFrame(session.run([norm_embeddings], feed_dict=feed_dict)[0],\n",
    "                                  columns=['e'+str(a) for a in range(1, 33)])\n",
    "        embeddings['target'] = y\n",
    "        pickle.dump(embeddings, open(filename, 'wb'))\n",
    "        "
   ]
  },
  {
   "cell_type": "code",
   "execution_count": 54,
   "metadata": {},
   "outputs": [
    {
     "name": "stdout",
     "output_type": "stream",
     "text": [
      "INFO:tensorflow:Restoring parameters from ./models/trial\n",
      "Tensor(\"gene_expression:0\", shape=(?, 978), dtype=float32)\n",
      "Loaded\n"
     ]
    }
   ],
   "source": [
    "save_embeddings(X, y, './embeddings/emb50all')"
   ]
  },
  {
   "cell_type": "code",
   "execution_count": null,
   "metadata": {
    "collapsed": true
   },
   "outputs": [],
   "source": []
  },
  {
   "cell_type": "code",
   "execution_count": null,
   "metadata": {
    "collapsed": true
   },
   "outputs": [],
   "source": []
  },
  {
   "cell_type": "code",
   "execution_count": null,
   "metadata": {
    "collapsed": true
   },
   "outputs": [],
   "source": []
  },
  {
   "cell_type": "code",
   "execution_count": null,
   "metadata": {
    "collapsed": true
   },
   "outputs": [],
   "source": []
  }
 ],
 "metadata": {
  "kernelspec": {
   "display_name": "Python 3",
   "language": "python",
   "name": "python3"
  },
  "language_info": {
   "codemirror_mode": {
    "name": "ipython",
    "version": 3
   },
   "file_extension": ".py",
   "mimetype": "text/x-python",
   "name": "python",
   "nbconvert_exporter": "python",
   "pygments_lexer": "ipython3",
   "version": "3.6.8"
  }
 },
 "nbformat": 4,
 "nbformat_minor": 2
}
