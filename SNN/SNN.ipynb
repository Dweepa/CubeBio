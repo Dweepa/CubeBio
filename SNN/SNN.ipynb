{
 "cells": [
  {
   "cell_type": "markdown",
   "metadata": {},
   "source": [
    "# SNN"
   ]
  },
  {
   "cell_type": "code",
   "execution_count": 1,
   "metadata": {},
   "outputs": [
    {
     "name": "stderr",
     "output_type": "stream",
     "text": [
      "/home/kavya/anaconda3/lib/python3.6/site-packages/h5py/__init__.py:36: FutureWarning: Conversion of the second argument of issubdtype from `float` to `np.floating` is deprecated. In future, it will be treated as `np.float64 == np.dtype(float).type`.\n",
      "  from ._conv import register_converters as _register_converters\n",
      "Using TensorFlow backend.\n"
     ]
    }
   ],
   "source": [
    "import tensorflow as tf\n",
    "import numpy as np\n",
    "from tensorflow import keras\n",
    "from keras.datasets import mnist"
   ]
  },
  {
   "cell_type": "markdown",
   "metadata": {},
   "source": [
    "### MNIST Data"
   ]
  },
  {
   "cell_type": "code",
   "execution_count": 5,
   "metadata": {},
   "outputs": [],
   "source": [
    "(x_train_mnist, y_train_mnist), (x_test_mnist, y_test_mnist) = mnist.load_data()\n",
    "x_train_mnist = x_train_mnist.reshape(x_train.shape[0], 784)\n",
    "x_test_mnist = x_test_mnist.reshape(x_test.shape[0], 784)\n",
    "x_train_mnist = x_train_mnist.astype('float32')\n",
    "x_test_mnist = x_test_mnist.astype('float32')\n",
    "x_train_mnist /= 255\n",
    "x_test_mnist /= 255\n",
    "\n",
    "data_size = 5000\n",
    "\n",
    "X_mnist = x_train_mnist[:data_size]\n",
    "y_mnist = y_train_mnist[:data_size]\n",
    "\n",
    "y_onehot_mnist = np.zeros([data_size, 10])\n",
    "y_onehot_test_mnist = np.zeros([len(y_test_mnist), 10])\n",
    "\n",
    "for a in range(data_size):\n",
    "    y_onehot_mnist[a][y[a]] = 1\n",
    "for a in range(len(y_test)):\n",
    "    y_onehot_test_mnist[a][y_test_mnist[a]] = 1"
   ]
  },
  {
   "cell_type": "markdown",
   "metadata": {},
   "source": [
    "### Network Parameters"
   ]
  },
  {
   "cell_type": "code",
   "execution_count": 6,
   "metadata": {},
   "outputs": [],
   "source": [
    "input_size = 28*28\n",
    "n_layers = 10\n",
    "n_classes = 10\n",
    "n_units = 30\n",
    "batch_size = 50\n",
    "epochs = 50"
   ]
  },
  {
   "cell_type": "markdown",
   "metadata": {},
   "source": [
    "### Creating the Network"
   ]
  },
  {
   "cell_type": "code",
   "execution_count": 7,
   "metadata": {},
   "outputs": [
    {
     "name": "stdout",
     "output_type": "stream",
     "text": [
      "WARNING:tensorflow:From <ipython-input-7-4a9e2c070279>:6: dense (from tensorflow.python.layers.core) is deprecated and will be removed in a future version.\n",
      "Instructions for updating:\n",
      "Use keras.layers.dense instead.\n",
      "WARNING:tensorflow:From /home/kavya/anaconda3/lib/python3.6/site-packages/tensorflow/python/framework/op_def_library.py:263: colocate_with (from tensorflow.python.framework.ops) is deprecated and will be removed in a future version.\n",
      "Instructions for updating:\n",
      "Colocations handled automatically by placer.\n",
      "WARNING:tensorflow:From <ipython-input-7-4a9e2c070279>:11: softmax_cross_entropy_with_logits (from tensorflow.python.ops.nn_ops) is deprecated and will be removed in a future version.\n",
      "Instructions for updating:\n",
      "\n",
      "Future major versions of TensorFlow will allow gradients to flow\n",
      "into the labels input on backprop by default.\n",
      "\n",
      "See `tf.nn.softmax_cross_entropy_with_logits_v2`.\n",
      "\n"
     ]
    }
   ],
   "source": [
    "inputs = tf.placeholder(tf.float32, [None, input_size])\n",
    "original_input = inputs\n",
    "labels = tf.placeholder(tf.float32, [None, n_classes])\n",
    "\n",
    "for a in range(n_layers):\n",
    "    layer = tf.layers.dense(inputs, n_units, 'selu', name='layer'+str(a))\n",
    "    inputs = tf.concat([inputs, layer], 1, name='concatenation'+str(a))\n",
    "\n",
    "logits = tf.layers.dense(inputs, n_classes, None, name='output')\n",
    "# logits = tf.math.l2_normalize(output, axis=0)\n",
    "loss = tf.reduce_mean(tf.nn.softmax_cross_entropy_with_logits(logits=logits, labels=labels))\n",
    "predictions = tf.nn.softmax(logits)\n",
    "\n",
    "optimizer = tf.train.GradientDescentOptimizer(0.005).minimize(loss)"
   ]
  },
  {
   "cell_type": "markdown",
   "metadata": {},
   "source": [
    "### Accuracy Function"
   ]
  },
  {
   "cell_type": "code",
   "execution_count": 10,
   "metadata": {},
   "outputs": [],
   "source": [
    "def accuracy(predictions, labels):\n",
    "    return (100.0 * np.sum(np.argmax(predictions, 1) == np.argmax(labels, 1))/ predictions.shape[0])"
   ]
  },
  {
   "cell_type": "markdown",
   "metadata": {},
   "source": [
    "### Running the Network"
   ]
  },
  {
   "cell_type": "code",
   "execution_count": 13,
   "metadata": {},
   "outputs": [
    {
     "name": "stdout",
     "output_type": "stream",
     "text": [
      "Initialized\n",
      "Epoch: 1 \tLoss: 2.6352804 \tAccuracy: 8.7\n",
      "Epoch: 2 \tLoss: 2.5934372 \tAccuracy: 8.68\n",
      "Epoch: 3 \tLoss: 2.555391 \tAccuracy: 8.58\n",
      "Epoch: 4 \tLoss: 2.5203466 \tAccuracy: 8.84\n",
      "Epoch: 5 \tLoss: 2.4877172 \tAccuracy: 8.88\n",
      "Epoch: 6 \tLoss: 2.457082 \tAccuracy: 9.12\n",
      "Epoch: 7 \tLoss: 2.4281151 \tAccuracy: 9.3\n",
      "Epoch: 8 \tLoss: 2.4005647 \tAccuracy: 9.68\n",
      "Epoch: 9 \tLoss: 2.3742263 \tAccuracy: 10.22\n",
      "Epoch: 10 \tLoss: 2.348943 \tAccuracy: 10.72\n",
      "Epoch: 11 \tLoss: 2.3245854 \tAccuracy: 11.34\n",
      "Epoch: 12 \tLoss: 2.3010485 \tAccuracy: 12.3\n",
      "Epoch: 13 \tLoss: 2.278242 \tAccuracy: 13.2\n",
      "Epoch: 14 \tLoss: 2.256089 \tAccuracy: 14.34\n",
      "Epoch: 15 \tLoss: 2.23453 \tAccuracy: 15.96\n",
      "Epoch: 16 \tLoss: 2.2135148 \tAccuracy: 16.9\n",
      "Epoch: 17 \tLoss: 2.1929944 \tAccuracy: 18.08\n",
      "Epoch: 18 \tLoss: 2.1729317 \tAccuracy: 19.54\n",
      "Epoch: 19 \tLoss: 2.1532934 \tAccuracy: 20.76\n",
      "Epoch: 20 \tLoss: 2.134049 \tAccuracy: 22.5\n",
      "Epoch: 21 \tLoss: 2.1151752 \tAccuracy: 23.72\n",
      "Epoch: 22 \tLoss: 2.0966477 \tAccuracy: 25.14\n",
      "Epoch: 23 \tLoss: 2.0784488 \tAccuracy: 26.46\n",
      "Epoch: 24 \tLoss: 2.0605633 \tAccuracy: 28.24\n",
      "Epoch: 25 \tLoss: 2.0429735 \tAccuracy: 29.68\n",
      "Epoch: 26 \tLoss: 2.0256665 \tAccuracy: 31.26\n",
      "Epoch: 27 \tLoss: 2.0086324 \tAccuracy: 33.14\n",
      "Epoch: 28 \tLoss: 1.9918602 \tAccuracy: 34.74\n",
      "Epoch: 29 \tLoss: 1.9753399 \tAccuracy: 35.8\n",
      "Epoch: 30 \tLoss: 1.9590636 \tAccuracy: 37.58\n",
      "Epoch: 31 \tLoss: 1.9430252 \tAccuracy: 38.76\n",
      "Epoch: 32 \tLoss: 1.927218 \tAccuracy: 40.24\n",
      "Epoch: 33 \tLoss: 1.9116379 \tAccuracy: 41.36\n",
      "Epoch: 34 \tLoss: 1.8962778 \tAccuracy: 42.92\n",
      "Epoch: 35 \tLoss: 1.8811314 \tAccuracy: 44.14\n",
      "Epoch: 36 \tLoss: 1.8661934 \tAccuracy: 45.16\n",
      "Epoch: 37 \tLoss: 1.8514615 \tAccuracy: 46.36\n",
      "Epoch: 38 \tLoss: 1.8369279 \tAccuracy: 47.6\n",
      "Epoch: 39 \tLoss: 1.8225912 \tAccuracy: 48.34\n",
      "Epoch: 40 \tLoss: 1.8084484 \tAccuracy: 49.32\n",
      "Epoch: 41 \tLoss: 1.7944969 \tAccuracy: 50.5\n",
      "Epoch: 42 \tLoss: 1.7807332 \tAccuracy: 51.64\n",
      "Epoch: 43 \tLoss: 1.7671547 \tAccuracy: 52.36\n",
      "Epoch: 44 \tLoss: 1.7537578 \tAccuracy: 53.28\n",
      "Epoch: 45 \tLoss: 1.7405403 \tAccuracy: 54.14\n",
      "Epoch: 46 \tLoss: 1.7274987 \tAccuracy: 54.9\n",
      "Epoch: 47 \tLoss: 1.7146301 \tAccuracy: 55.54\n",
      "Epoch: 48 \tLoss: 1.7019328 \tAccuracy: 56.38\n",
      "Epoch: 49 \tLoss: 1.6894027 \tAccuracy: 57.04\n",
      "Epoch: 50 \tLoss: 1.6770384 \tAccuracy: 57.74\n",
      "Test Accuracy:  57.11\n"
     ]
    }
   ],
   "source": [
    "with tf.Session() as session:\n",
    "    tf.initialize_all_variables().run()\n",
    "    print(\"Initialized\")\n",
    "\n",
    "    for a in range(epochs):\n",
    "        _, l, p = session.run([optimizer, loss, predictions], \n",
    "                              feed_dict={original_input:X_mnist, labels:y_onehot_mnist})\n",
    "\n",
    "        if a%50==0 or 1:\n",
    "            print(\"Epoch:\", a+1, \"\\tLoss:\", l, \"\\tAccuracy:\", accuracy(p, y_onehot_mnist))\n",
    "\n",
    "    test_p = session.run(predictions, feed_dict={original_input:x_test_mnist, labels:y_onehot_test_mnist})\n",
    "\n",
    "    print(\"Test Accuracy: \", accuracy(test_p, y_onehot_test_mnist))\n",
    "\n",
    "    \n",
    "    tf.summary.FileWriter('./logs', session.graph)"
   ]
  },
  {
   "cell_type": "code",
   "execution_count": null,
   "metadata": {},
   "outputs": [],
   "source": []
  }
 ],
 "metadata": {
  "kernelspec": {
   "display_name": "Python 3",
   "language": "python",
   "name": "python3"
  },
  "language_info": {
   "codemirror_mode": {
    "name": "ipython",
    "version": 3
   },
   "file_extension": ".py",
   "mimetype": "text/x-python",
   "name": "python",
   "nbconvert_exporter": "python",
   "pygments_lexer": "ipython3",
   "version": "3.6.5"
  }
 },
 "nbformat": 4,
 "nbformat_minor": 2
}
