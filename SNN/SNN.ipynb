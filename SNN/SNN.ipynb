{
 "cells": [
  {
   "cell_type": "markdown",
   "metadata": {},
   "source": [
    "# SNN"
   ]
  },
  {
   "cell_type": "markdown",
   "metadata": {},
   "source": [
    "--------------------------\n",
    "## Personal\n",
    "#### Things to Do:\n",
    "- (DONE) L2 normalisation gives slower training so that line has been commented out.Need to figure out why that's happening and if it is normal\n",
    "- Need to figure out the loss function being used\n",
    "- Batching the training\n",
    "- Logging information nicely\n",
    "--------------------------\n",
    "\n",
    "## Resources and Information\n",
    "\n",
    "Additive margin loss: https://arxiv.org/pdf/1801.05599.pdf\n",
    "<br>Large margin softmax: https://arxiv.org/pdf/1612.02295.pdf https://github.com/auroua/L_Softmax_TensorFlow/blob/master/nets/l_softmax.py\n",
    "\n",
    "--------------------------\n",
    "\n",
    "## Code\n",
    "--------------------------"
   ]
  },
  {
   "cell_type": "code",
   "execution_count": 1,
   "metadata": {},
   "outputs": [
    {
     "name": "stderr",
     "output_type": "stream",
     "text": [
      "/home/kavya/anaconda3/lib/python3.6/site-packages/h5py/__init__.py:36: FutureWarning: Conversion of the second argument of issubdtype from `float` to `np.floating` is deprecated. In future, it will be treated as `np.float64 == np.dtype(float).type`.\n",
      "  from ._conv import register_converters as _register_converters\n",
      "Using TensorFlow backend.\n"
     ]
    }
   ],
   "source": [
    "import tensorflow as tf\n",
    "import numpy as np\n",
    "from tensorflow import keras\n",
    "from keras.datasets import mnist"
   ]
  },
  {
   "cell_type": "markdown",
   "metadata": {},
   "source": [
    "### MNIST Data"
   ]
  },
  {
   "cell_type": "code",
   "execution_count": 6,
   "metadata": {},
   "outputs": [],
   "source": [
    "(x_train_mnist, y_train_mnist), (x_test_mnist, y_test_mnist) = mnist.load_data()\n",
    "x_train_mnist = x_train_mnist.reshape(x_train_mnist.shape[0], 784)\n",
    "x_test_mnist = x_test_mnist.reshape(x_test_mnist.shape[0], 784)\n",
    "x_train_mnist = x_train_mnist.astype('float32')\n",
    "x_test_mnist = x_test_mnist.astype('float32')\n",
    "x_train_mnist /= 255\n",
    "x_test_mnist /= 255\n",
    "\n",
    "data_size = 5000\n",
    "\n",
    "X_mnist = x_train_mnist[:data_size]\n",
    "y_mnist = y_train_mnist[:data_size]\n",
    "\n",
    "y_onehot_mnist = np.zeros([data_size, 10])\n",
    "y_onehot_test_mnist = np.zeros([len(y_test_mnist), 10])\n",
    "\n",
    "for a in range(data_size):\n",
    "    y_onehot_mnist[a][y_mnist[a]] = 1\n",
    "for a in range(len(y_test_mnist)):\n",
    "    y_onehot_test_mnist[a][y_test_mnist[a]] = 1"
   ]
  },
  {
   "cell_type": "markdown",
   "metadata": {},
   "source": [
    "### Network Parameters"
   ]
  },
  {
   "cell_type": "code",
   "execution_count": 7,
   "metadata": {},
   "outputs": [],
   "source": [
    "input_size = 28*28\n",
    "n_layers = 10\n",
    "n_classes = 10\n",
    "n_units = 30\n",
    "batch_size = 50\n",
    "epochs = 50\n",
    "learning_rate = 0.05"
   ]
  },
  {
   "cell_type": "markdown",
   "metadata": {},
   "source": [
    "### Accuracy Function"
   ]
  },
  {
   "cell_type": "code",
   "execution_count": 12,
   "metadata": {},
   "outputs": [],
   "source": [
    "def accuracy(predictions, labels):\n",
    "    return (100.0 * np.sum(np.argmax(predictions, 1) == np.argmax(labels, 1))/ predictions.shape[0])"
   ]
  },
  {
   "cell_type": "markdown",
   "metadata": {},
   "source": [
    "### Creating the Network"
   ]
  },
  {
   "cell_type": "code",
   "execution_count": 32,
   "metadata": {},
   "outputs": [],
   "source": [
    "tf.reset_default_graph()\n",
    "\n",
    "inputs = tf.placeholder(tf.float32, [None, input_size])\n",
    "original_input = inputs\n",
    "labels = tf.placeholder(tf.float32, [None, n_classes])\n",
    "\n",
    "for a in range(n_layers):\n",
    "    layer = tf.layers.dense(inputs, n_units, 'selu', name='layer'+str(a))\n",
    "    inputs = tf.concat([inputs, layer], 1, name='concatenation'+str(a))\n",
    "\n",
    "logits = tf.layers.dense(inputs, n_classes, None, name='output')\n",
    "logits = tf.math.l2_normalize(logits, axis=1)\n",
    "\n",
    "loss = tf.reduce_mean(tf.nn.softmax_cross_entropy_with_logits(logits=logits, labels=labels))\n",
    "\n",
    "predictions = tf.nn.softmax(logits)\n",
    "\n",
    "optimizer = tf.train.GradientDescentOptimizer(learning_rate).minimize(loss)"
   ]
  },
  {
   "cell_type": "markdown",
   "metadata": {},
   "source": [
    "### Running the Network"
   ]
  },
  {
   "cell_type": "code",
   "execution_count": 33,
   "metadata": {},
   "outputs": [
    {
     "name": "stdout",
     "output_type": "stream",
     "text": [
      "Initialized\n",
      "Epoch: 1 \tLoss: 2.3350246 \tAccuracy: 15.48\n",
      "Epoch: 2 \tLoss: 2.2935538 \tAccuracy: 19.54\n",
      "Epoch: 3 \tLoss: 2.2508812 \tAccuracy: 23.78\n",
      "Epoch: 4 \tLoss: 2.2049522 \tAccuracy: 27.44\n",
      "Epoch: 5 \tLoss: 2.1543813 \tAccuracy: 31.68\n",
      "Epoch: 6 \tLoss: 2.0997586 \tAccuracy: 35.34\n",
      "Epoch: 7 \tLoss: 2.04551 \tAccuracy: 40.8\n",
      "Epoch: 8 \tLoss: 1.9983243 \tAccuracy: 46.66\n",
      "Epoch: 9 \tLoss: 1.9609023 \tAccuracy: 51.52\n",
      "Epoch: 10 \tLoss: 1.9313827 \tAccuracy: 55.56\n",
      "Epoch: 11 \tLoss: 1.9074184 \tAccuracy: 59.22\n",
      "Epoch: 12 \tLoss: 1.8875211 \tAccuracy: 62.32\n",
      "Epoch: 13 \tLoss: 1.8707762 \tAccuracy: 64.78\n",
      "Epoch: 14 \tLoss: 1.8565377 \tAccuracy: 66.74\n",
      "Epoch: 15 \tLoss: 1.8443071 \tAccuracy: 68.5\n",
      "Epoch: 16 \tLoss: 1.8336918 \tAccuracy: 69.62\n",
      "Epoch: 17 \tLoss: 1.8243876 \tAccuracy: 70.74\n",
      "Epoch: 18 \tLoss: 1.8161559 \tAccuracy: 71.6\n",
      "Epoch: 19 \tLoss: 1.8088094 \tAccuracy: 72.58\n",
      "Epoch: 20 \tLoss: 1.802201 \tAccuracy: 73.5\n",
      "Epoch: 21 \tLoss: 1.7962136 \tAccuracy: 74.46\n",
      "Epoch: 22 \tLoss: 1.7907518 \tAccuracy: 75.26\n",
      "Epoch: 23 \tLoss: 1.785741 \tAccuracy: 75.84\n",
      "Epoch: 24 \tLoss: 1.7811184 \tAccuracy: 76.4\n",
      "Epoch: 25 \tLoss: 1.7768341 \tAccuracy: 76.9\n",
      "Epoch: 26 \tLoss: 1.7728468 \tAccuracy: 77.42\n",
      "Epoch: 27 \tLoss: 1.7691222 \tAccuracy: 77.68\n",
      "Epoch: 28 \tLoss: 1.7656289 \tAccuracy: 78.18\n",
      "Epoch: 29 \tLoss: 1.7623434 \tAccuracy: 78.46\n",
      "Epoch: 30 \tLoss: 1.7592459 \tAccuracy: 78.76\n",
      "Epoch: 31 \tLoss: 1.7563171 \tAccuracy: 79.08\n",
      "Epoch: 32 \tLoss: 1.7535414 \tAccuracy: 79.34\n",
      "Epoch: 33 \tLoss: 1.7509043 \tAccuracy: 79.58\n",
      "Epoch: 34 \tLoss: 1.7483953 \tAccuracy: 79.82\n",
      "Epoch: 35 \tLoss: 1.7460017 \tAccuracy: 80.08\n",
      "Epoch: 36 \tLoss: 1.7437156 \tAccuracy: 80.4\n",
      "Epoch: 37 \tLoss: 1.7415285 \tAccuracy: 80.48\n",
      "Epoch: 38 \tLoss: 1.7394332 \tAccuracy: 80.7\n",
      "Epoch: 39 \tLoss: 1.7374234 \tAccuracy: 80.74\n",
      "Epoch: 40 \tLoss: 1.7354926 \tAccuracy: 80.86\n",
      "Epoch: 41 \tLoss: 1.7336355 \tAccuracy: 81.02\n",
      "Epoch: 42 \tLoss: 1.731847 \tAccuracy: 81.16\n",
      "Epoch: 43 \tLoss: 1.7301234 \tAccuracy: 81.3\n",
      "Epoch: 44 \tLoss: 1.7284614 \tAccuracy: 81.42\n",
      "Epoch: 45 \tLoss: 1.7268556 \tAccuracy: 81.48\n",
      "Epoch: 46 \tLoss: 1.7253039 \tAccuracy: 81.68\n",
      "Epoch: 47 \tLoss: 1.7238039 \tAccuracy: 81.88\n",
      "Epoch: 48 \tLoss: 1.7223508 \tAccuracy: 82.1\n",
      "Epoch: 49 \tLoss: 1.7209438 \tAccuracy: 82.2\n",
      "Epoch: 50 \tLoss: 1.7195795 \tAccuracy: 82.42\n",
      "Test Accuracy:  81.07\n"
     ]
    }
   ],
   "source": [
    "with tf.Session() as session:\n",
    "    tf.initialize_all_variables().run()\n",
    "    print(\"Initialized\")\n",
    "\n",
    "    for a in range(epochs):\n",
    "        _, l, p = session.run([optimizer, loss, predictions], \n",
    "                              feed_dict={original_input:X_mnist, labels:y_onehot_mnist})\n",
    "\n",
    "        if a%50==0 or 1:\n",
    "            print(\"Epoch:\", a+1, \"\\tLoss:\", l, \"\\tAccuracy:\", accuracy(p, y_onehot_mnist))\n",
    "\n",
    "    test_p = session.run(predictions, feed_dict={original_input:x_test_mnist, labels:y_onehot_test_mnist})\n",
    "\n",
    "    print(\"Test Accuracy: \", accuracy(test_p, y_onehot_test_mnist))\n",
    "\n",
    "    \n",
    "    tf.summary.FileWriter('./logs', session.graph)"
   ]
  },
  {
   "cell_type": "markdown",
   "metadata": {},
   "source": [
    "### Trial for Loss"
   ]
  },
  {
   "cell_type": "code",
   "execution_count": 80,
   "metadata": {},
   "outputs": [
    {
     "name": "stdout",
     "output_type": "stream",
     "text": [
      "[[0.9489924  0.7482314 ]\n",
      " [0.61995095 0.8787859 ]]\n",
      "[[0. 1.]\n",
      " [1. 0.]]\n",
      "[[ 0.9489924  -0.2517686 ]\n",
      " [-0.38004905  0.8787859 ]]\n",
      "[[0.9489924  0.7482314 ]\n",
      " [0.61995095 0.8787859 ]]\n",
      "[[0. 1.]\n",
      " [1. 0.]]\n",
      "[[ 0.9489924  -0.2517686 ]\n",
      " [-0.38004905  0.8787859 ]]\n",
      "[[0.9489924  0.7482314 ]\n",
      " [0.61995095 0.8787859 ]]\n",
      "[[0. 1.]\n",
      " [1. 0.]]\n",
      "[[ 0.9489924  -0.2517686 ]\n",
      " [-0.38004905  0.8787859 ]]\n",
      "[[0.9489924  0.7482314 ]\n",
      " [0.61995095 0.8787859 ]]\n",
      "[[0. 1.]\n",
      " [1. 0.]]\n",
      "[[ 0.9489924  -0.2517686 ]\n",
      " [-0.38004905  0.8787859 ]]\n",
      "[[0.9489924  0.7482314 ]\n",
      " [0.61995095 0.8787859 ]]\n",
      "[[0. 1.]\n",
      " [1. 0.]]\n",
      "[[ 0.9489924  -0.2517686 ]\n",
      " [-0.38004905  0.8787859 ]]\n",
      "[[0.9489924  0.7482314 ]\n",
      " [0.61995095 0.8787859 ]]\n",
      "[[0. 1.]\n",
      " [1. 0.]]\n",
      "[[ 0.9489924  -0.2517686 ]\n",
      " [-0.38004905  0.8787859 ]]\n",
      "[[0.9489924  0.7482314 ]\n",
      " [0.61995095 0.8787859 ]]\n",
      "[[0. 1.]\n",
      " [1. 0.]]\n",
      "[[ 0.9489924  -0.2517686 ]\n",
      " [-0.38004905  0.8787859 ]]\n",
      "[[0.9489924  0.7482314 ]\n",
      " [0.61995095 0.8787859 ]]\n",
      "[[0. 1.]\n",
      " [1. 0.]]\n",
      "[[ 0.9489924  -0.2517686 ]\n",
      " [-0.38004905  0.8787859 ]]\n",
      "[[0.9489924  0.7482314 ]\n",
      " [0.61995095 0.8787859 ]]\n",
      "[[0. 1.]\n",
      " [1. 0.]]\n",
      "[[ 0.9489924  -0.2517686 ]\n",
      " [-0.38004905  0.8787859 ]]\n",
      "[[0.9489924  0.7482314 ]\n",
      " [0.61995095 0.8787859 ]]\n",
      "[[0. 1.]\n",
      " [1. 0.]]\n",
      "[[ 0.9489924  -0.2517686 ]\n",
      " [-0.38004905  0.8787859 ]]\n"
     ]
    }
   ],
   "source": [
    "embedding_length = 2\n",
    "number_of_samples = 2\n",
    "number_of_classes = 2\n",
    "\n",
    "tf.reset_default_graph()\n",
    "\n",
    "labels = tf.placeholder(tf.int32, [None])\n",
    "embeddings = tf.placeholder(tf.float32, [None, embedding_length])\n",
    "norm_embeddings = tf.nn.l2_normalize(embeddings, axis=1, name='embeddings')\n",
    "class_weights = tf.constant(np.random.rand(embedding_length, number_of_classes), dtype=tf.float32)\n",
    "class_weights = tf.nn.l2_normalize(class_weights, axis=0, name='class_weights')\n",
    "cosines = tf.matmul(norm_embeddings, class_weights)\n",
    "margin = tf.placeholder(tf.float32)\n",
    "onehot_label = tf.one_hot(labels, number_of_classes)\n",
    "subtract_margin = cosines - onehot_label\n",
    "\n",
    "m = 0\n",
    "m_change = 0.00002\n",
    "m_max = 25\n",
    "\n",
    "\n",
    "with tf.Session() as session:\n",
    "    feed_dict={embeddings:np.random.rand(number_of_samples, embedding_length),\n",
    "                                     labels: np.random.randint(0, number_of_classes, number_of_samples),\n",
    "                                      margin: m}\n",
    "    \n",
    "#     e, cw, c, o, s = session.run([norm_embeddings, class_weights, cosines, onehot_label, subtract_margin], \n",
    "#                            feed_dict={embeddings:np.random.rand(number_of_samples, embedding_length),\n",
    "#                                      labels: np.random.randint(0, number_of_classes, number_of_samples)})\n",
    "#     print(e)\n",
    "#     print(cw)\n",
    "#     print(c)\n",
    "#     print(o)\n",
    "    session.run([cosines, onehot_label, subtract_margin], feed_dict=feed_dict)\n",
    "    for a in range(10):\n",
    "        c, o, s = session.run([cosines, onehot_label, subtract_margin], feed_dict=feed_dict)\n",
    "        print(c)\n",
    "        print(o)\n",
    "        print(s)\n",
    "        m = min(m+m_change, m_max)\n",
    "    tf.summary.FileWriter('./logs', session.graph)"
   ]
  },
  {
   "cell_type": "code",
   "execution_count": 67,
   "metadata": {},
   "outputs": [
    {
     "data": {
      "text/plain": [
       "array([1, 0])"
      ]
     },
     "execution_count": 67,
     "metadata": {},
     "output_type": "execute_result"
    }
   ],
   "source": [
    "np.random.randint(0, number_of_classes, number_of_samples)"
   ]
  },
  {
   "cell_type": "code",
   "execution_count": null,
   "metadata": {},
   "outputs": [],
   "source": []
  }
 ],
 "metadata": {
  "kernelspec": {
   "display_name": "Python 3",
   "language": "python",
   "name": "python3"
  },
  "language_info": {
   "codemirror_mode": {
    "name": "ipython",
    "version": 3
   },
   "file_extension": ".py",
   "mimetype": "text/x-python",
   "name": "python",
   "nbconvert_exporter": "python",
   "pygments_lexer": "ipython3",
   "version": "3.6.5"
  }
 },
 "nbformat": 4,
 "nbformat_minor": 2
}
