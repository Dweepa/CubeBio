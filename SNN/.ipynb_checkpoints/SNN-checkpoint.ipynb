{
 "cells": [
  {
   "cell_type": "markdown",
   "metadata": {},
   "source": [
    "# SNN"
   ]
  },
  {
   "cell_type": "markdown",
   "metadata": {},
   "source": [
    "--------------------------\n",
    "## Personal\n",
    "#### Things to Do:\n",
    "- (DONE) L2 normalisation gives slower training so that line has been commented out.Need to figure out why that's happening and if it is normal\n",
    "- (DONE) Implement modified softmax\n",
    "- (DONE) Combine DenseNet and Modified Softmax\n",
    "- Figure out class weights and incorporate that\n",
    "- check if alpha needs a relu (only with actual embeddings)\n",
    "- Batching the training\n",
    "- Logging information nicely\n",
    "--------------------------\n",
    "\n",
    "## Resources and Information\n",
    "\n",
    "Additive margin loss: https://arxiv.org/pdf/1801.05599.pdf\n",
    "<br>Large margin softmax: https://arxiv.org/pdf/1612.02295.pdf https://github.com/auroua/L_Softmax_TensorFlow/blob/master/nets/l_softmax.py\n",
    "\n",
    "--------------------------\n",
    "\n",
    "## Code\n",
    "--------------------------"
   ]
  },
  {
   "cell_type": "code",
   "execution_count": 1,
   "metadata": {},
   "outputs": [
    {
     "name": "stderr",
     "output_type": "stream",
     "text": [
      "/home/kavya/anaconda3/lib/python3.6/site-packages/h5py/__init__.py:36: FutureWarning: Conversion of the second argument of issubdtype from `float` to `np.floating` is deprecated. In future, it will be treated as `np.float64 == np.dtype(float).type`.\n",
      "  from ._conv import register_converters as _register_converters\n",
      "Using TensorFlow backend.\n"
     ]
    }
   ],
   "source": [
    "import tensorflow as tf\n",
    "import numpy as np\n",
    "from tensorflow import keras\n",
    "from keras.datasets import mnist\n",
    "from sklearn.preprocessing import normalize\n",
    "import matplotlib.pyplot as plt"
   ]
  },
  {
   "cell_type": "markdown",
   "metadata": {},
   "source": [
    "### MNIST Data"
   ]
  },
  {
   "cell_type": "code",
   "execution_count": 15,
   "metadata": {},
   "outputs": [],
   "source": [
    "(x_train_mnist, y_train_mnist), (x_test_mnist, y_test_mnist) = mnist.load_data()\n",
    "x_train_mnist = x_train_mnist.reshape(x_train_mnist.shape[0], 784)\n",
    "x_test_mnist = x_test_mnist.reshape(x_test_mnist.shape[0], 784)\n",
    "x_train_mnist = x_train_mnist.astype('float32')\n",
    "x_test_mnist = x_test_mnist.astype('float32')\n",
    "x_train_mnist /= 255\n",
    "x_test_mnist /= 255\n",
    "\n",
    "data_size = 5000\n",
    "\n",
    "X_mnist = x_train_mnist[:data_size]\n",
    "y_mnist = y_train_mnist[:data_size]\n",
    "\n",
    "y_onehot_mnist = np.zeros([data_size, 10])\n",
    "y_onehot_test_mnist = np.zeros([len(y_test_mnist), 10])\n",
    "\n",
    "for a in range(data_size):\n",
    "    y_onehot_mnist[a][y_mnist[a]] = 1\n",
    "for a in range(len(y_test_mnist)):\n",
    "    y_onehot_test_mnist[a][y_test_mnist[a]] = 1"
   ]
  },
  {
   "cell_type": "markdown",
   "metadata": {},
   "source": [
    "### Network Parameters"
   ]
  },
  {
   "cell_type": "code",
   "execution_count": 62,
   "metadata": {},
   "outputs": [],
   "source": [
    "input_size = 28*28\n",
    "n_layers = 10\n",
    "n_classes = 10\n",
    "n_units = 20\n",
    "batch_size = 50\n",
    "epochs = 80\n",
    "learning_rate = 0.05"
   ]
  },
  {
   "cell_type": "markdown",
   "metadata": {},
   "source": [
    "### Accuracy Function"
   ]
  },
  {
   "cell_type": "code",
   "execution_count": 29,
   "metadata": {},
   "outputs": [],
   "source": [
    "def accuracy(predictions, labels):\n",
    "    return (100.0 * np.sum(np.argmax(predictions, 1) == np.argmax(labels, 1))/ predictions.shape[0])"
   ]
  },
  {
   "cell_type": "markdown",
   "metadata": {},
   "source": [
    "### Neural Network"
   ]
  },
  {
   "cell_type": "code",
   "execution_count": 63,
   "metadata": {},
   "outputs": [
    {
     "name": "stdout",
     "output_type": "stream",
     "text": [
      "Initialized\n",
      "Epoch: 1 \tLoss: 2.3455486 \tAccuracy: 13.76\n",
      "Epoch: 11 \tLoss: 2.0272238 \tAccuracy: 35.26\n",
      "Epoch: 21 \tLoss: 1.9215238 \tAccuracy: 44.74\n",
      "Epoch: 31 \tLoss: 1.8438035 \tAccuracy: 49.24\n",
      "Epoch: 41 \tLoss: 1.819768 \tAccuracy: 54.16\n",
      "Epoch: 51 \tLoss: 1.7734458 \tAccuracy: 62.56\n",
      "Epoch: 61 \tLoss: 1.685293 \tAccuracy: 68.14\n",
      "Epoch: 71 \tLoss: 1.663602 \tAccuracy: 71.06\n",
      "Test Accuracy:  67.67\n"
     ]
    }
   ],
   "source": [
    "tf.reset_default_graph()\n",
    "\n",
    "number_of_units_nn = 20\n",
    "\n",
    "inputs = tf.placeholder(tf.float32, [None, input_size])\n",
    "original_input = inputs\n",
    "labels = tf.placeholder(tf.float32, [None, n_classes])\n",
    "\n",
    "for a in range(n_layers):\n",
    "    layer = tf.layers.dense(inputs, number_of_units_nn, 'selu', name='layer'+str(a))\n",
    "    inputs = layer\n",
    "\n",
    "logits = tf.layers.dense(inputs, n_classes, None, name='output')\n",
    "logits = tf.math.l2_normalize(logits, axis=1)\n",
    "\n",
    "loss = tf.reduce_mean(tf.nn.softmax_cross_entropy_with_logits(logits=logits, labels=labels))\n",
    "\n",
    "predictions = tf.nn.softmax(logits)\n",
    "\n",
    "optimizer = tf.train.AdamOptimizer(learning_rate).minimize(loss)\n",
    "\n",
    "with tf.Session() as session:\n",
    "    tf.initialize_all_variables().run()\n",
    "    print(\"Initialized\")\n",
    "    nn_loss = []\n",
    "\n",
    "    for a in range(epochs):\n",
    "        _, l, p = session.run([optimizer, loss, predictions], \n",
    "                              feed_dict={original_input:X_mnist, labels:y_onehot_mnist})\n",
    "        nn_loss.append(l)\n",
    "\n",
    "        if a%10==0:\n",
    "            print(\"Epoch:\", a+1, \"\\tLoss:\", l, \"\\tAccuracy:\", accuracy(p, y_onehot_mnist))\n",
    "\n",
    "    test_p = session.run(predictions, feed_dict={original_input:x_test_mnist, labels:y_onehot_test_mnist})\n",
    "\n",
    "    print(\"Test Accuracy: \", accuracy(test_p, y_onehot_test_mnist))\n",
    "\n",
    "    \n",
    "    tf.summary.FileWriter('./logs', session.graph)"
   ]
  },
  {
   "cell_type": "markdown",
   "metadata": {},
   "source": [
    "---------------------\n",
    "### Dense Network with Softmax on Onehot Encoding\n",
    "![title](img/densenet.png)"
   ]
  },
  {
   "cell_type": "code",
   "execution_count": 64,
   "metadata": {},
   "outputs": [],
   "source": [
    "tf.reset_default_graph()\n",
    "\n",
    "inputs = tf.placeholder(tf.float32, [None, input_size])\n",
    "original_input = inputs\n",
    "labels = tf.placeholder(tf.float32, [None, n_classes])\n",
    "\n",
    "for a in range(n_layers):\n",
    "    layer = tf.layers.dense(inputs, n_units, 'selu', name='layer'+str(a))\n",
    "    inputs = tf.concat([inputs, layer], 1, name='concatenation'+str(a))\n",
    "\n",
    "logits = tf.layers.dense(inputs, n_classes, None, name='output')\n",
    "logits = tf.math.l2_normalize(logits, axis=1)\n",
    "\n",
    "loss = tf.reduce_mean(tf.nn.softmax_cross_entropy_with_logits(logits=logits, labels=labels))\n",
    "\n",
    "predictions = tf.nn.softmax(logits)\n",
    "\n",
    "optimizer = tf.train.AdamOptimizer(learning_rate).minimize(loss)"
   ]
  },
  {
   "cell_type": "markdown",
   "metadata": {},
   "source": [
    "### Running the Network"
   ]
  },
  {
   "cell_type": "code",
   "execution_count": 65,
   "metadata": {},
   "outputs": [
    {
     "name": "stdout",
     "output_type": "stream",
     "text": [
      "Initialized\n",
      "Epoch: 1 \tLoss: 2.341212 \tAccuracy: 7.48\n",
      "Epoch: 21 \tLoss: 1.5132298 \tAccuracy: 92.14\n",
      "Epoch: 41 \tLoss: 1.4477763 \tAccuracy: 97.74\n",
      "Epoch: 61 \tLoss: 1.4346657 \tAccuracy: 98.72\n",
      "Test Accuracy:  92.85\n"
     ]
    }
   ],
   "source": [
    "with tf.Session() as session:\n",
    "    tf.initialize_all_variables().run()\n",
    "    print(\"Initialized\")\n",
    "    dnn_loss = []\n",
    "\n",
    "    for a in range(epochs):\n",
    "        _, l, p = session.run([optimizer, loss, predictions], \n",
    "                              feed_dict={original_input:X_mnist, labels:y_onehot_mnist})\n",
    "        dnn_loss.append(l)\n",
    "        if a%20==0:\n",
    "            print(\"Epoch:\", a+1, \"\\tLoss:\", l, \"\\tAccuracy:\", accuracy(p, y_onehot_mnist))\n",
    "\n",
    "    test_p = session.run(predictions, feed_dict={original_input:x_test_mnist, labels:y_onehot_test_mnist})\n",
    "\n",
    "    print(\"Test Accuracy: \", accuracy(test_p, y_onehot_test_mnist))\n",
    "\n",
    "    \n",
    "    tf.summary.FileWriter('./logs', session.graph)"
   ]
  },
  {
   "cell_type": "code",
   "execution_count": 66,
   "metadata": {},
   "outputs": [
    {
     "data": {
      "image/png": "[encoded data removed]",
      "text/plain": [
       "<Figure size 1440x432 with 1 Axes>"
      ]
     },
     "metadata": {},
     "output_type": "display_data"
    }
   ],
   "source": [
    "plt.figure(figsize=(20, 6))\n",
    "plt.plot(np.arange(epochs), nn_loss, label='Neural Network')\n",
    "plt.plot(np.arange(epochs), dnn_loss, label='DenseNet')\n",
    "plt.legend()\n",
    "plt.title(\"Comparison Between Neural Network and Densenet\")\n",
    "plt.show()"
   ]
  },
  {
   "cell_type": "markdown",
   "metadata": {},
   "source": [
    "-----------------\n",
    "### Modified Softmax Function\n",
    "![title](img/modified_softmax.png)"
   ]
  },
  {
   "cell_type": "code",
   "execution_count": 8,
   "metadata": {},
   "outputs": [
    {
     "name": "stdout",
     "output_type": "stream",
     "text": [
      "3.2774904 [0.36053702]\n",
      "3.2773767 [0.36299577]\n",
      "3.277263 [0.3654524]\n",
      "3.2771494 [0.3679069]\n",
      "3.2770364 [0.37035927]\n",
      "3.2769234 [0.3728095]\n",
      "3.2768111 [0.3752576]\n",
      "3.2766988 [0.3777036]\n",
      "3.2765863 [0.38014746]\n",
      "3.2764747 [0.3825892]\n"
     ]
    }
   ],
   "source": [
    "embedding_length = 12\n",
    "number_of_samples = 22\n",
    "number_of_classes = 27\n",
    "\n",
    "tf.reset_default_graph()\n",
    "\n",
    "labels = tf.placeholder(tf.int32, [None], name='labels')\n",
    "\n",
    "embeddings = tf.placeholder(tf.float32, [None, embedding_length])\n",
    "norm_embeddings = tf.nn.l2_normalize(embeddings, axis=1, name='embeddings')\n",
    "\n",
    "class_weights = tf.constant(normalize(np.random.rand(embedding_length, number_of_classes)), dtype=tf.float32,\n",
    "                           name='class_weights')\n",
    "\n",
    "margin = tf.placeholder(tf.float32, name='margin')\n",
    "\n",
    "alpha_initial = tf.get_variable(dtype=tf.float32, initializer=tf.constant(np.random.rand(1), dtype='float32'), name='alpha')\n",
    "alpha = tf.nn.relu(alpha_initial)\n",
    "\n",
    "cosines = tf.matmul(norm_embeddings, class_weights, name='cosines')\n",
    "onehot_label = tf.one_hot(labels, number_of_classes, name='labels_onehot')\n",
    "m_onehot = tf.math.multiply(margin, onehot_label, name='mxonehot')\n",
    "margin_cosine = tf.subtract(cosines, m_onehot, name='cosine-m')\n",
    "alpha_margin_cosine = tf.math.exp(tf.math.multiply(alpha, margin_cosine), name='alphaxc-m')\n",
    "amc_numerator = tf.reduce_sum(tf.multiply(alpha_margin_cosine, onehot_label), axis=1, name='amc_positive')\n",
    "amc_denominator = tf.reduce_sum(alpha_margin_cosine, axis=1, name='amc_total')\n",
    "amc_fraction = tf.divide(amc_numerator, amc_denominator, name='amc_fraction')\n",
    "log_amcf = -tf.log(amc_fraction, name='log_amc')\n",
    "loss = tf.reduce_mean(log_amcf, name='loss')\n",
    "\n",
    "m = 0\n",
    "m_change = 0.00002\n",
    "m_max = 25\n",
    "\n",
    "optimizer = tf.train.GradientDescentOptimizer(learning_rate).minimize(loss)\n",
    "\n",
    "with tf.Session() as session:\n",
    "    feed_dict={embeddings:np.random.rand(number_of_samples, embedding_length),\n",
    "                                     labels: np.random.randint(0, number_of_classes, number_of_samples),\n",
    "                                      margin: m}\n",
    "    alpha_initial.initializer.run()\n",
    "    \n",
    "    for a in range(10):\n",
    "        l, o, a = session.run([loss, optimizer, alpha], feed_dict=feed_dict)\n",
    "        print(l, a)\n",
    "        feed_dict[margin] = min(feed_dict[margin]+m_change, m_max)\n",
    "    tf.summary.FileWriter('./logs', session.graph)"
   ]
  },
  {
   "cell_type": "markdown",
   "metadata": {},
   "source": [
    "-----------------\n",
    "### DenseNet with Modified Softmax Function\n",
    "![title](img/graph.png)"
   ]
  },
  {
   "cell_type": "code",
   "execution_count": 9,
   "metadata": {},
   "outputs": [],
   "source": [
    "input_size = 28*28\n",
    "n_layers = 10\n",
    "n_classes = 10\n",
    "n_units = 12\n",
    "batch_size = 50\n",
    "epochs = 50\n",
    "learning_rate = 0.005\n",
    "\n",
    "embedding_length = 12\n",
    "number_of_samples = 300"
   ]
  },
  {
   "cell_type": "code",
   "execution_count": 68,
   "metadata": {},
   "outputs": [],
   "source": [
    "tf.reset_default_graph()\n",
    "\n",
    "inputs = tf.placeholder(tf.float32, [None, input_size], name='gene_expression')\n",
    "original_input = inputs\n",
    "labels = tf.placeholder(tf.int32, [None], name='labels')\n",
    "\n",
    "for a in range(n_layers):\n",
    "    layer = tf.layers.dense(inputs, n_units, 'selu', name='layer'+str(a))\n",
    "    inputs = tf.concat([inputs, layer], 1, name='concatenation'+str(a))\n",
    "\n",
    "embeddings = tf.layers.dense(inputs, embedding_length, None, name='embedding')\n",
    "norm_embeddings = tf.nn.l2_normalize(embeddings, axis=1, name='norm_embeddings')\n",
    "\n",
    "class_weights = tf.constant(normalize(np.random.rand(embedding_length, n_classes)), dtype=tf.float32,\n",
    "                           name='class_weights')\n",
    "\n",
    "margin = tf.placeholder(tf.float32, name='margin')\n",
    "\n",
    "alpha_initial = tf.get_variable(dtype=tf.float32, initializer=tf.constant(np.random.rand(1), dtype='float32'), \n",
    "                                name='alpha')\n",
    "alpha = tf.nn.relu(alpha_initial)\n",
    "\n",
    "cosines = tf.matmul(norm_embeddings, class_weights, name='cosines')\n",
    "onehot_label = tf.one_hot(labels, n_classes, name='labels_onehot')\n",
    "m_onehot = tf.math.multiply(margin, onehot_label, name='mxonehot')\n",
    "margin_cosine = tf.subtract(cosines, m_onehot, name='cosine-m')\n",
    "alpha_margin_cosine = tf.math.exp(tf.math.multiply(alpha, margin_cosine), name='alphaxc-m')\n",
    "amc_numerator = tf.reduce_sum(tf.multiply(alpha_margin_cosine, onehot_label), axis=1, name='amc_positive')\n",
    "amc_denominator = tf.reduce_sum(alpha_margin_cosine, axis=1, name='amc_total')\n",
    "amc_fraction = tf.divide(amc_numerator, amc_denominator, name='amc_fraction')\n",
    "log_amcf = -tf.log(amc_fraction, name='log_amc')\n",
    "loss = tf.reduce_mean(log_amcf, name='loss')\n",
    "\n",
    "m = 0\n",
    "m_change = 0.00002\n",
    "m_max = 25\n",
    "\n",
    "optimizer = tf.train.AdamOptimizer(learning_rate).minimize(loss)"
   ]
  },
  {
   "cell_type": "code",
   "execution_count": 69,
   "metadata": {
    "scrolled": false
   },
   "outputs": [
    {
     "name": "stdout",
     "output_type": "stream",
     "text": [
      "Initialized\n",
      "Epoch: 1 \tLoss: 2.307089\n",
      "Epoch: 51 \tLoss: 1.1351569\n",
      "Epoch: 101 \tLoss: 0.5687475\n",
      "Epoch: 151 \tLoss: 0.3291086\n",
      "Epoch: 201 \tLoss: 0.22148006\n",
      "Epoch: 251 \tLoss: 0.16155751\n",
      "Epoch: 301 \tLoss: 0.14798883\n",
      "Epoch: 351 \tLoss: 0.10793887\n"
     ]
    }
   ],
   "source": [
    "with tf.Session() as session:\n",
    "    feed_dict={original_input:np.random.rand(number_of_samples, input_size),\n",
    "                                     labels: np.random.randint(0, n_classes, number_of_samples),\n",
    "                                      margin: m}\n",
    "    \n",
    "    feed_dict={original_input:X_mnist, labels: y_mnist, margin: m}\n",
    "    \n",
    "    \n",
    "    alpha_initial.initializer.run()\n",
    "    tf.initialize_all_variables().run()\n",
    "    print(\"Initialized\")\n",
    "    losses = []\n",
    "    for a in range(400):\n",
    "        _, l = session.run([optimizer, loss], feed_dict=feed_dict)\n",
    "        if a%50==0:\n",
    "            print(\"Epoch:\", a+1, \"\\tLoss:\", l)\n",
    "        losses.append(l)\n",
    "        feed_dict[margin] = min(feed_dict[margin]+m_change, m_max)\n",
    "    tf.summary.FileWriter('./logs', session.graph)"
   ]
  },
  {
   "cell_type": "code",
   "execution_count": 70,
   "metadata": {},
   "outputs": [
    {
     "data": {
      "image/png": "[encoded data removed]",
      "text/plain": [
       "<Figure size 1440x432 with 1 Axes>"
      ]
     },
     "metadata": {},
     "output_type": "display_data"
    }
   ],
   "source": [
    "plt.figure(figsize=(20, 6))\n",
    "plt.plot(np.arange(len(losses)), losses)\n",
    "plt.title(\"Loss observed in Densenet with modified softmax function\")\n",
    "plt.show()"
   ]
  },
  {
   "cell_type": "code",
   "execution_count": null,
   "metadata": {},
   "outputs": [],
   "source": []
  },
  {
   "cell_type": "code",
   "execution_count": null,
   "metadata": {},
   "outputs": [],
   "source": []
  }
 ],
 "metadata": {
  "kernelspec": {
   "display_name": "Python 3",
   "language": "python",
   "name": "python3"
  },
  "language_info": {
   "codemirror_mode": {
    "name": "ipython",
    "version": 3
   },
   "file_extension": ".py",
   "mimetype": "text/x-python",
   "name": "python",
   "nbconvert_exporter": "python",
   "pygments_lexer": "ipython3",
   "version": "3.6.5"
  }
 },
 "nbformat": 4,
 "nbformat_minor": 2
}
