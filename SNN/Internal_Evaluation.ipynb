{
 "cells": [
  {
   "cell_type": "markdown",
   "metadata": {},
   "source": [
    "# Internal Evaluation\n",
    "\n",
    "TODO:\n",
    "   - Check of softmax is appropriate for ROC\n",
    "   - Make graphs more readable"
   ]
  },
  {
   "cell_type": "code",
   "execution_count": 72,
   "metadata": {},
   "outputs": [],
   "source": [
    "import pandas as pd\n",
    "import pickle\n",
    "import numpy as np\n",
    "import matplotlib.pyplot as plt\n",
    "from IPython.display import display, HTML\n",
    "from sklearn.metrics import roc_curve, roc_auc_score\n",
    "import random\n",
    "import tqdm\n",
    "import sys"
   ]
  },
  {
   "cell_type": "code",
   "execution_count": 2,
   "metadata": {},
   "outputs": [],
   "source": [
    "embeddings = pickle.load(open('./embeddings/emb50all', 'rb'))"
   ]
  },
  {
   "cell_type": "code",
   "execution_count": 3,
   "metadata": {},
   "outputs": [],
   "source": [
    "embeddings_small = embeddings[:10000]\n",
    "X = np.asarray(embeddings_small.loc[:, 'e1':'e32'])\n",
    "y = np.asarray(embeddings_small['target'])"
   ]
  },
  {
   "cell_type": "code",
   "execution_count": 8,
   "metadata": {},
   "outputs": [],
   "source": [
    "def softmax_function(x):\n",
    "    e_x = np.exp(x - np.max(x))\n",
    "    return e_x / e_x.sum()\n",
    "\n",
    "def label_positive(row, label, y):\n",
    "    if y[int(row['index'])]==label:\n",
    "        return True\n",
    "    return False\n",
    "\n",
    "def internal_evaluate(query_embedding, query_class, X, y):\n",
    "    cosines = np.dot(X, query_embedding.reshape(32, 1))\n",
    "    softmax = softmax_function(cosines).flatten()\n",
    "    sorted_softmax = list(zip(softmax, range(len(y))))\n",
    "    sorted_softmax.sort(reverse=True)\n",
    "    ordered = pd.DataFrame(sorted_softmax, columns=['softmax', 'index'])\n",
    "    ordered['label'] = ordered.apply(lambda row: label_positive(row, query_class, y), axis=1)\n",
    "    positives = ordered.index[ordered['label']==True].tolist()\n",
    "    quantiles = []\n",
    "    pos = 0\n",
    "    total_negs = len(y)-len(positives)\n",
    "    for a in range(len(positives)):\n",
    "        quantiles.append((positives[a]-pos)/total_negs)\n",
    "        pos+=1\n",
    "    return ordered, positives, quantiles\n",
    "    "
   ]
  },
  {
   "cell_type": "code",
   "execution_count": 25,
   "metadata": {},
   "outputs": [],
   "source": [
    "ind = 3277\n",
    "df, positives, quantiles = internal_evaluate(X[ind], y[ind], X, y)"
   ]
  },
  {
   "cell_type": "markdown",
   "metadata": {},
   "source": [
    "### Recall by Quantile"
   ]
  },
  {
   "cell_type": "code",
   "execution_count": 26,
   "metadata": {},
   "outputs": [
    {
     "name": "stdout",
     "output_type": "stream",
     "text": [
      "Median Quantile: 0.18487648122112874\n"
     ]
    },
    {
     "data": {
      "text/html": [
       "<table border=\"1\" class=\"dataframe\">\n",
       "  <thead>\n",
       "    <tr style=\"text-align: right;\">\n",
       "      <th></th>\n",
       "      <th>Quantile</th>\n",
       "      <th>Recall</th>\n",
       "    </tr>\n",
       "  </thead>\n",
       "  <tbody>\n",
       "    <tr>\n",
       "      <th>0</th>\n",
       "      <td>0.001</td>\n",
       "      <td>0.071429</td>\n",
       "    </tr>\n",
       "    <tr>\n",
       "      <th>1</th>\n",
       "      <td>0.010</td>\n",
       "      <td>0.166667</td>\n",
       "    </tr>\n",
       "    <tr>\n",
       "      <th>2</th>\n",
       "      <td>0.050</td>\n",
       "      <td>0.285714</td>\n",
       "    </tr>\n",
       "    <tr>\n",
       "      <th>3</th>\n",
       "      <td>0.100</td>\n",
       "      <td>0.404762</td>\n",
       "    </tr>\n",
       "    <tr>\n",
       "      <th>4</th>\n",
       "      <td>0.200</td>\n",
       "      <td>0.500000</td>\n",
       "    </tr>\n",
       "    <tr>\n",
       "      <th>5</th>\n",
       "      <td>0.300</td>\n",
       "      <td>0.642857</td>\n",
       "    </tr>\n",
       "  </tbody>\n",
       "</table>"
      ],
      "text/plain": [
       "<IPython.core.display.HTML object>"
      ]
     },
     "metadata": {},
     "output_type": "display_data"
    },
    {
     "data": {
      "image/png": "[encoded data removed]",
      "text/plain": [
       "<Figure size 1440x432 with 1 Axes>"
      ]
     },
     "metadata": {},
     "output_type": "display_data"
    }
   ],
   "source": [
    "x_quantile = {}\n",
    "for a in np.arange(0, 1, 0.001):\n",
    "    x_quantile[round(a, 3)] = 0\n",
    "# y_recall = []\n",
    "for a in quantiles:\n",
    "    x_quantile[round(a, 3)]+=(1/len(quantiles))\n",
    "for a in np.arange(0.001, 1, 0.001):\n",
    "    x_quantile[round(a, 3)]+=x_quantile[round(a-0.001, 3)]\n",
    "x_values = x_quantile.keys()\n",
    "y_values = x_quantile.values()\n",
    "\n",
    "imp_q = [0.001, 0.01, 0.05, 0.1, 0.2, 0.3]\n",
    "imp_q_val = [x_quantile[round(a, 3)] for a in imp_q]\n",
    "\n",
    "print(\"Median Quantile:\", np.median(quantiles))\n",
    "\n",
    "results = pd.DataFrame(list(zip(imp_q, imp_q_val)), columns=['Quantile', 'Recall'])\n",
    "display(HTML(results.to_html()))\n",
    "\n",
    "plt.figure(figsize=[20,6])\n",
    "plt.plot(x_values, y_values)\n",
    "plt.show()"
   ]
  },
  {
   "cell_type": "markdown",
   "metadata": {},
   "source": [
    "### ROC Curve"
   ]
  },
  {
   "cell_type": "code",
   "execution_count": 27,
   "metadata": {},
   "outputs": [
    {
     "data": {
      "image/png": "[encoded data removed]",
      "text/plain": [
       "<Figure size 432x288 with 1 Axes>"
      ]
     },
     "metadata": {},
     "output_type": "display_data"
    },
    {
     "name": "stdout",
     "output_type": "stream",
     "text": [
      "AUC:  0.7290357597146109\n"
     ]
    }
   ],
   "source": [
    "fpr, tpr, thresholds = roc_curve(df['label'], df['softmax'])\n",
    "plt.plot(fpr, tpr)\n",
    "plt.show()\n",
    "print(\"AUC: \", roc_auc_score(df['label'], df['softmax']))"
   ]
  },
  {
   "cell_type": "markdown",
   "metadata": {},
   "source": [
    "### Combined Function"
   ]
  },
  {
   "cell_type": "code",
   "execution_count": 66,
   "metadata": {},
   "outputs": [],
   "source": [
    "def full_internal_evaluation(query_embedding, query_class, X, y, printinfo=False):\n",
    "    cosines = np.dot(X, query_embedding.reshape(32, 1))\n",
    "    softmax = softmax_function(cosines).flatten()\n",
    "    sorted_softmax = list(zip(softmax, range(len(y))))\n",
    "    sorted_softmax.sort(reverse=True)\n",
    "    ordered = pd.DataFrame(sorted_softmax, columns=['softmax', 'index'])\n",
    "    ordered['label'] = ordered.apply(lambda row: label_positive(row, query_class, y), axis=1)\n",
    "    positives = ordered.index[ordered['label']==True].tolist()\n",
    "    quantiles = []\n",
    "    pos = 0\n",
    "    total_negs = len(y)-len(positives)\n",
    "    for a in range(len(positives)):\n",
    "        quantiles.append((positives[a]-pos)/total_negs)\n",
    "        pos+=1\n",
    "        \n",
    "    x_quantile = {}\n",
    "    for a in np.arange(0, 1.001, 0.001):\n",
    "        x_quantile[round(a, 3)] = 0\n",
    "    # y_recall = []\n",
    "    for a in quantiles:\n",
    "        x_quantile[round(a, 3)]+=(1/len(quantiles))\n",
    "    for a in np.arange(0.001, 1.001, 0.001):\n",
    "        x_quantile[round(a, 3)]+=x_quantile[round(a-0.001, 3)]\n",
    "    x_values = x_quantile.keys()\n",
    "    y_values = x_quantile.values()\n",
    "\n",
    "    imp_q = [0.001, 0.01, 0.05, 0.1, 0.2, 0.3]\n",
    "    imp_q_val = [x_quantile[round(a, 3)] for a in imp_q]\n",
    "    \n",
    "    median = np.median(quantiles)\n",
    "    if printinfo:\n",
    "        print(\"Median Quantile:\", median)\n",
    "\n",
    "    results = pd.DataFrame(list(zip(imp_q, imp_q_val)), columns=['Quantile', 'Recall'])\n",
    "    if printinfo:\n",
    "        display(HTML(results.to_html()))\n",
    "    \n",
    "        plt.figure(figsize=[20,6])\n",
    "        plt.plot(x_values, y_values)\n",
    "        plt.show()\n",
    "    auc = roc_auc_score(ordered['label'], ordered['softmax'])\n",
    "    if printinfo:\n",
    "        fpr, tpr, thresholds = roc_curve(ordered['label'], ordered['softmax'])\n",
    "        plt.plot(fpr, tpr)\n",
    "        plt.show()\n",
    "    \n",
    "        print(\"AUC: \", auc)\n",
    "    \n",
    "    return median, auc"
   ]
  },
  {
   "cell_type": "code",
   "execution_count": 67,
   "metadata": {},
   "outputs": [
    {
     "name": "stdout",
     "output_type": "stream",
     "text": [
      "218 5\n"
     ]
    },
    {
     "data": {
      "text/plain": [
       "(0.5659771038361117, 0.45823410705917234)"
      ]
     },
     "execution_count": 67,
     "metadata": {},
     "output_type": "execute_result"
    }
   ],
   "source": [
    "#5136\n",
    "ind = 218#random.randint(0, 10000)\n",
    "print(ind, y[ind])\n",
    "full_internal_evaluation(X[ind], y[ind], X, y)"
   ]
  },
  {
   "cell_type": "code",
   "execution_count": 74,
   "metadata": {},
   "outputs": [
    {
     "name": "stdout",
     "output_type": "stream",
     "text": [
      "9999/10000"
     ]
    }
   ],
   "source": [
    "# medians = []\n",
    "# aucs = []\n",
    "\n",
    "for a in range(10000):\n",
    "    sys.stdout.flush()\n",
    "    sys.stdout.write(\"\\r%d/10000\" % a)\n",
    "    m, au = full_internal_evaluation(X[a], y[a], X, y)\n",
    "    medians.append(m)\n",
    "    aucs.append(au)"
   ]
  },
  {
   "cell_type": "code",
   "execution_count": 82,
   "metadata": {},
   "outputs": [
    {
     "name": "stdout",
     "output_type": "stream",
     "text": [
      "Median Graphs\n",
      "median of Medians: 0.18462542679252864\n"
     ]
    },
    {
     "data": {
      "image/png": "[encoded data removed]",
      "text/plain": [
       "<Figure size 1440x432 with 1 Axes>"
      ]
     },
     "metadata": {},
     "output_type": "display_data"
    },
    {
     "name": "stdout",
     "output_type": "stream",
     "text": [
      "AUC Graphs\n",
      "median of AUCS: 0.7364633843093373\n"
     ]
    },
    {
     "data": {
      "image/png": "[encoded data removed]",
      "text/plain": [
       "<Figure size 1440x432 with 1 Axes>"
      ]
     },
     "metadata": {},
     "output_type": "display_data"
    }
   ],
   "source": [
    "print(\"Median Graphs\")\n",
    "print(\"median of Medians:\", np.median(medians))\n",
    "plt.figure(figsize=[20,6])\n",
    "plt.hist(medians, 100)\n",
    "plt.title(\"Median\")\n",
    "plt.show()\n",
    "\n",
    "print(\"AUC Graphs\")\n",
    "print(\"median of AUCS:\", np.median(aucs))\n",
    "plt.figure(figsize=[20,6])\n",
    "plt.hist(aucs, 100)\n",
    "plt.title(\"AUC\")\n",
    "plt.show()"
   ]
  },
  {
   "cell_type": "code",
   "execution_count": null,
   "metadata": {},
   "outputs": [],
   "source": []
  }
 ],
 "metadata": {
  "kernelspec": {
   "display_name": "Python 3",
   "language": "python",
   "name": "python3"
  },
  "language_info": {
   "codemirror_mode": {
    "name": "ipython",
    "version": 3
   },
   "file_extension": ".py",
   "mimetype": "text/x-python",
   "name": "python",
   "nbconvert_exporter": "python",
   "pygments_lexer": "ipython3",
   "version": "3.6.5"
  }
 },
 "nbformat": 4,
 "nbformat_minor": 2
}
