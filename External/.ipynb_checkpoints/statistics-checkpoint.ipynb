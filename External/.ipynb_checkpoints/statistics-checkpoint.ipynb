{
 "cells": [
  {
   "cell_type": "code",
   "execution_count": 1,
   "metadata": {},
   "outputs": [
    {
     "name": "stderr",
     "output_type": "stream",
     "text": [
      "/Users/dweepa/anaconda/lib/python3.6/site-packages/h5py/__init__.py:34: FutureWarning: Conversion of the second argument of issubdtype from `float` to `np.floating` is deprecated. In future, it will be treated as `np.float64 == np.dtype(float).type`.\n",
      "  from ._conv import register_converters as _register_converters\n"
     ]
    }
   ],
   "source": [
    "import pandas as pd\n",
    "import numpy as np\n",
    "import pickle\n",
    "from typing import Optional, Union, Tuple\n",
    "from cmapPy.pandasGEXpress.parse import parse\n",
    "import numpy as np\n",
    "import json\n",
    "from collections import Counter\n",
    "import sys\n",
    "from numpy.core.multiarray import ndarray\n",
    "import sys"
   ]
  },
  {
   "cell_type": "code",
   "execution_count": 7,
   "metadata": {},
   "outputs": [],
   "source": [
    "drugbank = pd.read_csv(\"drugbank.csv\",low_memory=False)\n",
    "final = pd.read_csv(\"cleaned-atc.csv\",low_memory=False)\n",
    "atc = pd.read_excel(\"atc.xlsx\")"
   ]
  },
  {
   "cell_type": "code",
   "execution_count": 8,
   "metadata": {
    "collapsed": true
   },
   "outputs": [],
   "source": [
    "# General stats\n",
    "# How many valid atc codes from all 3 datasets\n",
    "# Which perturbagens which are in LINCS are present in all 3 datasets"
   ]
  },
  {
   "cell_type": "code",
   "execution_count": 20,
   "metadata": {},
   "outputs": [
    {
     "data": {
      "text/plain": [
       "atc-level1    10194\n",
       "atc-level2    10194\n",
       "atc-level3    10194\n",
       "atc-level4    10194\n",
       "atc-level5    10194\n",
       "inchi          2706\n",
       "inchi_key      2705\n",
       "name              0\n",
       "pubchem        2880\n",
       "smiles         2709\n",
       "syn1           8140\n",
       "syn10         12914\n",
       "syn11         13022\n",
       "syn12         13103\n",
       "syn13         13151\n",
       "syn14         13190\n",
       "syn15         13219\n",
       "syn16         13245\n",
       "syn17         13258\n",
       "syn18         13276\n",
       "syn19         13290\n",
       "syn2          10001\n",
       "syn20         13302\n",
       "syn21         13306\n",
       "syn22         13310\n",
       "syn23         13313\n",
       "syn24         13317\n",
       "syn25         13320\n",
       "syn26         13324\n",
       "syn27         13324\n",
       "              ...  \n",
       "syn40         13335\n",
       "syn41         13335\n",
       "syn42         13336\n",
       "syn43         13336\n",
       "syn44         13337\n",
       "syn45         13337\n",
       "syn46         13337\n",
       "syn47         13337\n",
       "syn48         13337\n",
       "syn49         13337\n",
       "syn5          11821\n",
       "syn50         13337\n",
       "syn51         13337\n",
       "syn52         13337\n",
       "syn53         13337\n",
       "syn54         13337\n",
       "syn55         13337\n",
       "syn56         13338\n",
       "syn57         13338\n",
       "syn58         13338\n",
       "syn59         13338\n",
       "syn6          12165\n",
       "syn60         13338\n",
       "syn61         13338\n",
       "syn62         13338\n",
       "syn63         13338\n",
       "syn64         13338\n",
       "syn7          12434\n",
       "syn8          12653\n",
       "syn9          12803\n",
       "Length: 74, dtype: int64"
      ]
     },
     "execution_count": 20,
     "metadata": {},
     "output_type": "execute_result"
    }
   ],
   "source": [
    "# 2\n",
    "drugbank.isnull().sum()"
   ]
  },
  {
   "cell_type": "code",
   "execution_count": null,
   "metadata": {
    "collapsed": true
   },
   "outputs": [],
   "source": []
  }
 ],
 "metadata": {
  "kernelspec": {
   "display_name": "Python 3",
   "language": "python",
   "name": "python3"
  },
  "language_info": {
   "codemirror_mode": {
    "name": "ipython",
    "version": 3
   },
   "file_extension": ".py",
   "mimetype": "text/x-python",
   "name": "python",
   "nbconvert_exporter": "python",
   "pygments_lexer": "ipython3",
   "version": "3.6.8"
  }
 },
 "nbformat": 4,
 "nbformat_minor": 2
}
