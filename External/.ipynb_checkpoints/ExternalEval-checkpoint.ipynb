{
 "cells": [
  {
   "cell_type": "code",
   "execution_count": 1,
   "metadata": {},
   "outputs": [
    {
     "name": "stderr",
     "output_type": "stream",
     "text": [
      "/Users/dweepa/anaconda/lib/python3.6/site-packages/h5py/__init__.py:34: FutureWarning: Conversion of the second argument of issubdtype from `float` to `np.floating` is deprecated. In future, it will be treated as `np.float64 == np.dtype(float).type`.\n",
      "  from ._conv import register_converters as _register_converters\n"
     ]
    }
   ],
   "source": [
    "import pandas as pd\n",
    "import numpy as np\n",
    "import pickle\n",
    "from typing import Optional, Union, Tuple\n",
    "from cmapPy.pandasGEXpress.parse import parse\n",
    "import numpy as np\n",
    "import json\n",
    "from collections import Counter\n",
    "import sys\n",
    "from numpy.core.multiarray import ndarray"
   ]
  },
  {
   "cell_type": "code",
   "execution_count": 2,
   "metadata": {
    "collapsed": true
   },
   "outputs": [],
   "source": [
    "import csv \n",
    "import requests \n",
    "import xml.etree.ElementTree as ET "
   ]
  },
  {
   "cell_type": "code",
   "execution_count": 4,
   "metadata": {},
   "outputs": [
    {
     "name": "stdout",
     "output_type": "stream",
     "text": [
      "<Element 'drug' at 0x11bfe9598>\n",
      "<Element 'drug' at 0x11bff04a8>\n",
      "{<Element 'drug' at 0x11bfe9598>: <Element 'drugbank' at 0x11bfe93b8>, <Element 'drug' at 0x11bff04a8>: <Element 'drugbank' at 0x11bfe93b8>, <Element 'drugbank-id' at 0x11bfe9548>: <Element 'drug' at 0x11bfe9598>, <Element 'name' at 0x11bfe9408>: <Element 'drug' at 0x11bfe9598>, <Element 'indication' at 0x11bfe9688>: <Element 'drug' at 0x11bfe9598>, <Element 'classification' at 0x11bfe9638>: <Element 'drug' at 0x11bfe9598>, <Element 'synonyms' at 0x11bfe98b8>: <Element 'drug' at 0x11bfe9598>, <Element 'categories' at 0x11bfe9ae8>: <Element 'drug' at 0x11bfe9598>, <Element 'atc-codes' at 0x11bfe9c28>: <Element 'drug' at 0x11bfe9598>, <Element 'ahfs-codes' at 0x11bfe9e58>: <Element 'drug' at 0x11bfe9598>, <Element 'sequences' at 0x11bfe9ef8>: <Element 'drug' at 0x11bfe9598>, <Element 'external-identifiers' at 0x11bfe9f98>: <Element 'drug' at 0x11bfe9598>, <Element 'description' at 0x11bfe96d8>: <Element 'classification' at 0x11bfe9638>, <Element 'direct-parent' at 0x11bfe9728>: <Element 'classification' at 0x11bfe9638>, <Element 'kingdom' at 0x11bfe9778>: <Element 'classification' at 0x11bfe9638>, <Element 'superclass' at 0x11bfe97c8>: <Element 'classification' at 0x11bfe9638>, <Element 'class' at 0x11bfe9818>: <Element 'classification' at 0x11bfe9638>, <Element 'subclass' at 0x11bfe9868>: <Element 'classification' at 0x11bfe9638>, <Element 'synonym' at 0x11bfe9908>: <Element 'synonyms' at 0x11bfe98b8>, <Element 'synonym' at 0x11bfe9958>: <Element 'synonyms' at 0x11bfe98b8>, <Element 'synonym' at 0x11bfe99a8>: <Element 'synonyms' at 0x11bfe98b8>, <Element 'synonym' at 0x11bfe9a48>: <Element 'synonyms' at 0x11bfe98b8>, <Element 'synonym' at 0x11bfe9a98>: <Element 'synonyms' at 0x11bfe98b8>, <Element 'category' at 0x11bfe9b38>: <Element 'categories' at 0x11bfe9ae8>, <Element 'category' at 0x11bfe9b88>: <Element 'category' at 0x11bfe9b38>, <Element 'mesh-id' at 0x11bfe9bd8>: <Element 'category' at 0x11bfe9b38>, <Element 'atc-code' at 0x11bfe9c78>: <Element 'atc-codes' at 0x11bfe9c28>, <Element 'level' at 0x11bfe9cc8>: <Element 'atc-code' at 0x11bfe9c78>, <Element 'level' at 0x11bfe9d18>: <Element 'atc-code' at 0x11bfe9c78>, <Element 'level' at 0x11bfe9d68>: <Element 'atc-code' at 0x11bfe9c78>, <Element 'level' at 0x11bfe9e08>: <Element 'atc-code' at 0x11bfe9c78>, <Element 'ahfs-code' at 0x11bfe9ea8>: <Element 'ahfs-codes' at 0x11bfe9e58>, <Element 'sequence' at 0x11bfe9f48>: <Element 'sequences' at 0x11bfe9ef8>, <Element 'external-identifier' at 0x11bff0048>: <Element 'external-identifiers' at 0x11bfe9f98>, <Element 'external-identifier' at 0x11bff0188>: <Element 'external-identifiers' at 0x11bfe9f98>, <Element 'external-identifier' at 0x11bff0278>: <Element 'external-identifiers' at 0x11bfe9f98>, <Element 'external-identifier' at 0x11bff03b8>: <Element 'external-identifiers' at 0x11bfe9f98>, <Element 'resource' at 0x11bff0098>: <Element 'external-identifier' at 0x11bff0048>, <Element 'identifier' at 0x11bff0138>: <Element 'external-identifier' at 0x11bff0048>, <Element 'resource' at 0x11bff01d8>: <Element 'external-identifier' at 0x11bff0188>, <Element 'identifier' at 0x11bff0228>: <Element 'external-identifier' at 0x11bff0188>, <Element 'resource' at 0x11bff02c8>: <Element 'external-identifier' at 0x11bff0278>, <Element 'identifier' at 0x11bff0368>: <Element 'external-identifier' at 0x11bff0278>, <Element 'resource' at 0x11bff0408>: <Element 'external-identifier' at 0x11bff03b8>, <Element 'identifier' at 0x11bff0458>: <Element 'external-identifier' at 0x11bff03b8>, <Element 'drugbank-id' at 0x11bff04f8>: <Element 'drug' at 0x11bff04a8>, <Element 'name' at 0x11bff0548>: <Element 'drug' at 0x11bff04a8>, <Element 'indication' at 0x11bff0598>: <Element 'drug' at 0x11bff04a8>, <Element 'classification' at 0x11bff05e8>: <Element 'drug' at 0x11bff04a8>, <Element 'synonyms' at 0x11bff0818>: <Element 'drug' at 0x11bff04a8>, <Element 'categories' at 0x11bff0a48>: <Element 'drug' at 0x11bff04a8>, <Element 'atc-codes' at 0x11bff0b88>: <Element 'drug' at 0x11bff04a8>, <Element 'ahfs-codes' at 0x11bff0db8>: <Element 'drug' at 0x11bff04a8>, <Element 'sequences' at 0x11bff0e58>: <Element 'drug' at 0x11bff04a8>, <Element 'external-identifiers' at 0x11bff0ef8>: <Element 'drug' at 0x11bff04a8>, <Element 'calculated-properties' at 0x11bff4408>: <Element 'drug' at 0x11bff04a8>, <Element 'description' at 0x11bff0638>: <Element 'classification' at 0x11bff05e8>, <Element 'direct-parent' at 0x11bff0688>: <Element 'classification' at 0x11bff05e8>, <Element 'kingdom' at 0x11bff06d8>: <Element 'classification' at 0x11bff05e8>, <Element 'superclass' at 0x11bff0728>: <Element 'classification' at 0x11bff05e8>, <Element 'class' at 0x11bff0778>: <Element 'classification' at 0x11bff05e8>, <Element 'subclass' at 0x11bff07c8>: <Element 'classification' at 0x11bff05e8>, <Element 'synonym' at 0x11bff0868>: <Element 'synonyms' at 0x11bff0818>, <Element 'synonym' at 0x11bff08b8>: <Element 'synonyms' at 0x11bff0818>, <Element 'synonym' at 0x11bff0908>: <Element 'synonyms' at 0x11bff0818>, <Element 'synonym' at 0x11bff09a8>: <Element 'synonyms' at 0x11bff0818>, <Element 'synonym' at 0x11bff09f8>: <Element 'synonyms' at 0x11bff0818>, <Element 'category' at 0x11bff0a98>: <Element 'categories' at 0x11bff0a48>, <Element 'category' at 0x11bff0ae8>: <Element 'category' at 0x11bff0a98>, <Element 'mesh-id' at 0x11bff0b38>: <Element 'category' at 0x11bff0a98>, <Element 'atc-code' at 0x11bff0bd8>: <Element 'atc-codes' at 0x11bff0b88>, <Element 'level' at 0x11bff0c28>: <Element 'atc-code' at 0x11bff0bd8>, <Element 'level' at 0x11bff0c78>: <Element 'atc-code' at 0x11bff0bd8>, <Element 'level' at 0x11bff0cc8>: <Element 'atc-code' at 0x11bff0bd8>, <Element 'level' at 0x11bff0d68>: <Element 'atc-code' at 0x11bff0bd8>, <Element 'ahfs-code' at 0x11bff0e08>: <Element 'ahfs-codes' at 0x11bff0db8>, <Element 'sequence' at 0x11bff0ea8>: <Element 'sequences' at 0x11bff0e58>, <Element 'external-identifier' at 0x11bff0f48>: <Element 'external-identifiers' at 0x11bff0ef8>, <Element 'external-identifier' at 0x11bff40e8>: <Element 'external-identifiers' at 0x11bff0ef8>, <Element 'external-identifier' at 0x11bff41d8>: <Element 'external-identifiers' at 0x11bff0ef8>, <Element 'external-identifier' at 0x11bff4318>: <Element 'external-identifiers' at 0x11bff0ef8>, <Element 'resource' at 0x11bff0f98>: <Element 'external-identifier' at 0x11bff0f48>, <Element 'identifier' at 0x11bff4098>: <Element 'external-identifier' at 0x11bff0f48>, <Element 'resource' at 0x11bff4138>: <Element 'external-identifier' at 0x11bff40e8>, <Element 'identifier' at 0x11bff4188>: <Element 'external-identifier' at 0x11bff40e8>, <Element 'resource' at 0x11bff4228>: <Element 'external-identifier' at 0x11bff41d8>, <Element 'identifier' at 0x11bff42c8>: <Element 'external-identifier' at 0x11bff41d8>, <Element 'resource' at 0x11bff4368>: <Element 'external-identifier' at 0x11bff4318>, <Element 'identifier' at 0x11bff43b8>: <Element 'external-identifier' at 0x11bff4318>, <Element 'property' at 0x11bff4458>: <Element 'calculated-properties' at 0x11bff4408>, <Element 'property' at 0x11bff4598>: <Element 'calculated-properties' at 0x11bff4408>, <Element 'property' at 0x11bff4728>: <Element 'calculated-properties' at 0x11bff4408>, <Element 'kind' at 0x11bff44a8>: <Element 'property' at 0x11bff4458>, <Element 'value' at 0x11bff44f8>: <Element 'property' at 0x11bff4458>, <Element 'source' at 0x11bff4548>: <Element 'property' at 0x11bff4458>, <Element 'kind' at 0x11bff45e8>: <Element 'property' at 0x11bff4598>, <Element 'value' at 0x11bff4638>: <Element 'property' at 0x11bff4598>, <Element 'source' at 0x11bff46d8>: <Element 'property' at 0x11bff4598>, <Element 'kind' at 0x11bff4778>: <Element 'property' at 0x11bff4728>, <Element 'value' at 0x11bff47c8>: <Element 'property' at 0x11bff4728>, <Element 'source' at 0x11bff4818>: <Element 'property' at 0x11bff4728>}\n"
     ]
    }
   ],
   "source": [
    "tree = ET.parse('test.xml')\n",
    "root = tree.getroot()\n",
    "for drug in root:\n",
    "    print(drug)\n",
    "    \n",
    "parent_map = {c:p for p in tree.iter() for c in p}"
   ]
  },
  {
   "cell_type": "code",
   "execution_count": 7,
   "metadata": {},
   "outputs": [
    {
     "name": "stdout",
     "output_type": "stream",
     "text": [
      "<Element 'drug' at 0x11bfe9598>\n",
      "{'name': 'Dornase alfa', 'level5': 'R05CB13', 'level4': 'R05CB', 'level3': 'R05C', 'level2': 'R05', 'level1': 'R'}\n",
      "<Element 'drug' at 0x11bff04a8>\n",
      "{'name': 'Dornase alfa', 'level5': 'R05CB13', 'level4': 'R05CB', 'level3': 'R05C', 'level2': 'R05', 'level1': 'R', 'inchi': 'InChI=1S/C98H138N24O33/c1-5-52(4)82(96(153)122-39-15-23-70(122)92(149)114-60(30-34-79(134)135)85(142)111-59(29-33-78(132)133)86(143)116-64(43-55-24-26-56(123)27-25-55)89(146)118-67(97(154)155)40-51(2)3)119-87(144)61(31-35-80(136)137)112-84(141)58(28-32-77(130)131)113-88(145)63(42-54-18-10-7-11-19-54)117-90(147)66(45-81(138)139)110-76(129)50-107-83(140)65(44-71(100)124)109-75(128)49-106-73(126)47-104-72(125)46-105-74(127)48-108-91(148)68-21-13-38-121(68)95(152)62(20-12-36-103-98(101)102)115-93(150)69-22-14-37-120(69)94(151)57(99)41-53-16-8-6-9-17-53/h6-11,16-19,24-27,51-52,57-70,82,123H,5,12-15,20-23,28-50,99H2,1-4H3,(H2,100,124)(H,104,125)(H,105,127)(H,106,126)(H,107,140)(H,108,148)(H,109,128)(H,110,129)(H,111,142)(H,112,141)(H,113,145)(H,114,149)(H,115,150)(H,116,143)(H,117,147)(H,118,146)(H,119,144)(H,130,131)(H,132,133)(H,134,135)(H,136,137)(H,138,139)(H,154,155)(H4,101,102,103)/t52-,57+,58-,59-,60-,61-,62-,63-,64-,65-,66-,67-,68-,69-,70-,82-/m0/s1', 'inchi_key': 'OIRCOABEOLEUMC-GEJPAHFPSA-N', 'smiles': 'CC(C)C[C@H](NC(=O)[C@@H](COC(C)(C)C)NC(=O)[C@H](CC1=CC=C(O)C=C1)NC(=O)[C@H](CO)NC(=O)[C@H](CC1=CNC2=CC=CC=C12)NC(=O)[C@H](CC1=CN=CN1)NC(=O)[C@@H]1CCC(=O)N1)C(=O)N[C@@H](CCCN=C(N)N)C(=O)N1CCC[C@H]1C(=O)NNC(N)=O'}\n"
     ]
    }
   ],
   "source": [
    "l = []\n",
    "for i in root:\n",
    "    row = dict()\n",
    "    print(i)\n",
    "    name = i.findall('name')\n",
    "    row[\"name\"] = name[0].text\n",
    "    \n",
    "    atc = i.findall('atc-codes')\n",
    "    \n",
    "    #TODO: multiple <atc-code>\n",
    "    for j in atc:\n",
    "        code = j.findall(\"atc-code\")[0]\n",
    "        row[\"atc-level5\"] = code.attrib['code']\n",
    "        level = code.findall(\"level\")\n",
    "        count = 4\n",
    "        for k in level:\n",
    "            name = \"atc-level\"+str(count)\n",
    "            row[name] = k.attrib['code']\n",
    "            count=count-1\n",
    "    \n",
    "    calc = i.findall('calculated-properties')\n",
    "    for j in calc:\n",
    "        prop = j.findall('property')\n",
    "        for k in prop:\n",
    "            inchi = k.findall('kind')\n",
    "            for inch in inchi: \n",
    "                if(inch.text==\"InChIKey\"):\n",
    "                    val = parent_map[inch].findall(\"value\")[0].text\n",
    "                    row[\"inchi_key\"] = val\n",
    "                \n",
    "                if(inch.text==\"InChI\"):\n",
    "                    val = parent_map[inch].findall(\"value\")[0].text\n",
    "                    row[\"inchi\"] = val\n",
    "                \n",
    "                if(inch.text==\"SMILES\"):\n",
    "                    val = parent_map[inch].findall(\"value\")[0].text\n",
    "                    row[\"smiles\"] = val\n",
    "    print(row)\n",
    "    l.append(row)\n"
   ]
  },
  {
   "cell_type": "code",
   "execution_count": 13,
   "metadata": {},
   "outputs": [
    {
     "data": {
      "text/plain": [
       "2"
      ]
     },
     "execution_count": 13,
     "metadata": {},
     "output_type": "execute_result"
    }
   ],
   "source": [
    "len(root)"
   ]
  },
  {
   "cell_type": "code",
   "execution_count": null,
   "metadata": {
    "collapsed": true
   },
   "outputs": [],
   "source": []
  },
  {
   "cell_type": "code",
   "execution_count": null,
   "metadata": {
    "collapsed": true
   },
   "outputs": [],
   "source": []
  },
  {
   "cell_type": "code",
   "execution_count": null,
   "metadata": {
    "collapsed": true
   },
   "outputs": [],
   "source": []
  },
  {
   "cell_type": "code",
   "execution_count": null,
   "metadata": {
    "collapsed": true
   },
   "outputs": [],
   "source": []
  },
  {
   "cell_type": "code",
   "execution_count": null,
   "metadata": {
    "collapsed": true
   },
   "outputs": [],
   "source": []
  },
  {
   "cell_type": "code",
   "execution_count": null,
   "metadata": {
    "collapsed": true
   },
   "outputs": [],
   "source": []
  },
  {
   "cell_type": "code",
   "execution_count": null,
   "metadata": {
    "collapsed": true
   },
   "outputs": [],
   "source": []
  },
  {
   "cell_type": "code",
   "execution_count": null,
   "metadata": {
    "collapsed": true
   },
   "outputs": [],
   "source": []
  },
  {
   "cell_type": "code",
   "execution_count": null,
   "metadata": {
    "collapsed": true
   },
   "outputs": [],
   "source": []
  },
  {
   "cell_type": "code",
   "execution_count": null,
   "metadata": {
    "collapsed": true
   },
   "outputs": [],
   "source": []
  },
  {
   "cell_type": "code",
   "execution_count": null,
   "metadata": {
    "collapsed": true
   },
   "outputs": [],
   "source": []
  },
  {
   "cell_type": "raw",
   "metadata": {},
   "source": [
    "tree = ET.parse('full_database.xml')"
   ]
  },
  {
   "cell_type": "raw",
   "metadata": {
    "collapsed": true
   },
   "source": [
    "root = tree.getroot()"
   ]
  },
  {
   "cell_type": "raw",
   "metadata": {},
   "source": [
    "for child in root:\n",
    "    print(child.attrib)"
   ]
  },
  {
   "cell_type": "raw",
   "metadata": {},
   "source": [
    "tree = "
   ]
  },
  {
   "cell_type": "raw",
   "metadata": {
    "collapsed": true
   },
   "source": [
    "pickle.dump(tree, open(\"xml_tree\",\"wb\"))"
   ]
  },
  {
   "cell_type": "raw",
   "metadata": {
    "collapsed": true
   },
   "source": [
    "tree = pickle.load(\"xml_tree\",\"rb\")"
   ]
  },
  {
   "cell_type": "code",
   "execution_count": null,
   "metadata": {
    "collapsed": true
   },
   "outputs": [],
   "source": [
    "data = pd.read_excel(\"atc.xlsx\")\n",
    "data.head()"
   ]
  },
  {
   "cell_type": "code",
   "execution_count": null,
   "metadata": {
    "collapsed": true
   },
   "outputs": [],
   "source": [
    "p = pd.read_csv(\"../Data/GSE92742_Broad_LINCS_pert_info.txt\",delimiter=\"\\t\")"
   ]
  },
  {
   "cell_type": "code",
   "execution_count": null,
   "metadata": {
    "collapsed": true,
    "scrolled": true
   },
   "outputs": [],
   "source": [
    "l=[]\n",
    "for i in range(len(X.target)):\n",
    "    a = p[p.pert_id==X.target[i]].pert_iname\n",
    "    if(a.to_string().split()[1]==''):\n",
    "        a = a.to_string().split()[0]\n",
    "    else:\n",
    "        a = a.to_string().split()[1]\n",
    "    a=a.translate({ord(')'): None})\n",
    "    sys.stdout.write('\\r%d/%d\\t\\t%s' % (i, len(X.target),a))\n",
    "    l.append(a)"
   ]
  },
  {
   "cell_type": "code",
   "execution_count": null,
   "metadata": {
    "collapsed": true
   },
   "outputs": [],
   "source": [
    "X['TargetName']=l"
   ]
  },
  {
   "cell_type": "raw",
   "metadata": {},
   "source": [
    "import time\n",
    "for a in range(10):\n",
    "    time.sleep(5)\n",
    "    sys.stdout.write(\"\\rEpoch {0}:\\t{0:.4f}\\t{0:.4f}\\t\\t{0:.2f}\\t{0:.2f}\".format(a,a,a,a,a))"
   ]
  },
  {
   "cell_type": "code",
   "execution_count": null,
   "metadata": {
    "collapsed": true
   },
   "outputs": [],
   "source": [
    "X.head()"
   ]
  },
  {
   "cell_type": "code",
   "execution_count": null,
   "metadata": {
    "collapsed": true
   },
   "outputs": [],
   "source": [
    "count=0\n",
    "for i in np.unique(l):\n",
    "    if i in list(data['Preferred Label']):\n",
    "        count+=1\n",
    "count"
   ]
  },
  {
   "cell_type": "code",
   "execution_count": null,
   "metadata": {
    "collapsed": true
   },
   "outputs": [],
   "source": [
    "'bupropion' in list(data['Preferred Label'])"
   ]
  },
  {
   "cell_type": "code",
   "execution_count": null,
   "metadata": {
    "collapsed": true
   },
   "outputs": [],
   "source": [
    "len(np.unique(l))"
   ]
  },
  {
   "cell_type": "code",
   "execution_count": null,
   "metadata": {
    "collapsed": true
   },
   "outputs": [],
   "source": [
    "len(Counter(data[\"Preferred Label\"]))"
   ]
  },
  {
   "cell_type": "code",
   "execution_count": null,
   "metadata": {
    "collapsed": true
   },
   "outputs": [],
   "source": [
    "train = pickle.load(open(\"../Data/train_perts\",\"rb\"))\n",
    "test = pickle.load(open(\"../Data/test_perts\",\"rb\"))"
   ]
  },
  {
   "cell_type": "code",
   "execution_count": null,
   "metadata": {
    "collapsed": true
   },
   "outputs": [],
   "source": [
    "len(np.unique(np.concatenate((train,test))))"
   ]
  },
  {
   "cell_type": "code",
   "execution_count": null,
   "metadata": {
    "collapsed": true
   },
   "outputs": [],
   "source": [
    "emb = pd.read_pickle(\"../Data/Embeddings/emb50all\")\n",
    "full = pd.read_pickle(\"../Data/full\")"
   ]
  },
  {
   "cell_type": "code",
   "execution_count": null,
   "metadata": {
    "collapsed": true
   },
   "outputs": [],
   "source": [
    "emb.target = list(full.target)"
   ]
  },
  {
   "cell_type": "code",
   "execution_count": null,
   "metadata": {
    "collapsed": true
   },
   "outputs": [],
   "source": [
    "emb['target_name'] = l"
   ]
  },
  {
   "cell_type": "code",
   "execution_count": null,
   "metadata": {
    "collapsed": true
   },
   "outputs": [],
   "source": [
    "level=[]\n",
    "for i in range(len(list(emb.target_name))):\n",
    "    a = data[data[\"Preferred Label\"]==emb.target_name[i]][\"ATC LEVEL\"]\n",
    "    b = a.to_string().split()[1]\n",
    "    level.append(b)\n",
    "    sys.stdout.write('\\r%d/%d\\t\\t%s' % (i, len(emb.target_name),b))\n",
    "level"
   ]
  },
  {
   "cell_type": "code",
   "execution_count": null,
   "metadata": {
    "collapsed": true
   },
   "outputs": [],
   "source": [
    "emb[\"level\"]=level\n",
    "emb"
   ]
  },
  {
   "cell_type": "code",
   "execution_count": null,
   "metadata": {
    "collapsed": true
   },
   "outputs": [],
   "source": [
    "data[data[\"Preferred Label\"]=='biperiden'][\"ATC LEVEL\"].to_string().split()[1]"
   ]
  },
  {
   "cell_type": "code",
   "execution_count": null,
   "metadata": {
    "collapsed": true
   },
   "outputs": [],
   "source": [
    "data"
   ]
  },
  {
   "cell_type": "code",
   "execution_count": null,
   "metadata": {
    "collapsed": true
   },
   "outputs": [],
   "source": [
    "Counter(data[\"ATC LEVEL\"])"
   ]
  },
  {
   "cell_type": "code",
   "execution_count": null,
   "metadata": {
    "collapsed": true
   },
   "outputs": [],
   "source": [
    "data[data[\"ATC LEVEL\"]==2]"
   ]
  },
  {
   "cell_type": "code",
   "execution_count": null,
   "metadata": {
    "collapsed": true
   },
   "outputs": [],
   "source": [
    "data[data[\"CUI\"]=='C0062648']"
   ]
  },
  {
   "cell_type": "code",
   "execution_count": null,
   "metadata": {
    "collapsed": true
   },
   "outputs": [],
   "source": [
    "X[X.isin({\"target\":['BRD-A00147595']})['target']==True]"
   ]
  },
  {
   "cell_type": "code",
   "execution_count": null,
   "metadata": {
    "collapsed": true
   },
   "outputs": [],
   "source": [
    "X"
   ]
  },
  {
   "cell_type": "code",
   "execution_count": null,
   "metadata": {
    "collapsed": true
   },
   "outputs": [],
   "source": []
  },
  {
   "cell_type": "code",
   "execution_count": null,
   "metadata": {
    "collapsed": true
   },
   "outputs": [],
   "source": []
  }
 ],
 "metadata": {
  "kernelspec": {
   "display_name": "Python 3",
   "language": "python",
   "name": "python3"
  },
  "language_info": {
   "codemirror_mode": {
    "name": "ipython",
    "version": 3
   },
   "file_extension": ".py",
   "mimetype": "text/x-python",
   "name": "python",
   "nbconvert_exporter": "python",
   "pygments_lexer": "ipython3",
   "version": "3.6.8"
  }
 },
 "nbformat": 4,
 "nbformat_minor": 2
}
