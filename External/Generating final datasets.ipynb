{
 "cells": [
  {
   "cell_type": "code",
   "execution_count": 1,
   "metadata": {},
   "outputs": [
    {
     "name": "stderr",
     "output_type": "stream",
     "text": [
      "/Users/dweepa/anaconda/lib/python3.6/site-packages/h5py/__init__.py:34: FutureWarning: Conversion of the second argument of issubdtype from `float` to `np.floating` is deprecated. In future, it will be treated as `np.float64 == np.dtype(float).type`.\n",
      "  from ._conv import register_converters as _register_converters\n"
     ]
    }
   ],
   "source": [
    "import pandas as pd\n",
    "import numpy as np\n",
    "import pickle\n",
    "from typing import Optional, Union, Tuple\n",
    "from cmapPy.pandasGEXpress.parse import parse\n",
    "import numpy as np\n",
    "import json\n",
    "from collections import Counter\n",
    "import sys\n",
    "from numpy.core.multiarray import ndarray\n",
    "import sys"
   ]
  },
  {
   "cell_type": "code",
   "execution_count": 45,
   "metadata": {},
   "outputs": [],
   "source": [
    "drugbank = pd.read_csv(\"Final/drugbank.csv\",low_memory=False)\n",
    "meta = pd.read_csv(\"Final/meta.csv\",low_memory=False)\n",
    "atc = pd.read_csv(\"Final/atc.csv\",low_memory=False)"
   ]
  },
  {
   "cell_type": "code",
   "execution_count": 46,
   "metadata": {},
   "outputs": [
    {
     "name": "stdout",
     "output_type": "stream",
     "text": [
      "Total:  2170\n",
      "Unique:  1826\n"
     ]
    },
    {
     "data": {
      "text/html": [
       "<div>\n",
       "<style>\n",
       "    .dataframe thead tr:only-child th {\n",
       "        text-align: right;\n",
       "    }\n",
       "\n",
       "    .dataframe thead th {\n",
       "        text-align: left;\n",
       "    }\n",
       "\n",
       "    .dataframe tbody tr th {\n",
       "        vertical-align: top;\n",
       "    }\n",
       "</style>\n",
       "<table border=\"1\" class=\"dataframe\">\n",
       "  <thead>\n",
       "    <tr style=\"text-align: right;\">\n",
       "      <th></th>\n",
       "      <th>smiles</th>\n",
       "      <th>name</th>\n",
       "      <th>id</th>\n",
       "      <th>inchi_key</th>\n",
       "    </tr>\n",
       "  </thead>\n",
       "  <tbody>\n",
       "    <tr>\n",
       "      <th>0</th>\n",
       "      <td>CCN(CC)CCCCN1C2CCCCC2OC2CCC(CL)CC12</td>\n",
       "      <td>10-DEBC</td>\n",
       "      <td>BRD-K70792160</td>\n",
       "      <td>GYBXAGDWMCJZJK-UHFFFAOYSA-N</td>\n",
       "    </tr>\n",
       "    <tr>\n",
       "      <th>1</th>\n",
       "      <td>CCCCCCCCCCCCCC(=O)O[C@@H]1[C@@H](C)[C@]2(O)[C@...</td>\n",
       "      <td>phorbol-myristate-acetate</td>\n",
       "      <td>BRD-K68552125</td>\n",
       "      <td>PHEDXBVPIONUQT-RGYGYFBISA-N</td>\n",
       "    </tr>\n",
       "  </tbody>\n",
       "</table>\n",
       "</div>"
      ],
      "text/plain": [
       "                                              smiles  \\\n",
       "0                CCN(CC)CCCCN1C2CCCCC2OC2CCC(CL)CC12   \n",
       "1  CCCCCCCCCCCCCC(=O)O[C@@H]1[C@@H](C)[C@]2(O)[C@...   \n",
       "\n",
       "                        name             id                    inchi_key  \n",
       "0                    10-DEBC  BRD-K70792160  GYBXAGDWMCJZJK-UHFFFAOYSA-N  \n",
       "1  phorbol-myristate-acetate  BRD-K68552125  PHEDXBVPIONUQT-RGYGYFBISA-N  "
      ]
     },
     "execution_count": 46,
     "metadata": {},
     "output_type": "execute_result"
    }
   ],
   "source": [
    "print(\"Total: \",len(list(meta.name)))\n",
    "print(\"Unique: \",len(np.unique(list(meta.name))))\n",
    "meta.head(2)"
   ]
  },
  {
   "cell_type": "code",
   "execution_count": 47,
   "metadata": {},
   "outputs": [
    {
     "name": "stdout",
     "output_type": "stream",
     "text": [
      "Total:  6277\n",
      "Unique:  5592\n"
     ]
    },
    {
     "data": {
      "text/html": [
       "<div>\n",
       "<style>\n",
       "    .dataframe thead tr:only-child th {\n",
       "        text-align: right;\n",
       "    }\n",
       "\n",
       "    .dataframe thead th {\n",
       "        text-align: left;\n",
       "    }\n",
       "\n",
       "    .dataframe tbody tr th {\n",
       "        vertical-align: top;\n",
       "    }\n",
       "</style>\n",
       "<table border=\"1\" class=\"dataframe\">\n",
       "  <thead>\n",
       "    <tr style=\"text-align: right;\">\n",
       "      <th></th>\n",
       "      <th>name</th>\n",
       "      <th>atc</th>\n",
       "    </tr>\n",
       "  </thead>\n",
       "  <tbody>\n",
       "    <tr>\n",
       "      <th>0</th>\n",
       "      <td>silicones</td>\n",
       "      <td>A03AX13</td>\n",
       "    </tr>\n",
       "    <tr>\n",
       "      <th>1</th>\n",
       "      <td>cefatrizine</td>\n",
       "      <td>J01DB07</td>\n",
       "    </tr>\n",
       "  </tbody>\n",
       "</table>\n",
       "</div>"
      ],
      "text/plain": [
       "          name      atc\n",
       "0    silicones  A03AX13\n",
       "1  cefatrizine  J01DB07"
      ]
     },
     "execution_count": 47,
     "metadata": {},
     "output_type": "execute_result"
    }
   ],
   "source": [
    "print(\"Total: \",len(list(atc.name)))\n",
    "print(\"Unique: \",len(np.unique(list(atc.name))))\n",
    "atc.head(2)"
   ]
  },
  {
   "cell_type": "code",
   "execution_count": 48,
   "metadata": {},
   "outputs": [
    {
     "name": "stdout",
     "output_type": "stream",
     "text": [
      "Total:  13339\n",
      "Unique:  13339\n"
     ]
    },
    {
     "data": {
      "text/html": [
       "<div>\n",
       "<style>\n",
       "    .dataframe thead tr:only-child th {\n",
       "        text-align: right;\n",
       "    }\n",
       "\n",
       "    .dataframe thead th {\n",
       "        text-align: left;\n",
       "    }\n",
       "\n",
       "    .dataframe tbody tr th {\n",
       "        vertical-align: top;\n",
       "    }\n",
       "</style>\n",
       "<table border=\"1\" class=\"dataframe\">\n",
       "  <thead>\n",
       "    <tr style=\"text-align: right;\">\n",
       "      <th></th>\n",
       "      <th>name</th>\n",
       "      <th>atc</th>\n",
       "      <th>inchi_key</th>\n",
       "      <th>smiles</th>\n",
       "    </tr>\n",
       "  </thead>\n",
       "  <tbody>\n",
       "    <tr>\n",
       "      <th>0</th>\n",
       "      <td>lepirudin</td>\n",
       "      <td>B01AE02</td>\n",
       "      <td>NaN</td>\n",
       "      <td>NaN</td>\n",
       "    </tr>\n",
       "    <tr>\n",
       "      <th>1</th>\n",
       "      <td>cetuximab</td>\n",
       "      <td>L01XC06</td>\n",
       "      <td>NaN</td>\n",
       "      <td>NaN</td>\n",
       "    </tr>\n",
       "  </tbody>\n",
       "</table>\n",
       "</div>"
      ],
      "text/plain": [
       "        name      atc inchi_key smiles\n",
       "0  lepirudin  B01AE02       NaN    NaN\n",
       "1  cetuximab  L01XC06       NaN    NaN"
      ]
     },
     "execution_count": 48,
     "metadata": {},
     "output_type": "execute_result"
    }
   ],
   "source": [
    "print(\"Total: \",len(list(drugbank.name)))\n",
    "print(\"Unique: \",len(np.unique(list(drugbank.name))))\n",
    "drugbank.head(2)"
   ]
  },
  {
   "cell_type": "markdown",
   "metadata": {},
   "source": [
    "## Making the metadata => drugbank correlation"
   ]
  },
  {
   "cell_type": "code",
   "execution_count": 61,
   "metadata": {},
   "outputs": [],
   "source": [
    "drug_meta = pd.merge(meta,drugbank,how=\"left\")\n",
    "drug_meta.to_csv(\"Final/drug_meta.csv\",index=False)"
   ]
  },
  {
   "cell_type": "code",
   "execution_count": 62,
   "metadata": {
    "scrolled": true
   },
   "outputs": [
    {
     "name": "stdout",
     "output_type": "stream",
     "text": [
      "Total:  2170\n",
      "Unique:  1826\n"
     ]
    },
    {
     "data": {
      "text/html": [
       "<div>\n",
       "<style>\n",
       "    .dataframe thead tr:only-child th {\n",
       "        text-align: right;\n",
       "    }\n",
       "\n",
       "    .dataframe thead th {\n",
       "        text-align: left;\n",
       "    }\n",
       "\n",
       "    .dataframe tbody tr th {\n",
       "        vertical-align: top;\n",
       "    }\n",
       "</style>\n",
       "<table border=\"1\" class=\"dataframe\">\n",
       "  <thead>\n",
       "    <tr style=\"text-align: right;\">\n",
       "      <th></th>\n",
       "      <th>smiles</th>\n",
       "      <th>name</th>\n",
       "      <th>id</th>\n",
       "      <th>inchi_key</th>\n",
       "      <th>atc</th>\n",
       "    </tr>\n",
       "  </thead>\n",
       "  <tbody>\n",
       "    <tr>\n",
       "      <th>0</th>\n",
       "      <td>CCN(CC)CCCCN1C2CCCCC2OC2CCC(CL)CC12</td>\n",
       "      <td>10-DEBC</td>\n",
       "      <td>BRD-K70792160</td>\n",
       "      <td>GYBXAGDWMCJZJK-UHFFFAOYSA-N</td>\n",
       "      <td>NaN</td>\n",
       "    </tr>\n",
       "    <tr>\n",
       "      <th>1</th>\n",
       "      <td>CCCCCCCCCCCCCC(=O)O[C@@H]1[C@@H](C)[C@]2(O)[C@...</td>\n",
       "      <td>phorbol-myristate-acetate</td>\n",
       "      <td>BRD-K68552125</td>\n",
       "      <td>PHEDXBVPIONUQT-RGYGYFBISA-N</td>\n",
       "      <td>NaN</td>\n",
       "    </tr>\n",
       "  </tbody>\n",
       "</table>\n",
       "</div>"
      ],
      "text/plain": [
       "                                              smiles  \\\n",
       "0                CCN(CC)CCCCN1C2CCCCC2OC2CCC(CL)CC12   \n",
       "1  CCCCCCCCCCCCCC(=O)O[C@@H]1[C@@H](C)[C@]2(O)[C@...   \n",
       "\n",
       "                        name             id                    inchi_key  atc  \n",
       "0                    10-DEBC  BRD-K70792160  GYBXAGDWMCJZJK-UHFFFAOYSA-N  NaN  \n",
       "1  phorbol-myristate-acetate  BRD-K68552125  PHEDXBVPIONUQT-RGYGYFBISA-N  NaN  "
      ]
     },
     "execution_count": 62,
     "metadata": {},
     "output_type": "execute_result"
    }
   ],
   "source": [
    "print(\"Total: \",len(list(drug_meta.name)))\n",
    "print(\"Unique: \",len(np.unique(list(drug_meta.name))))\n",
    "drug_meta.head(2)"
   ]
  },
  {
   "cell_type": "code",
   "execution_count": 74,
   "metadata": {},
   "outputs": [
    {
     "name": "stdout",
     "output_type": "stream",
     "text": [
      "Number of entries:  2\n"
     ]
    },
    {
     "data": {
      "text/html": [
       "<div>\n",
       "<style>\n",
       "    .dataframe thead tr:only-child th {\n",
       "        text-align: right;\n",
       "    }\n",
       "\n",
       "    .dataframe thead th {\n",
       "        text-align: left;\n",
       "    }\n",
       "\n",
       "    .dataframe tbody tr th {\n",
       "        vertical-align: top;\n",
       "    }\n",
       "</style>\n",
       "<table border=\"1\" class=\"dataframe\">\n",
       "  <thead>\n",
       "    <tr style=\"text-align: right;\">\n",
       "      <th></th>\n",
       "      <th>smiles</th>\n",
       "      <th>name</th>\n",
       "      <th>id</th>\n",
       "      <th>inchi_key</th>\n",
       "      <th>atc</th>\n",
       "    </tr>\n",
       "  </thead>\n",
       "  <tbody>\n",
       "    <tr>\n",
       "      <th>475</th>\n",
       "      <td>C[C@@H]1CC2C3CCC4=CC(=O)C=CC4(C)[C@]3(F)[C@@H]...</td>\n",
       "      <td>dexamethasone</td>\n",
       "      <td>BRD-A69951442</td>\n",
       "      <td>UREBDLICKHMUKA-HIERVMNKSA-N</td>\n",
       "      <td>NaN</td>\n",
       "    </tr>\n",
       "    <tr>\n",
       "      <th>476</th>\n",
       "      <td>CC1CC2C3CCC4=CC(=O)C=CC4(C)C3(F)C(O)CC2(C)C1(O...</td>\n",
       "      <td>dexamethasone</td>\n",
       "      <td>BRD-A35108200</td>\n",
       "      <td>UREBDLICKHMUKA-UHFFFAOYSA-N</td>\n",
       "      <td>NaN</td>\n",
       "    </tr>\n",
       "  </tbody>\n",
       "</table>\n",
       "</div>"
      ],
      "text/plain": [
       "                                                smiles           name  \\\n",
       "475  C[C@@H]1CC2C3CCC4=CC(=O)C=CC4(C)[C@]3(F)[C@@H]...  dexamethasone   \n",
       "476  CC1CC2C3CCC4=CC(=O)C=CC4(C)C3(F)C(O)CC2(C)C1(O...  dexamethasone   \n",
       "\n",
       "                id                    inchi_key  atc  \n",
       "475  BRD-A69951442  UREBDLICKHMUKA-HIERVMNKSA-N  NaN  \n",
       "476  BRD-A35108200  UREBDLICKHMUKA-UHFFFAOYSA-N  NaN  "
      ]
     },
     "execution_count": 74,
     "metadata": {},
     "output_type": "execute_result"
    }
   ],
   "source": [
    "print(\"Number of entries: \",len(drug_meta[drug_meta.name==\"dexamethasone\"].drop_duplicates()))\n",
    "drug_meta[drug_meta.name==\"dexamethasone\"].drop_duplicates().head()"
   ]
  },
  {
   "cell_type": "markdown",
   "metadata": {},
   "source": [
    "## Making the metadata => atc correlation"
   ]
  },
  {
   "cell_type": "code",
   "execution_count": 63,
   "metadata": {
    "collapsed": true
   },
   "outputs": [],
   "source": [
    "atc_meta = pd.merge(meta,atc,how=\"left\")\n",
    "atc_meta.to_csv(\"Final/atc_meta.csv\",index=False)"
   ]
  },
  {
   "cell_type": "code",
   "execution_count": 64,
   "metadata": {
    "scrolled": true
   },
   "outputs": [
    {
     "name": "stdout",
     "output_type": "stream",
     "text": [
      "Total:  2390\n",
      "Unique:  1826\n"
     ]
    },
    {
     "data": {
      "text/html": [
       "<div>\n",
       "<style>\n",
       "    .dataframe thead tr:only-child th {\n",
       "        text-align: right;\n",
       "    }\n",
       "\n",
       "    .dataframe thead th {\n",
       "        text-align: left;\n",
       "    }\n",
       "\n",
       "    .dataframe tbody tr th {\n",
       "        vertical-align: top;\n",
       "    }\n",
       "</style>\n",
       "<table border=\"1\" class=\"dataframe\">\n",
       "  <thead>\n",
       "    <tr style=\"text-align: right;\">\n",
       "      <th></th>\n",
       "      <th>smiles</th>\n",
       "      <th>name</th>\n",
       "      <th>id</th>\n",
       "      <th>inchi_key</th>\n",
       "      <th>atc</th>\n",
       "    </tr>\n",
       "  </thead>\n",
       "  <tbody>\n",
       "    <tr>\n",
       "      <th>0</th>\n",
       "      <td>CCN(CC)CCCCN1C2CCCCC2OC2CCC(CL)CC12</td>\n",
       "      <td>10-DEBC</td>\n",
       "      <td>BRD-K70792160</td>\n",
       "      <td>GYBXAGDWMCJZJK-UHFFFAOYSA-N</td>\n",
       "      <td>NaN</td>\n",
       "    </tr>\n",
       "    <tr>\n",
       "      <th>1</th>\n",
       "      <td>CCCCCCCCCCCCCC(=O)O[C@@H]1[C@@H](C)[C@]2(O)[C@...</td>\n",
       "      <td>phorbol-myristate-acetate</td>\n",
       "      <td>BRD-K68552125</td>\n",
       "      <td>PHEDXBVPIONUQT-RGYGYFBISA-N</td>\n",
       "      <td>NaN</td>\n",
       "    </tr>\n",
       "  </tbody>\n",
       "</table>\n",
       "</div>"
      ],
      "text/plain": [
       "                                              smiles  \\\n",
       "0                CCN(CC)CCCCN1C2CCCCC2OC2CCC(CL)CC12   \n",
       "1  CCCCCCCCCCCCCC(=O)O[C@@H]1[C@@H](C)[C@]2(O)[C@...   \n",
       "\n",
       "                        name             id                    inchi_key  atc  \n",
       "0                    10-DEBC  BRD-K70792160  GYBXAGDWMCJZJK-UHFFFAOYSA-N  NaN  \n",
       "1  phorbol-myristate-acetate  BRD-K68552125  PHEDXBVPIONUQT-RGYGYFBISA-N  NaN  "
      ]
     },
     "execution_count": 64,
     "metadata": {},
     "output_type": "execute_result"
    }
   ],
   "source": [
    "print(\"Total: \",len(list(atc_meta.name)))\n",
    "print(\"Unique: \",len(np.unique(list(atc_meta.name))))\n",
    "atc_meta.head(2)"
   ]
  },
  {
   "cell_type": "code",
   "execution_count": 65,
   "metadata": {},
   "outputs": [
    {
     "name": "stdout",
     "output_type": "stream",
     "text": [
      "Number of entries:  22\n"
     ]
    },
    {
     "data": {
      "text/html": [
       "<div>\n",
       "<style>\n",
       "    .dataframe thead tr:only-child th {\n",
       "        text-align: right;\n",
       "    }\n",
       "\n",
       "    .dataframe thead th {\n",
       "        text-align: left;\n",
       "    }\n",
       "\n",
       "    .dataframe tbody tr th {\n",
       "        vertical-align: top;\n",
       "    }\n",
       "</style>\n",
       "<table border=\"1\" class=\"dataframe\">\n",
       "  <thead>\n",
       "    <tr style=\"text-align: right;\">\n",
       "      <th></th>\n",
       "      <th>smiles</th>\n",
       "      <th>name</th>\n",
       "      <th>id</th>\n",
       "      <th>inchi_key</th>\n",
       "      <th>atc</th>\n",
       "    </tr>\n",
       "  </thead>\n",
       "  <tbody>\n",
       "    <tr>\n",
       "      <th>519</th>\n",
       "      <td>C[C@@H]1CC2C3CCC4=CC(=O)C=CC4(C)[C@]3(F)[C@@H]...</td>\n",
       "      <td>dexamethasone</td>\n",
       "      <td>BRD-A69951442</td>\n",
       "      <td>UREBDLICKHMUKA-HIERVMNKSA-N</td>\n",
       "      <td>D07AB19</td>\n",
       "    </tr>\n",
       "    <tr>\n",
       "      <th>520</th>\n",
       "      <td>C[C@@H]1CC2C3CCC4=CC(=O)C=CC4(C)[C@]3(F)[C@@H]...</td>\n",
       "      <td>dexamethasone</td>\n",
       "      <td>BRD-A69951442</td>\n",
       "      <td>UREBDLICKHMUKA-HIERVMNKSA-N</td>\n",
       "      <td>C05AA09</td>\n",
       "    </tr>\n",
       "    <tr>\n",
       "      <th>521</th>\n",
       "      <td>C[C@@H]1CC2C3CCC4=CC(=O)C=CC4(C)[C@]3(F)[C@@H]...</td>\n",
       "      <td>dexamethasone</td>\n",
       "      <td>BRD-A69951442</td>\n",
       "      <td>UREBDLICKHMUKA-HIERVMNKSA-N</td>\n",
       "      <td>H02AB02</td>\n",
       "    </tr>\n",
       "    <tr>\n",
       "      <th>522</th>\n",
       "      <td>C[C@@H]1CC2C3CCC4=CC(=O)C=CC4(C)[C@]3(F)[C@@H]...</td>\n",
       "      <td>dexamethasone</td>\n",
       "      <td>BRD-A69951442</td>\n",
       "      <td>UREBDLICKHMUKA-HIERVMNKSA-N</td>\n",
       "      <td>S01BA01</td>\n",
       "    </tr>\n",
       "    <tr>\n",
       "      <th>523</th>\n",
       "      <td>C[C@@H]1CC2C3CCC4=CC(=O)C=CC4(C)[C@]3(F)[C@@H]...</td>\n",
       "      <td>dexamethasone</td>\n",
       "      <td>BRD-A69951442</td>\n",
       "      <td>UREBDLICKHMUKA-HIERVMNKSA-N</td>\n",
       "      <td>D10AA03</td>\n",
       "    </tr>\n",
       "  </tbody>\n",
       "</table>\n",
       "</div>"
      ],
      "text/plain": [
       "                                                smiles           name  \\\n",
       "519  C[C@@H]1CC2C3CCC4=CC(=O)C=CC4(C)[C@]3(F)[C@@H]...  dexamethasone   \n",
       "520  C[C@@H]1CC2C3CCC4=CC(=O)C=CC4(C)[C@]3(F)[C@@H]...  dexamethasone   \n",
       "521  C[C@@H]1CC2C3CCC4=CC(=O)C=CC4(C)[C@]3(F)[C@@H]...  dexamethasone   \n",
       "522  C[C@@H]1CC2C3CCC4=CC(=O)C=CC4(C)[C@]3(F)[C@@H]...  dexamethasone   \n",
       "523  C[C@@H]1CC2C3CCC4=CC(=O)C=CC4(C)[C@]3(F)[C@@H]...  dexamethasone   \n",
       "\n",
       "                id                    inchi_key      atc  \n",
       "519  BRD-A69951442  UREBDLICKHMUKA-HIERVMNKSA-N  D07AB19  \n",
       "520  BRD-A69951442  UREBDLICKHMUKA-HIERVMNKSA-N  C05AA09  \n",
       "521  BRD-A69951442  UREBDLICKHMUKA-HIERVMNKSA-N  H02AB02  \n",
       "522  BRD-A69951442  UREBDLICKHMUKA-HIERVMNKSA-N  S01BA01  \n",
       "523  BRD-A69951442  UREBDLICKHMUKA-HIERVMNKSA-N  D10AA03  "
      ]
     },
     "execution_count": 65,
     "metadata": {},
     "output_type": "execute_result"
    }
   ],
   "source": [
    "print(\"Number of entries: \",len(atc_meta[atc_meta.name==\"dexamethasone\"].drop_duplicates()))\n",
    "atc_meta[atc_meta.name==\"dexamethasone\"].drop_duplicates().head()"
   ]
  },
  {
   "cell_type": "markdown",
   "metadata": {},
   "source": [
    "## Combining all the three"
   ]
  },
  {
   "cell_type": "code",
   "execution_count": 80,
   "metadata": {},
   "outputs": [
    {
     "name": "stdout",
     "output_type": "stream",
     "text": [
      "Total:  3153\n",
      "Unique:  1826\n"
     ]
    },
    {
     "data": {
      "text/html": [
       "<div>\n",
       "<style>\n",
       "    .dataframe thead tr:only-child th {\n",
       "        text-align: right;\n",
       "    }\n",
       "\n",
       "    .dataframe thead th {\n",
       "        text-align: left;\n",
       "    }\n",
       "\n",
       "    .dataframe tbody tr th {\n",
       "        vertical-align: top;\n",
       "    }\n",
       "</style>\n",
       "<table border=\"1\" class=\"dataframe\">\n",
       "  <thead>\n",
       "    <tr style=\"text-align: right;\">\n",
       "      <th></th>\n",
       "      <th>smiles</th>\n",
       "      <th>name</th>\n",
       "      <th>id</th>\n",
       "      <th>inchi_key</th>\n",
       "      <th>atc</th>\n",
       "    </tr>\n",
       "  </thead>\n",
       "  <tbody>\n",
       "    <tr>\n",
       "      <th>0</th>\n",
       "      <td>CCN(CC)CCCCN1C2CCCCC2OC2CCC(CL)CC12</td>\n",
       "      <td>10-DEBC</td>\n",
       "      <td>BRD-K70792160</td>\n",
       "      <td>GYBXAGDWMCJZJK-UHFFFAOYSA-N</td>\n",
       "      <td>NaN</td>\n",
       "    </tr>\n",
       "    <tr>\n",
       "      <th>1</th>\n",
       "      <td>CCCCCCCCCCCCCC(=O)O[C@@H]1[C@@H](C)[C@]2(O)[C@...</td>\n",
       "      <td>phorbol-myristate-acetate</td>\n",
       "      <td>BRD-K68552125</td>\n",
       "      <td>PHEDXBVPIONUQT-RGYGYFBISA-N</td>\n",
       "      <td>NaN</td>\n",
       "    </tr>\n",
       "  </tbody>\n",
       "</table>\n",
       "</div>"
      ],
      "text/plain": [
       "                                              smiles  \\\n",
       "0                CCN(CC)CCCCN1C2CCCCC2OC2CCC(CL)CC12   \n",
       "1  CCCCCCCCCCCCCC(=O)O[C@@H]1[C@@H](C)[C@]2(O)[C@...   \n",
       "\n",
       "                        name             id                    inchi_key  atc  \n",
       "0                    10-DEBC  BRD-K70792160  GYBXAGDWMCJZJK-UHFFFAOYSA-N  NaN  \n",
       "1  phorbol-myristate-acetate  BRD-K68552125  PHEDXBVPIONUQT-RGYGYFBISA-N  NaN  "
      ]
     },
     "execution_count": 80,
     "metadata": {},
     "output_type": "execute_result"
    }
   ],
   "source": [
    "all3 = pd.merge(drug_meta, atc_meta,  how=\"outer\")\n",
    "print(\"Total: \",len(list(all3.name)))\n",
    "print(\"Unique: \",len(np.unique(list(all3.name))))\n",
    "all3.to_csv(\"Final/all3.csv\",index=False)\n",
    "all3.head(2)"
   ]
  },
  {
   "cell_type": "code",
   "execution_count": 82,
   "metadata": {
    "scrolled": true
   },
   "outputs": [
    {
     "name": "stdout",
     "output_type": "stream",
     "text": [
      "Number of entries:  24\n"
     ]
    },
    {
     "data": {
      "text/html": [
       "<div>\n",
       "<style>\n",
       "    .dataframe thead tr:only-child th {\n",
       "        text-align: right;\n",
       "    }\n",
       "\n",
       "    .dataframe thead th {\n",
       "        text-align: left;\n",
       "    }\n",
       "\n",
       "    .dataframe tbody tr th {\n",
       "        vertical-align: top;\n",
       "    }\n",
       "</style>\n",
       "<table border=\"1\" class=\"dataframe\">\n",
       "  <thead>\n",
       "    <tr style=\"text-align: right;\">\n",
       "      <th></th>\n",
       "      <th>smiles</th>\n",
       "      <th>name</th>\n",
       "      <th>id</th>\n",
       "      <th>inchi_key</th>\n",
       "      <th>atc</th>\n",
       "    </tr>\n",
       "  </thead>\n",
       "  <tbody>\n",
       "    <tr>\n",
       "      <th>475</th>\n",
       "      <td>C[C@@H]1CC2C3CCC4=CC(=O)C=CC4(C)[C@]3(F)[C@@H]...</td>\n",
       "      <td>dexamethasone</td>\n",
       "      <td>BRD-A69951442</td>\n",
       "      <td>UREBDLICKHMUKA-HIERVMNKSA-N</td>\n",
       "      <td>NaN</td>\n",
       "    </tr>\n",
       "    <tr>\n",
       "      <th>476</th>\n",
       "      <td>CC1CC2C3CCC4=CC(=O)C=CC4(C)C3(F)C(O)CC2(C)C1(O...</td>\n",
       "      <td>dexamethasone</td>\n",
       "      <td>BRD-A35108200</td>\n",
       "      <td>UREBDLICKHMUKA-UHFFFAOYSA-N</td>\n",
       "      <td>NaN</td>\n",
       "    </tr>\n",
       "    <tr>\n",
       "      <th>2401</th>\n",
       "      <td>C[C@@H]1CC2C3CCC4=CC(=O)C=CC4(C)[C@]3(F)[C@@H]...</td>\n",
       "      <td>dexamethasone</td>\n",
       "      <td>BRD-A69951442</td>\n",
       "      <td>UREBDLICKHMUKA-HIERVMNKSA-N</td>\n",
       "      <td>D07AB19</td>\n",
       "    </tr>\n",
       "    <tr>\n",
       "      <th>2402</th>\n",
       "      <td>C[C@@H]1CC2C3CCC4=CC(=O)C=CC4(C)[C@]3(F)[C@@H]...</td>\n",
       "      <td>dexamethasone</td>\n",
       "      <td>BRD-A69951442</td>\n",
       "      <td>UREBDLICKHMUKA-HIERVMNKSA-N</td>\n",
       "      <td>C05AA09</td>\n",
       "    </tr>\n",
       "    <tr>\n",
       "      <th>2403</th>\n",
       "      <td>C[C@@H]1CC2C3CCC4=CC(=O)C=CC4(C)[C@]3(F)[C@@H]...</td>\n",
       "      <td>dexamethasone</td>\n",
       "      <td>BRD-A69951442</td>\n",
       "      <td>UREBDLICKHMUKA-HIERVMNKSA-N</td>\n",
       "      <td>H02AB02</td>\n",
       "    </tr>\n",
       "  </tbody>\n",
       "</table>\n",
       "</div>"
      ],
      "text/plain": [
       "                                                 smiles           name  \\\n",
       "475   C[C@@H]1CC2C3CCC4=CC(=O)C=CC4(C)[C@]3(F)[C@@H]...  dexamethasone   \n",
       "476   CC1CC2C3CCC4=CC(=O)C=CC4(C)C3(F)C(O)CC2(C)C1(O...  dexamethasone   \n",
       "2401  C[C@@H]1CC2C3CCC4=CC(=O)C=CC4(C)[C@]3(F)[C@@H]...  dexamethasone   \n",
       "2402  C[C@@H]1CC2C3CCC4=CC(=O)C=CC4(C)[C@]3(F)[C@@H]...  dexamethasone   \n",
       "2403  C[C@@H]1CC2C3CCC4=CC(=O)C=CC4(C)[C@]3(F)[C@@H]...  dexamethasone   \n",
       "\n",
       "                 id                    inchi_key      atc  \n",
       "475   BRD-A69951442  UREBDLICKHMUKA-HIERVMNKSA-N      NaN  \n",
       "476   BRD-A35108200  UREBDLICKHMUKA-UHFFFAOYSA-N      NaN  \n",
       "2401  BRD-A69951442  UREBDLICKHMUKA-HIERVMNKSA-N  D07AB19  \n",
       "2402  BRD-A69951442  UREBDLICKHMUKA-HIERVMNKSA-N  C05AA09  \n",
       "2403  BRD-A69951442  UREBDLICKHMUKA-HIERVMNKSA-N  H02AB02  "
      ]
     },
     "execution_count": 82,
     "metadata": {},
     "output_type": "execute_result"
    }
   ],
   "source": [
    "print(\"Number of entries: \",len(all3[all3.name==\"dexamethasone\"].drop_duplicates()))\n",
    "all3[all3.name==\"dexamethasone\"].head()"
   ]
  },
  {
   "cell_type": "markdown",
   "metadata": {},
   "source": [
    "## Checking for valid ATC codes"
   ]
  },
  {
   "cell_type": "code",
   "execution_count": 88,
   "metadata": {},
   "outputs": [
    {
     "name": "stdout",
     "output_type": "stream",
     "text": [
      "Total number of rows (includes duplicate perts):  3153\n",
      "smiles          0\n",
      "name            0\n",
      "id              0\n",
      "inchi_key       0\n",
      "atc          2149\n",
      "dtype: int64\n"
     ]
    }
   ],
   "source": [
    "print(\"Total number of rows (includes duplicate perts): \",len(all3))\n",
    "print(all3.isnull().sum())"
   ]
  },
  {
   "cell_type": "code",
   "execution_count": 93,
   "metadata": {},
   "outputs": [
    {
     "name": "stdout",
     "output_type": "stream",
     "text": [
      "Total:  1004\n",
      "Unique:  770\n"
     ]
    }
   ],
   "source": [
    "newall = all3.dropna(subset=['atc'])\n",
    "print(\"Total: \", len(newall))\n",
    "print(\"Unique: \",len(np.unique(list(newall.name))))"
   ]
  },
  {
   "cell_type": "code",
   "execution_count": 95,
   "metadata": {},
   "outputs": [],
   "source": [
    "newall.to_csv(\"Final/all3_without_nan.csv\")"
   ]
  },
  {
   "cell_type": "code",
   "execution_count": 96,
   "metadata": {},
   "outputs": [
    {
     "name": "stdout",
     "output_type": "stream",
     "text": [
      "Number of entries:  22\n"
     ]
    },
    {
     "data": {
      "text/html": [
       "<div>\n",
       "<style>\n",
       "    .dataframe thead tr:only-child th {\n",
       "        text-align: right;\n",
       "    }\n",
       "\n",
       "    .dataframe thead th {\n",
       "        text-align: left;\n",
       "    }\n",
       "\n",
       "    .dataframe tbody tr th {\n",
       "        vertical-align: top;\n",
       "    }\n",
       "</style>\n",
       "<table border=\"1\" class=\"dataframe\">\n",
       "  <thead>\n",
       "    <tr style=\"text-align: right;\">\n",
       "      <th></th>\n",
       "      <th>smiles</th>\n",
       "      <th>name</th>\n",
       "      <th>id</th>\n",
       "      <th>inchi_key</th>\n",
       "      <th>atc</th>\n",
       "    </tr>\n",
       "  </thead>\n",
       "  <tbody>\n",
       "    <tr>\n",
       "      <th>2401</th>\n",
       "      <td>C[C@@H]1CC2C3CCC4=CC(=O)C=CC4(C)[C@]3(F)[C@@H]...</td>\n",
       "      <td>dexamethasone</td>\n",
       "      <td>BRD-A69951442</td>\n",
       "      <td>UREBDLICKHMUKA-HIERVMNKSA-N</td>\n",
       "      <td>D07AB19</td>\n",
       "    </tr>\n",
       "    <tr>\n",
       "      <th>2402</th>\n",
       "      <td>C[C@@H]1CC2C3CCC4=CC(=O)C=CC4(C)[C@]3(F)[C@@H]...</td>\n",
       "      <td>dexamethasone</td>\n",
       "      <td>BRD-A69951442</td>\n",
       "      <td>UREBDLICKHMUKA-HIERVMNKSA-N</td>\n",
       "      <td>C05AA09</td>\n",
       "    </tr>\n",
       "    <tr>\n",
       "      <th>2403</th>\n",
       "      <td>C[C@@H]1CC2C3CCC4=CC(=O)C=CC4(C)[C@]3(F)[C@@H]...</td>\n",
       "      <td>dexamethasone</td>\n",
       "      <td>BRD-A69951442</td>\n",
       "      <td>UREBDLICKHMUKA-HIERVMNKSA-N</td>\n",
       "      <td>H02AB02</td>\n",
       "    </tr>\n",
       "    <tr>\n",
       "      <th>2404</th>\n",
       "      <td>C[C@@H]1CC2C3CCC4=CC(=O)C=CC4(C)[C@]3(F)[C@@H]...</td>\n",
       "      <td>dexamethasone</td>\n",
       "      <td>BRD-A69951442</td>\n",
       "      <td>UREBDLICKHMUKA-HIERVMNKSA-N</td>\n",
       "      <td>S01BA01</td>\n",
       "    </tr>\n",
       "    <tr>\n",
       "      <th>2405</th>\n",
       "      <td>C[C@@H]1CC2C3CCC4=CC(=O)C=CC4(C)[C@]3(F)[C@@H]...</td>\n",
       "      <td>dexamethasone</td>\n",
       "      <td>BRD-A69951442</td>\n",
       "      <td>UREBDLICKHMUKA-HIERVMNKSA-N</td>\n",
       "      <td>D10AA03</td>\n",
       "    </tr>\n",
       "  </tbody>\n",
       "</table>\n",
       "</div>"
      ],
      "text/plain": [
       "                                                 smiles           name  \\\n",
       "2401  C[C@@H]1CC2C3CCC4=CC(=O)C=CC4(C)[C@]3(F)[C@@H]...  dexamethasone   \n",
       "2402  C[C@@H]1CC2C3CCC4=CC(=O)C=CC4(C)[C@]3(F)[C@@H]...  dexamethasone   \n",
       "2403  C[C@@H]1CC2C3CCC4=CC(=O)C=CC4(C)[C@]3(F)[C@@H]...  dexamethasone   \n",
       "2404  C[C@@H]1CC2C3CCC4=CC(=O)C=CC4(C)[C@]3(F)[C@@H]...  dexamethasone   \n",
       "2405  C[C@@H]1CC2C3CCC4=CC(=O)C=CC4(C)[C@]3(F)[C@@H]...  dexamethasone   \n",
       "\n",
       "                 id                    inchi_key      atc  \n",
       "2401  BRD-A69951442  UREBDLICKHMUKA-HIERVMNKSA-N  D07AB19  \n",
       "2402  BRD-A69951442  UREBDLICKHMUKA-HIERVMNKSA-N  C05AA09  \n",
       "2403  BRD-A69951442  UREBDLICKHMUKA-HIERVMNKSA-N  H02AB02  \n",
       "2404  BRD-A69951442  UREBDLICKHMUKA-HIERVMNKSA-N  S01BA01  \n",
       "2405  BRD-A69951442  UREBDLICKHMUKA-HIERVMNKSA-N  D10AA03  "
      ]
     },
     "execution_count": 96,
     "metadata": {},
     "output_type": "execute_result"
    }
   ],
   "source": [
    "print(\"Number of entries: \",len(newall[newall.name==\"dexamethasone\"].drop_duplicates()))\n",
    "newall[newall.name==\"dexamethasone\"].head()"
   ]
  },
  {
   "cell_type": "code",
   "execution_count": 98,
   "metadata": {},
   "outputs": [
    {
     "data": {
      "text/plain": [
       "(782,)"
      ]
     },
     "execution_count": 98,
     "metadata": {},
     "output_type": "execute_result"
    }
   ],
   "source": [
    "np.unique(list(newall.id)).shape"
   ]
  },
  {
   "cell_type": "code",
   "execution_count": null,
   "metadata": {
    "collapsed": true
   },
   "outputs": [],
   "source": []
  }
 ],
 "metadata": {
  "kernelspec": {
   "display_name": "Python 3",
   "language": "python",
   "name": "python3"
  },
  "language_info": {
   "codemirror_mode": {
    "name": "ipython",
    "version": 3
   },
   "file_extension": ".py",
   "mimetype": "text/x-python",
   "name": "python",
   "nbconvert_exporter": "python",
   "pygments_lexer": "ipython3",
   "version": "3.6.8"
  }
 },
 "nbformat": 4,
 "nbformat_minor": 2
}
