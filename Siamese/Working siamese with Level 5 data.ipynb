{
 "cells": [
  {
   "cell_type": "code",
   "execution_count": 22,
   "metadata": {
    "collapsed": true
   },
   "outputs": [],
   "source": [
    "from cmapPy.pandasGEXpress.parse import parse\n",
    "import numpy as np\n",
    "import json\n",
    "from collections import Counter"
   ]
  },
  {
   "cell_type": "markdown",
   "metadata": {},
   "source": [
    "##### Create target perturbagen based on column name (target)"
   ]
  },
  {
   "cell_type": "markdown",
   "metadata": {},
   "source": [
    "##### Prepare the dataset\n",
    "- Transpose the dataset and add the class labels\n",
    "- Sort the dataset based on perturbagen values"
   ]
  },
  {
   "cell_type": "markdown",
   "metadata": {},
   "source": [
    "##### Create 2 dictionaries\n",
    "- <b> pert2profile: </b> <u>perturbagen: number of profiles</u> for that particular perturbagen\n",
    "- <b> location_pert: </b> <u>perturbagen: location </u>of 1st profile of perturbagen"
   ]
  },
  {
   "cell_type": "markdown",
   "metadata": {},
   "source": [
    "##### Create training data and target values\n",
    "- generates 'batch_size' number of pairs of input [a,b]\n",
    "- half of the pairs are of the same class and half are of differnet class"
   ]
  },
  {
   "cell_type": "code",
   "execution_count": 2,
   "metadata": {
    "collapsed": true
   },
   "outputs": [],
   "source": [
    "def get_batch(pert2profiles, location_pert, data,batch_size):\n",
    "    \n",
    "    rng = np.random\n",
    "    \n",
    "    list_of_perturbagens = data.target\n",
    "    num_perturbagens= len(list_of_perturbagens) \n",
    "    dim = 978\n",
    "    #print(list_of_perturbagens, num_perturbagens)\n",
    "    \n",
    "    batch_perturbagens = rng.choice(list_of_perturbagens,size=(batch_size,),replace=False)\n",
    "    pairs=[np.zeros((batch_size, dim)) for i in range(2)]\n",
    "    #print(batch_perturbagens)\n",
    "    \n",
    "    targets=np.zeros((batch_size,))\n",
    "    targets[batch_size//2:] = 1\n",
    "    \n",
    "    for i in range(batch_size):\n",
    "        pert1 = batch_perturbagens[i]\n",
    "        idx_1 = rng.randint(0, pert2profiles[pert1])\n",
    "        pairs[0][i,:] = data.iloc[location_pert[pert1]+idx_1,0:978]\n",
    "        \n",
    "        pert2=pert1\n",
    "        if i < batch_size // 2:\n",
    "            pert2 = rng.choice(batch_perturbagens)\n",
    "        idx_2 = rng.randint(0, pert2profiles[pert2])\n",
    "        pairs[1][i,:] = data.iloc[location_pert[pert2]+idx_2,0:978]\n",
    "        \n",
    "    return np.asarray(pairs), np.asarray(targets)\n",
    "    "
   ]
  },
  {
   "cell_type": "code",
   "execution_count": 23,
   "metadata": {
    "collapsed": true
   },
   "outputs": [],
   "source": [
    "def get_target_labels(working_data, mydict):\n",
    "    print(\"creating target labels\")\n",
    "    target = []\n",
    "    cnt=0\n",
    "    for i in working_data.columns:\n",
    "        for pert, collist in mydict.items():\n",
    "            if i in collist:\n",
    "                if(cnt%1000==0):\n",
    "                    print(cnt,end=' ')\n",
    "                target.append(pert)\n",
    "                cnt+=1\n",
    "    return target\n",
    "\n",
    "def create_pert2profile(data):\n",
    "    print(\"pert2profile\")\n",
    "    return Counter(data.target)\n",
    "\n",
    "def create_location_pert(data):\n",
    "    print(\"creating location_pert\")\n",
    "    location_pert=dict()\n",
    "    cnt=0\n",
    "    for i in set(data.target.values):\n",
    "        loc  = np.where(data['target'] == i)[0][0]\n",
    "        location_pert[i] = loc\n",
    "        if(cnt%100==0):\n",
    "            print(cnt,end=' ')\n",
    "        cnt+=1\n",
    "    return location_pert\n",
    "\n",
    "def get_annotated_data():\n",
    "    obj = parse(\"../Data/Sig Annotated Level 5 Data.gctx\")\n",
    "    working_data = obj.data_df\n",
    "    \n",
    "    with open('../Data/sig-pert mapping.json', 'r') as fp:\n",
    "        mydict = json.load(fp)\n",
    "        \n",
    "    \n",
    "    data = working_data.transpose()\n",
    "    data['target'] = get_target_labels(working_data,mydict)\n",
    "    \n",
    "    data = data.sort_values('target')\n",
    "    \n",
    "    pert2profiles = create_pert2profile(data)\n",
    "    \n",
    "    location_pert= create_location_pert(data)\n",
    "    \n",
    "    X,y = get_batch(pert2profiles, location_pert, data,10000)\n",
    "    \n",
    "    return X,y"
   ]
  },
  {
   "cell_type": "code",
   "execution_count": 24,
   "metadata": {},
   "outputs": [
    {
     "name": "stderr",
     "output_type": "stream",
     "text": [
      "The given path to the gctx file cannot be found. full_path: ../Data/Sig Annotated Level 5 Data.gctx\n"
     ]
    },
    {
     "ename": "Exception",
     "evalue": "The given path to the gctx file cannot be found. full_path: ../Data/Sig Annotated Level 5 Data.gctx",
     "output_type": "error",
     "traceback": [
      "\u001b[0;31m---------------------------------------------------------------------------\u001b[0m",
      "\u001b[0;31mException\u001b[0m                                 Traceback (most recent call last)",
      "\u001b[0;32m<ipython-input-24-bf9f01735a21>\u001b[0m in \u001b[0;36m<module>\u001b[0;34m()\u001b[0m\n\u001b[0;32m----> 1\u001b[0;31m \u001b[0mX\u001b[0m\u001b[0;34m,\u001b[0m\u001b[0my\u001b[0m \u001b[0;34m=\u001b[0m \u001b[0mget_annotated_data\u001b[0m\u001b[0;34m(\u001b[0m\u001b[0;34m)\u001b[0m\u001b[0;34m\u001b[0m\u001b[0;34m\u001b[0m\u001b[0m\n\u001b[0m",
      "\u001b[0;32m<ipython-input-23-6ec5775cfb8a>\u001b[0m in \u001b[0;36mget_annotated_data\u001b[0;34m()\u001b[0m\n\u001b[1;32m     29\u001b[0m \u001b[0;34m\u001b[0m\u001b[0m\n\u001b[1;32m     30\u001b[0m \u001b[0;32mdef\u001b[0m \u001b[0mget_annotated_data\u001b[0m\u001b[0;34m(\u001b[0m\u001b[0;34m)\u001b[0m\u001b[0;34m:\u001b[0m\u001b[0;34m\u001b[0m\u001b[0;34m\u001b[0m\u001b[0m\n\u001b[0;32m---> 31\u001b[0;31m     \u001b[0mobj\u001b[0m \u001b[0;34m=\u001b[0m \u001b[0mparse\u001b[0m\u001b[0;34m(\u001b[0m\u001b[0;34m\"../Data/Sig Annotated Level 5 Data.gctx\"\u001b[0m\u001b[0;34m)\u001b[0m\u001b[0;34m\u001b[0m\u001b[0;34m\u001b[0m\u001b[0m\n\u001b[0m\u001b[1;32m     32\u001b[0m     \u001b[0mworking_data\u001b[0m \u001b[0;34m=\u001b[0m \u001b[0mobj\u001b[0m\u001b[0;34m.\u001b[0m\u001b[0mdata_df\u001b[0m\u001b[0;34m\u001b[0m\u001b[0;34m\u001b[0m\u001b[0m\n\u001b[1;32m     33\u001b[0m \u001b[0;34m\u001b[0m\u001b[0m\n",
      "\u001b[0;32m/Users/dweepa/anaconda/lib/python3.6/site-packages/cmapPy/pandasGEXpress/parse.py\u001b[0m in \u001b[0;36mparse\u001b[0;34m(file_path, convert_neg_666, rid, cid, ridx, cidx, row_meta_only, col_meta_only, make_multiindex)\u001b[0m\n\u001b[1;32m     66\u001b[0m                               \u001b[0mrid\u001b[0m\u001b[0;34m=\u001b[0m\u001b[0mrid\u001b[0m\u001b[0;34m,\u001b[0m \u001b[0mcid\u001b[0m\u001b[0;34m=\u001b[0m\u001b[0mcid\u001b[0m\u001b[0;34m,\u001b[0m \u001b[0mridx\u001b[0m\u001b[0;34m=\u001b[0m\u001b[0mridx\u001b[0m\u001b[0;34m,\u001b[0m \u001b[0mcidx\u001b[0m\u001b[0;34m=\u001b[0m\u001b[0mcidx\u001b[0m\u001b[0;34m,\u001b[0m\u001b[0;34m\u001b[0m\u001b[0;34m\u001b[0m\u001b[0m\n\u001b[1;32m     67\u001b[0m                               \u001b[0mrow_meta_only\u001b[0m\u001b[0;34m=\u001b[0m\u001b[0mrow_meta_only\u001b[0m\u001b[0;34m,\u001b[0m \u001b[0mcol_meta_only\u001b[0m\u001b[0;34m=\u001b[0m\u001b[0mcol_meta_only\u001b[0m\u001b[0;34m,\u001b[0m\u001b[0;34m\u001b[0m\u001b[0;34m\u001b[0m\u001b[0m\n\u001b[0;32m---> 68\u001b[0;31m                               make_multiindex=make_multiindex)\n\u001b[0m\u001b[1;32m     69\u001b[0m \u001b[0;34m\u001b[0m\u001b[0m\n\u001b[1;32m     70\u001b[0m     \u001b[0;32melse\u001b[0m\u001b[0;34m:\u001b[0m\u001b[0;34m\u001b[0m\u001b[0;34m\u001b[0m\u001b[0m\n",
      "\u001b[0;32m/Users/dweepa/anaconda/lib/python3.6/site-packages/cmapPy/pandasGEXpress/parse_gctx.py\u001b[0m in \u001b[0;36mparse\u001b[0;34m(gctx_file_path, convert_neg_666, rid, cid, ridx, cidx, row_meta_only, col_meta_only, make_multiindex)\u001b[0m\n\u001b[1;32m     63\u001b[0m         \u001b[0merr_msg\u001b[0m \u001b[0;34m=\u001b[0m \u001b[0;34m\"The given path to the gctx file cannot be found. full_path: {}\"\u001b[0m\u001b[0;34m\u001b[0m\u001b[0;34m\u001b[0m\u001b[0m\n\u001b[1;32m     64\u001b[0m         \u001b[0mlogger\u001b[0m\u001b[0;34m.\u001b[0m\u001b[0merror\u001b[0m\u001b[0;34m(\u001b[0m\u001b[0merr_msg\u001b[0m\u001b[0;34m.\u001b[0m\u001b[0mformat\u001b[0m\u001b[0;34m(\u001b[0m\u001b[0mfull_path\u001b[0m\u001b[0;34m)\u001b[0m\u001b[0;34m)\u001b[0m\u001b[0;34m\u001b[0m\u001b[0;34m\u001b[0m\u001b[0m\n\u001b[0;32m---> 65\u001b[0;31m         \u001b[0;32mraise\u001b[0m \u001b[0mException\u001b[0m\u001b[0;34m(\u001b[0m\u001b[0merr_msg\u001b[0m\u001b[0;34m.\u001b[0m\u001b[0mformat\u001b[0m\u001b[0;34m(\u001b[0m\u001b[0mfull_path\u001b[0m\u001b[0;34m)\u001b[0m\u001b[0;34m)\u001b[0m\u001b[0;34m\u001b[0m\u001b[0;34m\u001b[0m\u001b[0m\n\u001b[0m\u001b[1;32m     66\u001b[0m     \u001b[0mlogger\u001b[0m\u001b[0;34m.\u001b[0m\u001b[0minfo\u001b[0m\u001b[0;34m(\u001b[0m\u001b[0;34m\"Reading GCTX: {}\"\u001b[0m\u001b[0;34m.\u001b[0m\u001b[0mformat\u001b[0m\u001b[0;34m(\u001b[0m\u001b[0mfull_path\u001b[0m\u001b[0;34m)\u001b[0m\u001b[0;34m)\u001b[0m\u001b[0;34m\u001b[0m\u001b[0;34m\u001b[0m\u001b[0m\n\u001b[1;32m     67\u001b[0m \u001b[0;34m\u001b[0m\u001b[0m\n",
      "\u001b[0;31mException\u001b[0m: The given path to the gctx file cannot be found. full_path: ../Data/Sig Annotated Level 5 Data.gctx"
     ]
    }
   ],
   "source": [
    "X,y = get_annotated_data()"
   ]
  },
  {
   "cell_type": "code",
   "execution_count": 6,
   "metadata": {
    "collapsed": true
   },
   "outputs": [],
   "source": [
    "def generate(batch_size, s=\"train\"):\n",
    "    \"\"\"\n",
    "    a generator for batches, so model.fit_generator can be used.\n",
    "    \"\"\"\n",
    "    while True:\n",
    "        pairs, targets = get_batch(batch_size,s)\n",
    "        yield (pairs, targets)"
   ]
  },
  {
   "cell_type": "markdown",
   "metadata": {},
   "source": [
    "##### Creates a support set to evaluate the embeddings\n",
    "- N-way indicates that it will compare the query sample with N candidtates in the support set"
   ]
  },
  {
   "cell_type": "code",
   "execution_count": 7,
   "metadata": {
    "collapsed": true
   },
   "outputs": [],
   "source": [
    "def make_oneshot_task(N):\n",
    "    rng = np.random\n",
    "    \n",
    "    list_of_perturbagens = np.unique(data.target)\n",
    "    num_perturbagens= len(list_of_perturbagens) \n",
    "    dim = 978\n",
    "    \n",
    "    perturbagens = rng.choice(list_of_perturbagens,size=(N,),replace=False) \n",
    "    true_category = perturbagens[0]\n",
    "    \n",
    "    ex1, ex2 = rng.choice(pert2profiles[true_category],size=(2,))\n",
    "    test_image = np.asarray([data.iloc[location_pert[true_category]+ex1,0:978]]*N)\n",
    "    \n",
    "    support_set=np.zeros((N,978))\n",
    "    support_set[0,:]=data.iloc[location_pert[true_category]+ex2,0:978]\n",
    "    cnt=1\n",
    "    \n",
    "    for i in perturbagens[1:]:\n",
    "        loc = location_pert[i]\n",
    "        idx = rng.randint(pert2profiles[i])\n",
    "        support_set[cnt,:]= np.asarray(data.iloc[loc+idx,0:978])\n",
    "        cnt+=1\n",
    "    \n",
    "    targets = np.zeros((N,))\n",
    "    targets[0] = 1\n",
    "    pairs = [test_image,support_set]\n",
    "    return pairs, targets"
   ]
  },
  {
   "cell_type": "code",
   "execution_count": 8,
   "metadata": {
    "collapsed": true
   },
   "outputs": [],
   "source": [
    "def test_oneshot(model, N, k,verbose = 0):\n",
    "    \"\"\"Test average N way oneshot learning accuracy of a siamese neural net over k one-shot tasks\"\"\"\n",
    "    n_correct = 0\n",
    "    if verbose:\n",
    "        print(\"Evaluating model on {} random {} way one-shot learning tasks ... \\n\".format(k,N))\n",
    "    for i in range(k):\n",
    "        inputs, targets = make_oneshot_task(N)\n",
    "        probs = model.predict(inputs)\n",
    "        if np.argmax(probs) == np.argmax(targets):\n",
    "            n_correct+=1\n",
    "    percent_correct = (100.0 * n_correct / k)\n",
    "    if verbose:\n",
    "        print(\"Got an average of {}% {} way one-shot learning accuracy \\n\".format(percent_correct,N))\n",
    "    return percent_correct"
   ]
  },
  {
   "cell_type": "code",
   "execution_count": 9,
   "metadata": {
    "collapsed": true
   },
   "outputs": [],
   "source": [
    "def nearest_neighbour_correct(pairs,targets):\n",
    "    \"\"\"returns 1 if nearest neighbour gets the correct answer for a one-shot task\n",
    "        given by (pairs, targets)\"\"\"\n",
    "    L2_distances = np.zeros_like(targets)\n",
    "    for i in range(len(targets)):\n",
    "        L2_distances[i] = np.sum(np.sqrt(pairs[0][i]**2 - pairs[1][i]**2))\n",
    "    if np.argmin(L2_distances) == np.argmax(targets):\n",
    "        return 1\n",
    "    return 0\n",
    "\n",
    "  \n",
    "def test_nn_accuracy(N_ways,n_trials):\n",
    "    \"\"\"Returns accuracy of NN approach \"\"\"\n",
    "    print(\"Evaluating nearest neighbour on {} unique {} way one-shot learning tasks ...\".format(n_trials,N_ways))\n",
    "    n_right = 0\n",
    "    \n",
    "    for i in range(n_trials):\n",
    "        pairs,targets = make_oneshot_task(N_ways,\"val\")\n",
    "        correct = nearest_neighbour_correct(pairs,targets)\n",
    "        n_right += correct\n",
    "    return 100.0 * n_right / n_trials"
   ]
  },
  {
   "cell_type": "code",
   "execution_count": 10,
   "metadata": {},
   "outputs": [
    {
     "name": "stderr",
     "output_type": "stream",
     "text": [
      "Using TensorFlow backend.\n"
     ]
    }
   ],
   "source": [
    "import random\n",
    "import pandas as pd\n",
    "import numpy as np\n",
    "from sklearn.model_selection import train_test_split\n",
    "from itertools import chain\n",
    "\n",
    "import keras\n",
    "from keras.datasets import reuters\n",
    "from keras.models import Sequential, Model\n",
    "from keras.layers import Dense, Activation, Dropout, Input\n",
    "from keras.layers.noise import AlphaDropout\n",
    "from keras.preprocessing.text import Tokenizer\n",
    "from keras.layers import Layer\n",
    "from tensorflow.python.keras import backend as K"
   ]
  },
  {
   "cell_type": "code",
   "execution_count": 11,
   "metadata": {
    "collapsed": true
   },
   "outputs": [],
   "source": [
    "max_words = 978\n",
    "batch_size = 16\n",
    "epochs = 40\n",
    "\n",
    "def create_network(n_dense=6,\n",
    "                   dense_units=16,\n",
    "                   activation='selu',\n",
    "                   dropout=AlphaDropout,\n",
    "                   dropout_rate=0.1,\n",
    "                   kernel_initializer='lecun_normal',\n",
    "                   optimizer='adam',\n",
    "                   num_classes=1,\n",
    "                   max_words=max_words):\n",
    "    \n",
    "    model = Sequential()\n",
    "    model.add(Dense(dense_units, input_shape=(max_words,),\n",
    "                    kernel_initializer=kernel_initializer))\n",
    "    model.add(Activation(activation))\n",
    "    model.add(dropout(dropout_rate))\n",
    "\n",
    "    for i in range(n_dense - 1):\n",
    "        model.add(Dense(dense_units, kernel_initializer=kernel_initializer))\n",
    "        model.add(Activation(activation))\n",
    "        model.add(dropout(dropout_rate))\n",
    "\n",
    "    #model.add(Dense(num_classes))\n",
    "    #model.add(Activation('softmax'))\n",
    "    return model"
   ]
  },
  {
   "cell_type": "code",
   "execution_count": 12,
   "metadata": {
    "collapsed": true
   },
   "outputs": [],
   "source": [
    "network = {\n",
    "    'n_dense': 10,\n",
    "    'dense_units': 16,\n",
    "    'activation': 'selu',\n",
    "    'dropout': AlphaDropout,\n",
    "    'dropout_rate': 0.1,\n",
    "    'kernel_initializer': 'lecun_normal',\n",
    "    'optimizer': 'sgd',\n",
    "    'num_classes':40\n",
    "}"
   ]
  },
  {
   "cell_type": "code",
   "execution_count": 13,
   "metadata": {
    "collapsed": true
   },
   "outputs": [],
   "source": [
    "shared_model = create_network(**network)"
   ]
  },
  {
   "cell_type": "code",
   "execution_count": 14,
   "metadata": {
    "collapsed": true
   },
   "outputs": [],
   "source": [
    "class ManDist(Layer):\n",
    "    \n",
    "    # initialize the layer, No need to include inputs parameter!\n",
    "    def __init__(self, **kwargs):\n",
    "        self.result = None\n",
    "        super(ManDist, self).__init__(**kwargs)\n",
    "\n",
    "    # input_shape will automatic collect input shapes to build layer\n",
    "    def build(self, input_shape):\n",
    "        super(ManDist, self).build(input_shape)\n",
    "\n",
    "    # This is where the layer's logic lives.\n",
    "    def call(self, x, **kwargs):\n",
    "        self.result = K.sum(K.abs(x[0] - x[1]), axis=1, keepdims=True)\n",
    "        return self.result\n",
    "\n",
    "    # return output shape\n",
    "    def compute_output_shape(self, input_shape):\n",
    "        return K.int_shape(self.result)"
   ]
  },
  {
   "cell_type": "code",
   "execution_count": 15,
   "metadata": {
    "collapsed": true
   },
   "outputs": [],
   "source": [
    "def contrastive_loss(y_true, y_pred):\n",
    "    margin = 1\n",
    "    return K.mean(y_true * K.square(y_pred) +\n",
    "                  (1 - y_true) * K.square(K.maximum(margin - y_pred, 0)))"
   ]
  },
  {
   "cell_type": "code",
   "execution_count": 16,
   "metadata": {
    "collapsed": true
   },
   "outputs": [],
   "source": [
    "left_input = Input(shape=(max_words,))\n",
    "right_input = Input(shape=(max_words,))"
   ]
  },
  {
   "cell_type": "code",
   "execution_count": 17,
   "metadata": {
    "collapsed": true
   },
   "outputs": [],
   "source": [
    "malstm_distance = ManDist()([shared_model(left_input), shared_model(right_input)])\n",
    "model = Model(inputs=[left_input, right_input], outputs=[malstm_distance])\n",
    "model.compile(loss=contrastive_loss, optimizer=\"adam\", metrics=['accuracy'])"
   ]
  },
  {
   "cell_type": "code",
   "execution_count": 18,
   "metadata": {
    "collapsed": true
   },
   "outputs": [],
   "source": [
    "import os\n",
    "model_path = './weights/'"
   ]
  },
  {
   "cell_type": "raw",
   "metadata": {},
   "source": [
    "import time \n",
    "# Hyper parameters\n",
    "evaluate_every = 200 # interval for evaluating on one-shot tasks\n",
    "batch_size = 10\n",
    "n_iter = 2000 # No. of training iterations\n",
    "N_way = 2 # how many classes for testing one-shot tasks\n",
    "n_val = 250 # how many one-shot tasks to validate on\n",
    "best = -1\n",
    "\n",
    "print(\"Starting training process!\")\n",
    "print(\"-------------------------------------\")\n",
    "t_start = time.time()\n",
    "for i in range(1, n_iter+1):\n",
    "    (inputs,targets) = get_batch(batch_size)\n",
    "    loss = model.train_on_batch([inputs[0],inputs[1]], targets)\n",
    "    if i % evaluate_every == 0:\n",
    "        print(\"\\n ------------- \\n\")\n",
    "        print(\"Time for {0} iterations: {1} mins\".format(i, (time.time()-t_start)/60.0))\n",
    "        print(\"Train Loss: {0}\".format(loss)) \n",
    "        val_acc = test_oneshot(model, N_way, n_val, verbose=True)\n",
    "        #model.save_weights(os.path.join(model_path, 'weights.{}.h5'.format(i)))\n",
    "        if val_acc >= best:\n",
    "            print(\"Current best: {0}, previous best: {1}\".format(val_acc, best))\n",
    "            best = val_acc\n",
    "    "
   ]
  },
  {
   "cell_type": "code",
   "execution_count": 19,
   "metadata": {},
   "outputs": [
    {
     "data": {
      "text/plain": [
       "(10000,)"
      ]
     },
     "execution_count": 19,
     "metadata": {},
     "output_type": "execute_result"
    }
   ],
   "source": [
    "X.shape\n",
    "y.shape"
   ]
  },
  {
   "cell_type": "code",
   "execution_count": 20,
   "metadata": {},
   "outputs": [
    {
     "name": "stdout",
     "output_type": "stream",
     "text": [
      "Epoch 1/100\n",
      "10000/10000 [==============================] - 4s 415us/step - loss: 50.1713 - acc: 0.0123\n",
      "Epoch 2/100\n",
      "10000/10000 [==============================] - 2s 233us/step - loss: 2.7403 - acc: 0.2141\n",
      "Epoch 3/100\n",
      "10000/10000 [==============================] - 2s 211us/step - loss: 1.9423 - acc: 0.3718\n",
      "Epoch 4/100\n",
      "10000/10000 [==============================] - 2s 240us/step - loss: 0.6990 - acc: 0.4618\n",
      "Epoch 5/100\n",
      "10000/10000 [==============================] - 2s 222us/step - loss: 0.3875 - acc: 0.4840\n",
      "Epoch 6/100\n",
      "10000/10000 [==============================] - 2s 237us/step - loss: 0.3357 - acc: 0.4909\n",
      "Epoch 7/100\n",
      "10000/10000 [==============================] - 3s 252us/step - loss: 0.3178 - acc: 0.4889\n",
      "Epoch 8/100\n",
      "10000/10000 [==============================] - 2s 206us/step - loss: 0.3141 - acc: 0.5034\n",
      "Epoch 9/100\n",
      "10000/10000 [==============================] - 2s 242us/step - loss: 0.3030 - acc: 0.4938\n",
      "Epoch 10/100\n",
      "10000/10000 [==============================] - 2s 218us/step - loss: 0.2984 - acc: 0.4998\n",
      "Epoch 11/100\n",
      "10000/10000 [==============================] - 2s 242us/step - loss: 0.3010 - acc: 0.5024\n",
      "Epoch 12/100\n",
      "10000/10000 [==============================] - 2s 229us/step - loss: 0.2892 - acc: 0.4969\n",
      "Epoch 13/100\n",
      "10000/10000 [==============================] - 2s 234us/step - loss: 0.2879 - acc: 0.4995\n",
      "Epoch 14/100\n",
      "10000/10000 [==============================] - 2s 233us/step - loss: 0.2819 - acc: 0.4909\n",
      "Epoch 15/100\n",
      "10000/10000 [==============================] - 2s 211us/step - loss: 0.2829 - acc: 0.4960\n",
      "Epoch 16/100\n",
      "10000/10000 [==============================] - 2s 243us/step - loss: 0.2804 - acc: 0.4973\n",
      "Epoch 17/100\n",
      "10000/10000 [==============================] - 2s 214us/step - loss: 0.2796 - acc: 0.5021\n",
      "Epoch 18/100\n",
      "10000/10000 [==============================] - 2s 247us/step - loss: 0.2800 - acc: 0.5027\n",
      "Epoch 19/100\n",
      "10000/10000 [==============================] - 2s 240us/step - loss: 0.2769 - acc: 0.5000\n",
      "Epoch 20/100\n",
      "10000/10000 [==============================] - 2s 211us/step - loss: 0.2746 - acc: 0.5054\n",
      "Epoch 21/100\n",
      "10000/10000 [==============================] - 2s 240us/step - loss: 0.2736 - acc: 0.4999\n",
      "Epoch 22/100\n",
      "10000/10000 [==============================] - 2s 214us/step - loss: 0.2753 - acc: 0.5059\n",
      "Epoch 23/100\n",
      "10000/10000 [==============================] - 2s 248us/step - loss: 0.2731 - acc: 0.5045\n",
      "Epoch 24/100\n",
      "10000/10000 [==============================] - 2s 219us/step - loss: 0.2703 - acc: 0.5025\n",
      "Epoch 25/100\n",
      "10000/10000 [==============================] - 2s 244us/step - loss: 0.2700 - acc: 0.5088\n",
      "Epoch 26/100\n",
      "10000/10000 [==============================] - 2s 225us/step - loss: 0.2700 - acc: 0.5023\n",
      "Epoch 27/100\n",
      "10000/10000 [==============================] - 2s 221us/step - loss: 0.2687 - acc: 0.4997\n",
      "Epoch 28/100\n",
      "10000/10000 [==============================] - 2s 242us/step - loss: 0.2677 - acc: 0.5018\n",
      "Epoch 29/100\n",
      "10000/10000 [==============================] - 3s 256us/step - loss: 0.2680 - acc: 0.5040\n",
      "Epoch 30/100\n",
      "10000/10000 [==============================] - 3s 291us/step - loss: 0.2661 - acc: 0.4962\n",
      "Epoch 31/100\n",
      "10000/10000 [==============================] - 3s 273us/step - loss: 0.2661 - acc: 0.4983\n",
      "Epoch 32/100\n",
      "10000/10000 [==============================] - 2s 228us/step - loss: 0.2666 - acc: 0.4992\n",
      "Epoch 33/100\n",
      "10000/10000 [==============================] - 3s 261us/step - loss: 0.2652 - acc: 0.5004\n",
      "Epoch 34/100\n",
      "10000/10000 [==============================] - 3s 252us/step - loss: 0.2759 - acc: 0.5046\n",
      "Epoch 35/100\n",
      "10000/10000 [==============================] - 2s 247us/step - loss: 0.2678 - acc: 0.5104\n",
      "Epoch 36/100\n",
      "10000/10000 [==============================] - 3s 286us/step - loss: 0.2634 - acc: 0.4923\n",
      "Epoch 37/100\n",
      "10000/10000 [==============================] - 3s 259us/step - loss: 0.2625 - acc: 0.4932\n",
      "Epoch 38/100\n",
      "10000/10000 [==============================] - 2s 220us/step - loss: 0.2665 - acc: 0.4942\n",
      "Epoch 39/100\n",
      "10000/10000 [==============================] - 3s 270us/step - loss: 0.2625 - acc: 0.4944\n",
      "Epoch 40/100\n",
      "10000/10000 [==============================] - 2s 240us/step - loss: 0.2620 - acc: 0.4979\n",
      "Epoch 41/100\n",
      "10000/10000 [==============================] - 2s 240us/step - loss: 0.2613 - acc: 0.4885\n",
      "Epoch 42/100\n",
      "10000/10000 [==============================] - 3s 267us/step - loss: 0.2621 - acc: 0.4902\n",
      "Epoch 43/100\n",
      "10000/10000 [==============================] - 3s 266us/step - loss: 0.2590 - acc: 0.4814\n",
      "Epoch 44/100\n",
      "10000/10000 [==============================] - 3s 274us/step - loss: 0.2606 - acc: 0.4862\n",
      "Epoch 45/100\n",
      "10000/10000 [==============================] - 3s 273us/step - loss: 0.2571 - acc: 0.4791\n",
      "Epoch 46/100\n",
      "10000/10000 [==============================] - 2s 224us/step - loss: 0.2563 - acc: 0.4723\n",
      "Epoch 47/100\n",
      "10000/10000 [==============================] - 3s 272us/step - loss: 0.2539 - acc: 0.4639\n",
      "Epoch 48/100\n",
      "10000/10000 [==============================] - 3s 269us/step - loss: 0.2535 - acc: 0.4593\n",
      "Epoch 49/100\n",
      "10000/10000 [==============================] - 2s 223us/step - loss: 0.2527 - acc: 0.4570\n",
      "Epoch 50/100\n",
      "10000/10000 [==============================] - 3s 271us/step - loss: 0.2512 - acc: 0.4478\n",
      "Epoch 51/100\n",
      "10000/10000 [==============================] - 3s 272us/step - loss: 0.2477 - acc: 0.4492\n",
      "Epoch 52/100\n",
      "10000/10000 [==============================] - 2s 221us/step - loss: 0.2453 - acc: 0.4360\n",
      "Epoch 53/100\n",
      "10000/10000 [==============================] - 3s 259us/step - loss: 0.4221 - acc: 0.4399\n",
      "Epoch 54/100\n",
      "10000/10000 [==============================] - 2s 225us/step - loss: 0.2506 - acc: 0.4458\n",
      "Epoch 55/100\n",
      "10000/10000 [==============================] - 2s 247us/step - loss: 0.2474 - acc: 0.4411\n",
      "Epoch 56/100\n",
      "10000/10000 [==============================] - 2s 246us/step - loss: 0.2462 - acc: 0.4391\n",
      "Epoch 57/100\n",
      "10000/10000 [==============================] - 2s 217us/step - loss: 0.2430 - acc: 0.4271\n",
      "Epoch 58/100\n",
      "10000/10000 [==============================] - 3s 251us/step - loss: 0.2397 - acc: 0.4155\n",
      "Epoch 59/100\n",
      "10000/10000 [==============================] - 2s 223us/step - loss: 0.2391 - acc: 0.4160\n",
      "Epoch 60/100\n",
      "10000/10000 [==============================] - 2s 243us/step - loss: 0.2399 - acc: 0.4158\n",
      "Epoch 61/100\n",
      "10000/10000 [==============================] - 2s 219us/step - loss: 0.2405 - acc: 0.4143\n",
      "Epoch 62/100\n",
      "10000/10000 [==============================] - 2s 247us/step - loss: 0.2351 - acc: 0.3994\n",
      "Epoch 63/100\n",
      "10000/10000 [==============================] - 2s 249us/step - loss: 0.2351 - acc: 0.4025\n",
      "Epoch 64/100\n",
      "10000/10000 [==============================] - 2s 214us/step - loss: 0.2343 - acc: 0.4026\n",
      "Epoch 65/100\n",
      "10000/10000 [==============================] - 2s 247us/step - loss: 0.2333 - acc: 0.3893\n",
      "Epoch 66/100\n",
      "10000/10000 [==============================] - 2s 225us/step - loss: 0.2324 - acc: 0.3878\n",
      "Epoch 67/100\n",
      "10000/10000 [==============================] - 2s 250us/step - loss: 0.2326 - acc: 0.3876\n",
      "Epoch 68/100\n",
      "10000/10000 [==============================] - 3s 281us/step - loss: 0.2276 - acc: 0.3778\n",
      "Epoch 69/100\n",
      "10000/10000 [==============================] - 2s 214us/step - loss: 0.2230 - acc: 0.3715\n",
      "Epoch 70/100\n",
      "10000/10000 [==============================] - 2s 246us/step - loss: 0.2222 - acc: 0.3572\n",
      "Epoch 71/100\n",
      "10000/10000 [==============================] - 2s 226us/step - loss: 0.2233 - acc: 0.3601\n",
      "Epoch 72/100\n",
      "10000/10000 [==============================] - 2s 235us/step - loss: 0.2200 - acc: 0.3514\n",
      "Epoch 73/100\n",
      "10000/10000 [==============================] - 2s 249us/step - loss: 0.2193 - acc: 0.3561\n",
      "Epoch 74/100\n",
      "10000/10000 [==============================] - 2s 213us/step - loss: 0.2310 - acc: 0.3669\n",
      "Epoch 75/100\n",
      "10000/10000 [==============================] - 3s 256us/step - loss: 0.2201 - acc: 0.3554\n",
      "Epoch 76/100\n",
      "10000/10000 [==============================] - 2s 211us/step - loss: 0.2180 - acc: 0.3508\n",
      "Epoch 77/100\n",
      "10000/10000 [==============================] - 2s 249us/step - loss: 0.2166 - acc: 0.3444\n",
      "Epoch 78/100\n",
      "10000/10000 [==============================] - 3s 346us/step - loss: 0.2137 - acc: 0.3328\n",
      "Epoch 79/100\n",
      "10000/10000 [==============================] - 2s 243us/step - loss: 0.2110 - acc: 0.3334\n",
      "Epoch 80/100\n",
      "10000/10000 [==============================] - 2s 202us/step - loss: 0.2108 - acc: 0.3254\n",
      "Epoch 81/100\n",
      "10000/10000 [==============================] - 2s 221us/step - loss: 0.2065 - acc: 0.3228\n",
      "Epoch 82/100\n",
      "10000/10000 [==============================] - 2s 199us/step - loss: 0.2152 - acc: 0.3279\n",
      "Epoch 83/100\n",
      "10000/10000 [==============================] - 2s 224us/step - loss: 0.2099 - acc: 0.3252\n",
      "Epoch 84/100\n",
      "10000/10000 [==============================] - 2s 202us/step - loss: 0.2027 - acc: 0.3101\n",
      "Epoch 85/100\n",
      "10000/10000 [==============================] - 2s 224us/step - loss: 0.2010 - acc: 0.3048\n",
      "Epoch 86/100\n",
      "10000/10000 [==============================] - 2s 197us/step - loss: 0.2017 - acc: 0.3091\n",
      "Epoch 87/100\n",
      "10000/10000 [==============================] - 2s 227us/step - loss: 0.1964 - acc: 0.2949\n",
      "Epoch 88/100\n",
      "10000/10000 [==============================] - 2s 196us/step - loss: 0.1911 - acc: 0.2841\n",
      "Epoch 89/100\n",
      "10000/10000 [==============================] - 2s 233us/step - loss: 0.1925 - acc: 0.2855\n",
      "Epoch 90/100\n",
      "10000/10000 [==============================] - 2s 199us/step - loss: 0.1881 - acc: 0.2737\n",
      "Epoch 91/100\n",
      "10000/10000 [==============================] - 2s 223us/step - loss: 0.1899 - acc: 0.2811\n",
      "Epoch 92/100\n",
      "10000/10000 [==============================] - 2s 202us/step - loss: 0.1854 - acc: 0.2730\n",
      "Epoch 93/100\n",
      "10000/10000 [==============================] - 2s 224us/step - loss: 0.2132 - acc: 0.2845\n",
      "Epoch 94/100\n",
      "10000/10000 [==============================] - 2s 217us/step - loss: 0.1893 - acc: 0.2783\n",
      "Epoch 95/100\n",
      "10000/10000 [==============================] - 2s 215us/step - loss: 0.1869 - acc: 0.2703\n",
      "Epoch 96/100\n",
      "10000/10000 [==============================] - 2s 225us/step - loss: 0.1811 - acc: 0.2657\n",
      "Epoch 97/100\n",
      "10000/10000 [==============================] - 2s 198us/step - loss: 0.1759 - acc: 0.2547\n",
      "Epoch 98/100\n",
      "10000/10000 [==============================] - 2s 227us/step - loss: 0.1766 - acc: 0.2498\n",
      "Epoch 99/100\n",
      "10000/10000 [==============================] - 2s 197us/step - loss: 0.1722 - acc: 0.2409\n",
      "Epoch 100/100\n",
      "10000/10000 [==============================] - 2s 231us/step - loss: 0.1706 - acc: 0.2384\n"
     ]
    },
    {
     "data": {
      "text/plain": [
       "<keras.callbacks.History at 0x11d571748>"
      ]
     },
     "execution_count": 20,
     "metadata": {},
     "output_type": "execute_result"
    }
   ],
   "source": [
    "model.fit([X[0],X[1]],y,epochs=100)"
   ]
  },
  {
   "cell_type": "code",
   "execution_count": 21,
   "metadata": {},
   "outputs": [
    {
     "data": {
      "text/plain": [
       "Counter({0.0: 5000, 1.0: 5000})"
      ]
     },
     "execution_count": 21,
     "metadata": {},
     "output_type": "execute_result"
    }
   ],
   "source": [
    "Counter(y)"
   ]
  },
  {
   "cell_type": "code",
   "execution_count": null,
   "metadata": {
    "collapsed": true
   },
   "outputs": [],
   "source": []
  }
 ],
 "metadata": {
  "kernelspec": {
   "display_name": "Python 3",
   "language": "python",
   "name": "python3"
  },
  "language_info": {
   "codemirror_mode": {
    "name": "ipython",
    "version": 3
   },
   "file_extension": ".py",
   "mimetype": "text/x-python",
   "name": "python",
   "nbconvert_exporter": "python",
   "pygments_lexer": "ipython3",
   "version": "3.6.8"
  }
 },
 "nbformat": 4,
 "nbformat_minor": 2
}
