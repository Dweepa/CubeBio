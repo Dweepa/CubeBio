{
 "cells": [
  {
   "cell_type": "code",
   "execution_count": 1,
   "metadata": {},
   "outputs": [
    {
     "name": "stderr",
     "output_type": "stream",
     "text": [
      "/Users/dweepa/anaconda/lib/python3.6/site-packages/h5py/__init__.py:34: FutureWarning: Conversion of the second argument of issubdtype from `float` to `np.floating` is deprecated. In future, it will be treated as `np.float64 == np.dtype(float).type`.\n",
      "  from ._conv import register_converters as _register_converters\n",
      "Using TensorFlow backend.\n"
     ]
    }
   ],
   "source": [
    "# Import necessary libraries\n",
    "import keras\n",
    "from keras.models import Sequential, Model\n",
    "from keras.layers import Dense, Activation, Dropout, Input\n",
    "from keras.layers.noise import AlphaDropout\n",
    "from keras.layers import Layer\n",
    "from tensorflow.python.keras import backend as K\n",
    "from sklearn.model_selection import train_test_split\n",
    "import pickle\n",
    "\n",
    "# Import custom modules\n",
    "from network import *\n",
    "from data import *"
   ]
  },
  {
   "cell_type": "code",
   "execution_count": 2,
   "metadata": {},
   "outputs": [],
   "source": [
    "dbfile = open('../../Data/full', 'rb')    \n",
    "data = pickle.load(dbfile)\n",
    "dbfile = open('../../Data/location_pert', 'rb')    \n",
    "location_pert = pickle.load(dbfile)\n",
    "dbfile = open('../../Data/pert2profiles', 'rb')    \n",
    "pert2profiles = pickle.load(dbfile)\n",
    "dbfile = open('../../Data/test_perts', 'rb')    \n",
    "test_pert = pickle.load(dbfile)\n",
    "dbfile = open('../../Data/train_perts', 'rb')    \n",
    "train_pert = pickle.load(dbfile)\n",
    "dbfile.close()"
   ]
  },
  {
   "cell_type": "code",
   "execution_count": 3,
   "metadata": {},
   "outputs": [
    {
     "name": "stdout",
     "output_type": "stream",
     "text": [
      "batch_size:  420\n",
      "420/420"
     ]
    }
   ],
   "source": [
    "X_train = generate_data(data,train_pert[0:10],42)"
   ]
  },
  {
   "cell_type": "code",
   "execution_count": 4,
   "metadata": {},
   "outputs": [
    {
     "name": "stdout",
     "output_type": "stream",
     "text": [
      "batch_size:  420\n",
      "420/420"
     ]
    }
   ],
   "source": [
    "X_test = generate_data(data,test_pert[0:10],42)"
   ]
  },
  {
   "cell_type": "markdown",
   "metadata": {},
   "source": [
    "# Network"
   ]
  },
  {
   "cell_type": "code",
   "execution_count": 13,
   "metadata": {
    "collapsed": true
   },
   "outputs": [],
   "source": [
    "# Create the base network\n",
    "network = dict(n_dense=5, dense_units=16, activation='selu', dropout=AlphaDropout, dropout_rate=0.1,\n",
    "               kernel_initializer='lecun_normal', optimizer='sgd', num_classes=2)\n",
    "\n",
    "shared_model = create_base_network(**network)"
   ]
  },
  {
   "cell_type": "code",
   "execution_count": 14,
   "metadata": {},
   "outputs": [
    {
     "name": "stdout",
     "output_type": "stream",
     "text": [
      "y_pred.shape =  Tensor(\"merged_layer_1/concat:0\", shape=(?, 48), dtype=float32)\n",
      "Siamese network model summary\n",
      "__________________________________________________________________________________________________\n",
      "Layer (type)                    Output Shape         Param #     Connected to                     \n",
      "==================================================================================================\n",
      "anchor_input (InputLayer)       (None, 978)          0                                            \n",
      "__________________________________________________________________________________________________\n",
      "positive_input (InputLayer)     (None, 978)          0                                            \n",
      "__________________________________________________________________________________________________\n",
      "negative_input (InputLayer)     (None, 978)          0                                            \n",
      "__________________________________________________________________________________________________\n",
      "sequential_2 (Sequential)       (None, 16)           16752       anchor_input[0][0]               \n",
      "                                                                 positive_input[0][0]             \n",
      "                                                                 negative_input[0][0]             \n",
      "__________________________________________________________________________________________________\n",
      "merged_layer (Concatenate)      (None, 48)           0           sequential_2[1][0]               \n",
      "                                                                 sequential_2[2][0]               \n",
      "                                                                 sequential_2[3][0]               \n",
      "==================================================================================================\n",
      "Total params: 16,752\n",
      "Trainable params: 16,752\n",
      "Non-trainable params: 0\n",
      "__________________________________________________________________________________________________\n"
     ]
    }
   ],
   "source": [
    "# Create the siamese network\n",
    "model = create_siamese_network(shared_model)\n",
    "print(\"Siamese network model summary\")\n",
    "model.summary()"
   ]
  },
  {
   "cell_type": "code",
   "execution_count": 30,
   "metadata": {},
   "outputs": [
    {
     "name": "stdout",
     "output_type": "stream",
     "text": [
      "Epoch 1/100\n",
      "420/420 [==============================] - 1s 3ms/step - loss: 6.1394\n",
      "Epoch 2/100\n",
      "420/420 [==============================] - 0s 181us/step - loss: 5.3144\n",
      "Epoch 3/100\n",
      "420/420 [==============================] - 0s 182us/step - loss: 5.3077\n",
      "Epoch 4/100\n",
      "420/420 [==============================] - 0s 201us/step - loss: 4.3335\n",
      "Epoch 5/100\n",
      "420/420 [==============================] - 0s 205us/step - loss: 4.6981\n",
      "Epoch 6/100\n",
      "420/420 [==============================] - 0s 200us/step - loss: 4.0506\n",
      "Epoch 7/100\n",
      "420/420 [==============================] - 0s 206us/step - loss: 3.3781\n",
      "Epoch 8/100\n",
      "420/420 [==============================] - 0s 177us/step - loss: 3.2525\n",
      "Epoch 9/100\n",
      "420/420 [==============================] - 0s 190us/step - loss: 2.6984\n",
      "Epoch 10/100\n",
      "420/420 [==============================] - 0s 183us/step - loss: 3.0895\n",
      "Epoch 11/100\n",
      "420/420 [==============================] - 0s 192us/step - loss: 3.3869\n",
      "Epoch 12/100\n",
      "420/420 [==============================] - 0s 189us/step - loss: 2.5890\n",
      "Epoch 13/100\n",
      "420/420 [==============================] - 0s 190us/step - loss: 2.7898\n",
      "Epoch 14/100\n",
      "420/420 [==============================] - 0s 177us/step - loss: 2.4761\n",
      "Epoch 15/100\n",
      "420/420 [==============================] - 0s 184us/step - loss: 2.4698\n",
      "Epoch 16/100\n",
      "420/420 [==============================] - 0s 187us/step - loss: 1.8509\n",
      "Epoch 17/100\n",
      "420/420 [==============================] - 0s 190us/step - loss: 2.1430\n",
      "Epoch 18/100\n",
      "420/420 [==============================] - 0s 182us/step - loss: 2.1106\n",
      "Epoch 19/100\n",
      "420/420 [==============================] - 0s 183us/step - loss: 1.7428\n",
      "Epoch 20/100\n",
      "420/420 [==============================] - 0s 188us/step - loss: 1.8319\n",
      "Epoch 21/100\n",
      "420/420 [==============================] - 0s 189us/step - loss: 1.6469\n",
      "Epoch 22/100\n",
      "420/420 [==============================] - 0s 185us/step - loss: 1.5897\n",
      "Epoch 23/100\n",
      "420/420 [==============================] - 0s 188us/step - loss: 1.5167\n",
      "Epoch 24/100\n",
      "420/420 [==============================] - ETA: 0s - loss: 1.110 - 0s 741us/step - loss: 1.0994\n",
      "Epoch 25/100\n",
      "420/420 [==============================] - 0s 314us/step - loss: 1.1045\n",
      "Epoch 26/100\n",
      "420/420 [==============================] - 0s 181us/step - loss: 1.2658\n",
      "Epoch 27/100\n",
      "420/420 [==============================] - 0s 179us/step - loss: 0.9767\n",
      "Epoch 28/100\n",
      "420/420 [==============================] - 0s 191us/step - loss: 1.0719\n",
      "Epoch 29/100\n",
      "420/420 [==============================] - 0s 196us/step - loss: 1.2075\n",
      "Epoch 30/100\n",
      "420/420 [==============================] - 0s 192us/step - loss: 0.8586\n",
      "Epoch 31/100\n",
      "420/420 [==============================] - 0s 510us/step - loss: 0.9352\n",
      "Epoch 32/100\n",
      "420/420 [==============================] - 0s 208us/step - loss: 0.8483\n",
      "Epoch 33/100\n",
      "420/420 [==============================] - 0s 199us/step - loss: 0.9985\n",
      "Epoch 34/100\n",
      "420/420 [==============================] - 0s 213us/step - loss: 0.7307\n",
      "Epoch 35/100\n",
      "420/420 [==============================] - 0s 196us/step - loss: 0.7082\n",
      "Epoch 36/100\n",
      "420/420 [==============================] - 0s 223us/step - loss: 0.5976\n",
      "Epoch 37/100\n",
      "420/420 [==============================] - 0s 197us/step - loss: 0.5985\n",
      "Epoch 38/100\n",
      "420/420 [==============================] - 0s 193us/step - loss: 0.6265\n",
      "Epoch 39/100\n",
      "420/420 [==============================] - 0s 213us/step - loss: 0.6395\n",
      "Epoch 40/100\n",
      "420/420 [==============================] - 0s 238us/step - loss: 0.5390\n",
      "Epoch 41/100\n",
      "420/420 [==============================] - 0s 237us/step - loss: 0.6562\n",
      "Epoch 42/100\n",
      "420/420 [==============================] - 0s 259us/step - loss: 0.6941\n",
      "Epoch 43/100\n",
      "420/420 [==============================] - 0s 226us/step - loss: 0.5613\n",
      "Epoch 44/100\n",
      "420/420 [==============================] - 0s 225us/step - loss: 0.5859\n",
      "Epoch 45/100\n",
      "420/420 [==============================] - 0s 198us/step - loss: 0.4308\n",
      "Epoch 46/100\n",
      "420/420 [==============================] - 0s 201us/step - loss: 0.5147\n",
      "Epoch 47/100\n",
      "420/420 [==============================] - 0s 203us/step - loss: 0.4617\n",
      "Epoch 48/100\n",
      "420/420 [==============================] - 0s 222us/step - loss: 0.5304\n",
      "Epoch 49/100\n",
      "420/420 [==============================] - 0s 198us/step - loss: 0.4275\n",
      "Epoch 50/100\n",
      "420/420 [==============================] - 0s 224us/step - loss: 0.4650\n",
      "Epoch 51/100\n",
      "420/420 [==============================] - 0s 201us/step - loss: 0.4489\n",
      "Epoch 52/100\n",
      "420/420 [==============================] - 0s 202us/step - loss: 0.4885\n",
      "Epoch 53/100\n",
      "420/420 [==============================] - 0s 764us/step - loss: 0.3569\n",
      "Epoch 54/100\n",
      "420/420 [==============================] - 0s 368us/step - loss: 0.4221\n",
      "Epoch 55/100\n",
      "420/420 [==============================] - 0s 180us/step - loss: 0.3703\n",
      "Epoch 56/100\n",
      "420/420 [==============================] - 0s 542us/step - loss: 0.3874\n",
      "Epoch 57/100\n",
      "420/420 [==============================] - 0s 719us/step - loss: 0.2775\n",
      "Epoch 58/100\n",
      "420/420 [==============================] - 0s 195us/step - loss: 0.2944\n",
      "Epoch 59/100\n",
      "420/420 [==============================] - 0s 188us/step - loss: 0.2324\n",
      "Epoch 60/100\n",
      "420/420 [==============================] - 0s 195us/step - loss: 0.2183\n",
      "Epoch 61/100\n",
      "420/420 [==============================] - 0s 196us/step - loss: 0.2233\n",
      "Epoch 62/100\n",
      "420/420 [==============================] - 0s 212us/step - loss: 0.3367\n",
      "Epoch 63/100\n",
      "420/420 [==============================] - 0s 248us/step - loss: 0.3694\n",
      "Epoch 64/100\n",
      "420/420 [==============================] - 0s 221us/step - loss: 0.2856\n",
      "Epoch 65/100\n",
      "420/420 [==============================] - 0s 229us/step - loss: 0.3662\n",
      "Epoch 66/100\n",
      "420/420 [==============================] - 0s 216us/step - loss: 0.3276\n",
      "Epoch 67/100\n",
      "420/420 [==============================] - 0s 222us/step - loss: 0.1445\n",
      "Epoch 68/100\n",
      "420/420 [==============================] - 0s 233us/step - loss: 0.1823\n",
      "Epoch 69/100\n",
      "420/420 [==============================] - 0s 239us/step - loss: 0.1166\n",
      "Epoch 70/100\n",
      "420/420 [==============================] - 0s 215us/step - loss: 0.2664\n",
      "Epoch 71/100\n",
      "420/420 [==============================] - 0s 444us/step - loss: 0.2285\n",
      "Epoch 72/100\n",
      "420/420 [==============================] - ETA: 0s - loss: 0.1990- ETA: 0s - loss: 0.18 - 0s 633us/step - loss: 0.1820\n",
      "Epoch 73/100\n",
      "420/420 [==============================] - 0s 494us/step - loss: 0.2398\n",
      "Epoch 74/100\n",
      "420/420 [==============================] - 0s 415us/step - loss: 0.2319\n",
      "Epoch 75/100\n",
      "420/420 [==============================] - 0s 356us/step - loss: 0.1697\n",
      "Epoch 76/100\n",
      "420/420 [==============================] - 0s 256us/step - loss: 0.1770\n",
      "Epoch 77/100\n",
      "420/420 [==============================] - 0s 205us/step - loss: 0.1855\n",
      "Epoch 78/100\n",
      "420/420 [==============================] - 0s 218us/step - loss: 0.1723\n",
      "Epoch 79/100\n",
      "420/420 [==============================] - 0s 198us/step - loss: 0.0927\n",
      "Epoch 80/100\n",
      "420/420 [==============================] - 0s 557us/step - loss: 0.1756\n",
      "Epoch 81/100\n",
      "420/420 [==============================] - 0s 632us/step - loss: 0.1150\n",
      "Epoch 82/100\n",
      "420/420 [==============================] - 0s 611us/step - loss: 0.2293\n",
      "Epoch 83/100\n",
      "420/420 [==============================] - 0s 372us/step - loss: 0.1836\n",
      "Epoch 84/100\n",
      "420/420 [==============================] - 0s 250us/step - loss: 0.0746\n",
      "Epoch 85/100\n",
      "420/420 [==============================] - 0s 197us/step - loss: 0.1116\n",
      "Epoch 86/100\n",
      "420/420 [==============================] - 0s 190us/step - loss: 0.1794\n",
      "Epoch 87/100\n",
      "420/420 [==============================] - 0s 223us/step - loss: 0.1668\n",
      "Epoch 88/100\n",
      "420/420 [==============================] - 0s 222us/step - loss: 0.1276\n",
      "Epoch 89/100\n",
      "420/420 [==============================] - 0s 327us/step - loss: 0.1984\n",
      "Epoch 90/100\n",
      "420/420 [==============================] - 0s 305us/step - loss: 0.2292\n",
      "Epoch 91/100\n",
      "420/420 [==============================] - 0s 324us/step - loss: 0.0947\n",
      "Epoch 92/100\n",
      "420/420 [==============================] - 0s 871us/step - loss: 0.0617\n",
      "Epoch 93/100\n",
      "420/420 [==============================] - 0s 913us/step - loss: 0.1372\n",
      "Epoch 94/100\n",
      "420/420 [==============================] - 0s 233us/step - loss: 0.2130\n",
      "Epoch 95/100\n",
      "420/420 [==============================] - 0s 271us/step - loss: 0.1225\n",
      "Epoch 96/100\n"
     ]
    },
    {
     "name": "stdout",
     "output_type": "stream",
     "text": [
      "420/420 [==============================] - 0s 211us/step - loss: 0.0738\n",
      "Epoch 97/100\n",
      "420/420 [==============================] - 0s 177us/step - loss: 0.1685\n",
      "Epoch 98/100\n",
      "420/420 [==============================] - 0s 174us/step - loss: 0.1640\n",
      "Epoch 99/100\n",
      "420/420 [==============================] - 0s 174us/step - loss: 0.1201\n",
      "Epoch 100/100\n",
      "420/420 [==============================] - 0s 360us/step - loss: 0.0576\n"
     ]
    },
    {
     "data": {
      "text/plain": [
       "<keras.callbacks.History at 0x1a29efcd68>"
      ]
     },
     "execution_count": 30,
     "metadata": {},
     "output_type": "execute_result"
    }
   ],
   "source": [
    "y_dum = np.zeros((len(X_train[0]),1))\n",
    "model.fit([X_train[0],X_train[1],X_train[2]],y_dum,epochs=100)"
   ]
  },
  {
   "cell_type": "code",
   "execution_count": 31,
   "metadata": {},
   "outputs": [
    {
     "data": {
      "text/plain": [
       "(420, 48)"
      ]
     },
     "execution_count": 31,
     "metadata": {},
     "output_type": "execute_result"
    }
   ],
   "source": [
    "pred1 = model.predict([X_test[0],X_test[1],X_test[2]])\n",
    "pred1.shape"
   ]
  },
  {
   "cell_type": "code",
   "execution_count": 32,
   "metadata": {},
   "outputs": [
    {
     "data": {
      "text/plain": [
       "(420, 48)"
      ]
     },
     "execution_count": 32,
     "metadata": {},
     "output_type": "execute_result"
    }
   ],
   "source": [
    "pred = model.predict([X_train[0],X_train[1],X_train[2]])\n",
    "pred.shape"
   ]
  },
  {
   "cell_type": "code",
   "execution_count": 33,
   "metadata": {},
   "outputs": [],
   "source": [
    "from sklearn.preprocessing import normalize\n",
    "anch = normalize(pred[0][0:16].reshape(1,-1)).flatten()\n",
    "pos = normalize(pred[0][16:32].reshape(1,-1)).flatten()\n",
    "neg = normalize(pred[0][32:].reshape(1,-1)).flatten()"
   ]
  },
  {
   "cell_type": "code",
   "execution_count": 34,
   "metadata": {
    "collapsed": true
   },
   "outputs": [],
   "source": [
    "def softmax_function(x):\n",
    "    e_x = np.exp(x - np.max(x))\n",
    "    return e_x / e_x.sum()"
   ]
  },
  {
   "cell_type": "code",
   "execution_count": 36,
   "metadata": {},
   "outputs": [
    {
     "name": "stdout",
     "output_type": "stream",
     "text": [
      "0.5595238095238095\n"
     ]
    }
   ],
   "source": [
    "values = []\n",
    "for i in pred1:\n",
    "    anch = normalize(i[0:16].reshape(1,-1)).flatten()\n",
    "    pos = normalize(i[16:32].reshape(1,-1)).flatten()\n",
    "    neg = normalize(i[32:].reshape(1,-1)).flatten()\n",
    "    pos_neg_val = softmax_function([[np.abs(np.dot(anch,pos)), np.abs(np.dot(anch,neg))]]).flatten()\n",
    "    \n",
    "    #print(pos_neg_val)\n",
    "    values.append(pos_neg_val[0]>=0.5)\n",
    "    values.append(pos_neg_val[1]<0.5)\n",
    "# print(positives, negatives)\n",
    "#     print(pos_val, neg_val, pos_val>neg_val)\n",
    "print((np.sum(np.asarray(values)==True))/len(values))"
   ]
  },
  {
   "cell_type": "code",
   "execution_count": 21,
   "metadata": {},
   "outputs": [
    {
     "data": {
      "text/plain": [
       "0.5174793"
      ]
     },
     "execution_count": 21,
     "metadata": {},
     "output_type": "execute_result"
    }
   ],
   "source": [
    "np.dot(anch,pos)"
   ]
  },
  {
   "cell_type": "code",
   "execution_count": 39,
   "metadata": {
    "collapsed": true
   },
   "outputs": [],
   "source": [
    "import pickle\n",
    "dbfile = open('../../Data/X_train_triplet', 'ab')\n",
    "pickle.dump(X_train, dbfile)\n",
    "dbfile.close()"
   ]
  },
  {
   "cell_type": "code",
   "execution_count": 38,
   "metadata": {
    "collapsed": true
   },
   "outputs": [],
   "source": [
    "import pickle\n",
    "dbfile = open('../../Data/X_test_triplet', 'ab')\n",
    "pickle.dump(X_test, dbfile)\n",
    "dbfile.close()"
   ]
  },
  {
   "cell_type": "code",
   "execution_count": null,
   "metadata": {
    "collapsed": true
   },
   "outputs": [],
   "source": []
  }
 ],
 "metadata": {
  "kernelspec": {
   "display_name": "Python 3",
   "language": "python",
   "name": "python3"
  },
  "language_info": {
   "codemirror_mode": {
    "name": "ipython",
    "version": 3
   },
   "file_extension": ".py",
   "mimetype": "text/x-python",
   "name": "python",
   "nbconvert_exporter": "python",
   "pygments_lexer": "ipython3",
   "version": "3.6.8"
  }
 },
 "nbformat": 4,
 "nbformat_minor": 2
}
