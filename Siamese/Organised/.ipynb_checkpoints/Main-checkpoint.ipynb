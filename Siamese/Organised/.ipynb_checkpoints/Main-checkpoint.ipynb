{
 "cells": [
  {
   "cell_type": "code",
   "execution_count": 1,
   "metadata": {},
   "outputs": [
    {
     "name": "stderr",
     "output_type": "stream",
     "text": [
      "/Users/dweepa/anaconda/lib/python3.6/site-packages/h5py/__init__.py:34: FutureWarning: Conversion of the second argument of issubdtype from `float` to `np.floating` is deprecated. In future, it will be treated as `np.float64 == np.dtype(float).type`.\n",
      "  from ._conv import register_converters as _register_converters\n",
      "Using TensorFlow backend.\n"
     ]
    }
   ],
   "source": [
    "# Import necessary libraries\n",
    "import keras\n",
    "from keras.models import Sequential, Model\n",
    "from keras.layers import Dense, Activation, Dropout, Input\n",
    "from keras.layers.noise import AlphaDropout\n",
    "from keras.layers import Layer\n",
    "from tensorflow.python.keras import backend as K\n",
    "from sklearn.model_selection import train_test_split\n",
    "\n",
    "# Import custom modules\n",
    "from network import *\n",
    "from data import *"
   ]
  },
  {
   "cell_type": "code",
   "execution_count": 2,
   "metadata": {},
   "outputs": [
    {
     "name": "stdout",
     "output_type": "stream",
     "text": [
      "Shared model summary\n",
      "_________________________________________________________________\n",
      "Layer (type)                 Output Shape              Param #   \n",
      "=================================================================\n",
      "dense_1 (Dense)              (None, 16)                15664     \n",
      "_________________________________________________________________\n",
      "leaky_re_lu_1 (LeakyReLU)    (None, 16)                0         \n",
      "_________________________________________________________________\n",
      "alpha_dropout_1 (AlphaDropou (None, 16)                0         \n",
      "_________________________________________________________________\n",
      "dense_2 (Dense)              (None, 16)                272       \n",
      "_________________________________________________________________\n",
      "leaky_re_lu_2 (LeakyReLU)    (None, 16)                0         \n",
      "_________________________________________________________________\n",
      "alpha_dropout_2 (AlphaDropou (None, 16)                0         \n",
      "_________________________________________________________________\n",
      "dense_3 (Dense)              (None, 16)                272       \n",
      "_________________________________________________________________\n",
      "leaky_re_lu_3 (LeakyReLU)    (None, 16)                0         \n",
      "_________________________________________________________________\n",
      "alpha_dropout_3 (AlphaDropou (None, 16)                0         \n",
      "_________________________________________________________________\n",
      "dense_4 (Dense)              (None, 16)                272       \n",
      "_________________________________________________________________\n",
      "leaky_re_lu_4 (LeakyReLU)    (None, 16)                0         \n",
      "_________________________________________________________________\n",
      "alpha_dropout_4 (AlphaDropou (None, 16)                0         \n",
      "_________________________________________________________________\n",
      "dense_5 (Dense)              (None, 16)                272       \n",
      "_________________________________________________________________\n",
      "leaky_re_lu_5 (LeakyReLU)    (None, 16)                0         \n",
      "_________________________________________________________________\n",
      "alpha_dropout_5 (AlphaDropou (None, 16)                0         \n",
      "_________________________________________________________________\n",
      "dense_6 (Dense)              (None, 16)                272       \n",
      "_________________________________________________________________\n",
      "leaky_re_lu_6 (LeakyReLU)    (None, 16)                0         \n",
      "_________________________________________________________________\n",
      "alpha_dropout_6 (AlphaDropou (None, 16)                0         \n",
      "_________________________________________________________________\n",
      "dense_7 (Dense)              (None, 16)                272       \n",
      "_________________________________________________________________\n",
      "leaky_re_lu_7 (LeakyReLU)    (None, 16)                0         \n",
      "_________________________________________________________________\n",
      "alpha_dropout_7 (AlphaDropou (None, 16)                0         \n",
      "_________________________________________________________________\n",
      "dense_8 (Dense)              (None, 16)                272       \n",
      "_________________________________________________________________\n",
      "leaky_re_lu_8 (LeakyReLU)    (None, 16)                0         \n",
      "_________________________________________________________________\n",
      "alpha_dropout_8 (AlphaDropou (None, 16)                0         \n",
      "_________________________________________________________________\n",
      "dense_9 (Dense)              (None, 16)                272       \n",
      "_________________________________________________________________\n",
      "leaky_re_lu_9 (LeakyReLU)    (None, 16)                0         \n",
      "_________________________________________________________________\n",
      "alpha_dropout_9 (AlphaDropou (None, 16)                0         \n",
      "_________________________________________________________________\n",
      "dense_10 (Dense)             (None, 16)                272       \n",
      "_________________________________________________________________\n",
      "activation_1 (Activation)    (None, 16)                0         \n",
      "_________________________________________________________________\n",
      "alpha_dropout_10 (AlphaDropo (None, 16)                0         \n",
      "=================================================================\n",
      "Total params: 18,112\n",
      "Trainable params: 18,112\n",
      "Non-trainable params: 0\n",
      "_________________________________________________________________\n"
     ]
    }
   ],
   "source": [
    "# Create the base network\n",
    "network = dict(n_dense=10, dense_units=16, activation='leaky', dropout=AlphaDropout, dropout_rate=0.1,\n",
    "               kernel_initializer='lecun_normal', optimizer='sgd', num_classes=2)\n",
    "\n",
    "shared_model = create_base_network(**network)\n",
    "\n",
    "print(\"Shared model summary\")\n",
    "shared_model.summary()"
   ]
  },
  {
   "cell_type": "code",
   "execution_count": 3,
   "metadata": {},
   "outputs": [
    {
     "name": "stdout",
     "output_type": "stream",
     "text": [
      "Siamese network model summary\n",
      "__________________________________________________________________________________________________\n",
      "Layer (type)                    Output Shape         Param #     Connected to                     \n",
      "==================================================================================================\n",
      "input_1 (InputLayer)            (None, 978)          0                                            \n",
      "__________________________________________________________________________________________________\n",
      "input_2 (InputLayer)            (None, 978)          0                                            \n",
      "__________________________________________________________________________________________________\n",
      "sequential_1 (Sequential)       (None, 16)           18112       input_1[0][0]                    \n",
      "                                                                 input_2[0][0]                    \n",
      "__________________________________________________________________________________________________\n",
      "man_dist_1 (ManDist)            (None, 1)            0           sequential_1[1][0]               \n",
      "                                                                 sequential_1[2][0]               \n",
      "==================================================================================================\n",
      "Total params: 18,112\n",
      "Trainable params: 18,112\n",
      "Non-trainable params: 0\n",
      "__________________________________________________________________________________________________\n"
     ]
    }
   ],
   "source": [
    "# Create the siamese network\n",
    "model = create_siamese_network(shared_model)\n",
    "print(\"Siamese network model summary\")\n",
    "model.summary()"
   ]
  },
  {
   "cell_type": "code",
   "execution_count": 4,
   "metadata": {},
   "outputs": [],
   "source": [
    "import pickle\n",
    "dbfile = open('../../Data/X_train', 'rb')      \n",
    "X_train = pickle.load(dbfile)\n",
    "dbfile = open('../../Data/y_train', 'rb')      \n",
    "y_train = pickle.load(dbfile)\n",
    "dbfile = open('../../Data/X_test', 'rb')      \n",
    "X_test = pickle.load(dbfile)\n",
    "dbfile = open('../../Data/y_test', 'rb')      \n",
    "y_test = pickle.load(dbfile)"
   ]
  },
  {
   "cell_type": "code",
   "execution_count": 5,
   "metadata": {},
   "outputs": [
    {
     "name": "stdout",
     "output_type": "stream",
     "text": [
      "Epoch 1/30\n",
      "6944/6944 [==============================] - 3s 372us/step - loss: 71.3301 - acc: 0.0000e+00\n",
      "Epoch 2/30\n",
      "6944/6944 [==============================] - 1s 168us/step - loss: 9.0909 - acc: 0.3312\n",
      "Epoch 3/30\n",
      "6944/6944 [==============================] - 1s 166us/step - loss: 0.8260 - acc: 0.4912\n",
      "Epoch 4/30\n",
      "6944/6944 [==============================] - 1s 168us/step - loss: 0.6211 - acc: 0.4942\n",
      "Epoch 5/30\n",
      "6944/6944 [==============================] - 1s 167us/step - loss: 0.6504 - acc: 0.4935\n",
      "Epoch 6/30\n",
      "6944/6944 [==============================] - 1s 167us/step - loss: 0.6042 - acc: 0.4955\n",
      "Epoch 7/30\n",
      "6944/6944 [==============================] - 1s 167us/step - loss: 0.5724 - acc: 0.4935\n",
      "Epoch 8/30\n",
      "6944/6944 [==============================] - 1s 168us/step - loss: 0.5748 - acc: 0.4963\n",
      "Epoch 9/30\n",
      "6944/6944 [==============================] - 1s 161us/step - loss: 0.5028 - acc: 0.4960\n",
      "Epoch 10/30\n",
      "6944/6944 [==============================] - 1s 166us/step - loss: 0.4887 - acc: 0.4937\n",
      "Epoch 11/30\n",
      "6944/6944 [==============================] - 1s 169us/step - loss: 0.5082 - acc: 0.4945\n",
      "Epoch 12/30\n",
      "6944/6944 [==============================] - 1s 203us/step - loss: 0.5166 - acc: 0.4941\n",
      "Epoch 13/30\n",
      "6944/6944 [==============================] - 1s 198us/step - loss: 0.4264 - acc: 0.4811\n",
      "Epoch 14/30\n",
      "6944/6944 [==============================] - 1s 179us/step - loss: 0.4033 - acc: 0.4819\n",
      "Epoch 15/30\n",
      "6944/6944 [==============================] - 1s 171us/step - loss: 0.3620 - acc: 0.4823\n",
      "Epoch 16/30\n",
      "6944/6944 [==============================] - 1s 175us/step - loss: 0.3255 - acc: 0.4735\n",
      "Epoch 17/30\n",
      "6944/6944 [==============================] - 1s 203us/step - loss: 0.3516 - acc: 0.4732\n",
      "Epoch 18/30\n",
      "6944/6944 [==============================] - 1s 194us/step - loss: 0.3526 - acc: 0.4879\n",
      "Epoch 19/30\n",
      "6944/6944 [==============================] - 1s 177us/step - loss: 0.3366 - acc: 0.4889\n",
      "Epoch 20/30\n",
      "6944/6944 [==============================] - 1s 166us/step - loss: 0.3635 - acc: 0.4761\n",
      "Epoch 21/30\n",
      "6944/6944 [==============================] - 1s 164us/step - loss: 0.3736 - acc: 0.4844\n",
      "Epoch 22/30\n",
      "6944/6944 [==============================] - 1s 185us/step - loss: 0.3378 - acc: 0.4716\n",
      "Epoch 23/30\n",
      "6944/6944 [==============================] - 1s 179us/step - loss: 0.3272 - acc: 0.4873\n",
      "Epoch 24/30\n",
      "6944/6944 [==============================] - 1s 176us/step - loss: 0.3285 - acc: 0.4788\n",
      "Epoch 25/30\n",
      "6944/6944 [==============================] - 1s 180us/step - loss: 0.3274 - acc: 0.4712\n",
      "Epoch 26/30\n",
      "6944/6944 [==============================] - 1s 174us/step - loss: 0.3394 - acc: 0.4772\n",
      "Epoch 27/30\n",
      "6944/6944 [==============================] - 1s 165us/step - loss: 0.3286 - acc: 0.4783\n",
      "Epoch 28/30\n",
      "6944/6944 [==============================] - 1s 174us/step - loss: 0.3771 - acc: 0.4770\n",
      "Epoch 29/30\n",
      "6944/6944 [==============================] - 2s 222us/step - loss: 0.3281 - acc: 0.4813\n",
      "Epoch 30/30\n",
      "6944/6944 [==============================] - 1s 191us/step - loss: 0.3264 - acc: 0.4774\n"
     ]
    },
    {
     "data": {
      "text/plain": [
       "<keras.callbacks.History at 0x1a3ec4ce48>"
      ]
     },
     "execution_count": 5,
     "metadata": {},
     "output_type": "execute_result"
    }
   ],
   "source": [
    "model.fit([X_train[0],X_train[1]],y_train, epochs=30)"
   ]
  },
  {
   "cell_type": "code",
   "execution_count": 6,
   "metadata": {},
   "outputs": [
    {
     "name": "stdout",
     "output_type": "stream",
     "text": [
      "1736/1736 [==============================] - 0s 215us/step\n"
     ]
    },
    {
     "data": {
      "text/plain": [
       "[0.45818083571948215, 0.5005760368663594]"
      ]
     },
     "execution_count": 6,
     "metadata": {},
     "output_type": "execute_result"
    }
   ],
   "source": [
    "model.evaluate([X_test[0],X_test[1]],y_test)"
   ]
  },
  {
   "cell_type": "code",
   "execution_count": 7,
   "metadata": {},
   "outputs": [
    {
     "name": "stdout",
     "output_type": "stream",
     "text": [
      "Counter({1.0: 868, 0.0: 868}) Counter({1.0: 3472, 0.0: 3472})\n"
     ]
    }
   ],
   "source": [
    "print(Counter(y_test),Counter(y_train))"
   ]
  },
  {
   "cell_type": "code",
   "execution_count": 8,
   "metadata": {},
   "outputs": [],
   "source": [
    "from keras.models import Model\n",
    "\n",
    "intermediate_layer_model = Model(inputs=model.input,\n",
    "                                 outputs=[model.get_layer(index=2).get_output_at(1),model.get_layer(index=2).get_output_at(2),model.get_layer(index=3).output])\n",
    "\n",
    "intermediate_output = intermediate_layer_model.predict([X_train[0][11:15],X_train[1][11:15]])"
   ]
  },
  {
   "cell_type": "code",
   "execution_count": 9,
   "metadata": {},
   "outputs": [
    {
     "data": {
      "text/plain": [
       "[array([[-1.7580993, -1.7580993, -1.7580993, -1.2956762, -1.7580993,\n",
       "         -1.7580993, -1.7580993, -1.7580993, -1.7580993, -1.7580993,\n",
       "         -1.7580993, -1.7580993, -1.7580993, -1.7580993, -1.7580993,\n",
       "         -1.7580993],\n",
       "        [-1.7580993, -1.7580993, -1.7580993, -1.7305937, -1.7580993,\n",
       "         -1.7580993, -1.7580993, -1.7580993, -1.7580993, -1.7580993,\n",
       "         -1.7580993, -1.7580993, -1.7580993, -1.7580993, -1.7580993,\n",
       "         -1.7580993],\n",
       "        [-1.7580993, -1.7580993, -1.7580993, -1.7124223, -1.7580993,\n",
       "         -1.7580993, -1.7580993, -1.7580993, -1.7580993, -1.7580993,\n",
       "         -1.7580993, -1.7580993, -1.7580993, -1.7580993, -1.7580993,\n",
       "         -1.7580993],\n",
       "        [-1.7580993, -1.7580993, -1.7580993, -1.7577636, -1.7580993,\n",
       "         -1.7580993, -1.7580993, -1.7580993, -1.7580993, -1.7580993,\n",
       "         -1.7580993, -1.7580993, -1.7580993, -1.7580993, -1.7580993,\n",
       "         -1.7580993]], dtype=float32),\n",
       " array([[-1.7580993, -1.7580993, -1.7580993, -1.7580869, -1.7580993,\n",
       "         -1.7580993, -1.7580993, -1.7580993, -1.7580993, -1.7580993,\n",
       "         -1.7580993, -1.7580993, -1.7580993, -1.7580993, -1.7580993,\n",
       "         -1.7580993],\n",
       "        [-1.7580993, -1.7580993, -1.7580993, -1.7220004, -1.7580993,\n",
       "         -1.7580993, -1.7580993, -1.7580993, -1.7580993, -1.7580993,\n",
       "         -1.7580993, -1.7580993, -1.7580993, -1.7580993, -1.7580993,\n",
       "         -1.7580993],\n",
       "        [-1.7580993, -1.7580993, -1.7580993, -1.7513481, -1.7580993,\n",
       "         -1.7580993, -1.7580993, -1.7580993, -1.7580993, -1.7580993,\n",
       "         -1.7580993, -1.7580993, -1.7580993, -1.7580993, -1.7580993,\n",
       "         -1.7580993],\n",
       "        [-1.7580993, -1.7580993, -1.7580993, -1.7509757, -1.7580993,\n",
       "         -1.7580993, -1.7580993, -1.7580993, -1.7580993, -1.7580993,\n",
       "         -1.7580993, -1.7580993, -1.7580993, -1.7580993, -1.7580993,\n",
       "         -1.7580993]], dtype=float32),\n",
       " array([[0.4624107 ],\n",
       "        [0.00859332],\n",
       "        [0.03892589],\n",
       "        [0.0067879 ]], dtype=float32)]"
      ]
     },
     "execution_count": 9,
     "metadata": {},
     "output_type": "execute_result"
    }
   ],
   "source": [
    "intermediate_output"
   ]
  },
  {
   "cell_type": "code",
   "execution_count": 10,
   "metadata": {},
   "outputs": [
    {
     "data": {
      "text/plain": [
       "(6944, 978)"
      ]
     },
     "execution_count": 10,
     "metadata": {},
     "output_type": "execute_result"
    }
   ],
   "source": [
    "X_train[0].shape"
   ]
  },
  {
   "cell_type": "code",
   "execution_count": 11,
   "metadata": {},
   "outputs": [
    {
     "data": {
      "text/plain": [
       "(array([-1.0255878 , -0.5268659 ,  0.93751162, -0.21547468,  0.56213748,\n",
       "         0.19349912,  0.4320128 ,  0.19859782,  0.49415439,  1.27129149]),\n",
       " array([10.        ,  7.40159988, -2.45020008,  5.91870022,  7.57660007,\n",
       "        -6.60559988, -3.51869988,  5.83519983, -6.07600021, -1.39619994]))"
      ]
     },
     "execution_count": 11,
     "metadata": {},
     "output_type": "execute_result"
    }
   ],
   "source": [
    "X_train[0][1][0:10],X_train[1][1][0:10]"
   ]
  },
  {
   "cell_type": "code",
   "execution_count": 12,
   "metadata": {},
   "outputs": [
    {
     "data": {
      "text/plain": [
       "0.0"
      ]
     },
     "execution_count": 12,
     "metadata": {},
     "output_type": "execute_result"
    }
   ],
   "source": [
    "y_train[1]"
   ]
  },
  {
   "cell_type": "code",
   "execution_count": 13,
   "metadata": {},
   "outputs": [],
   "source": [
    "pred = model.predict([X_train[0],X_train[1]])"
   ]
  },
  {
   "cell_type": "code",
   "execution_count": 14,
   "metadata": {},
   "outputs": [],
   "source": [
    "pred.shape=(pred.shape[0],)"
   ]
  },
  {
   "cell_type": "code",
   "execution_count": 15,
   "metadata": {},
   "outputs": [
    {
     "data": {
      "text/plain": [
       "array([0.00759447, 0.0202415 , 0.01063883, ..., 0.00597894, 0.03073645,\n",
       "       0.06665599], dtype=float32)"
      ]
     },
     "execution_count": 15,
     "metadata": {},
     "output_type": "execute_result"
    }
   ],
   "source": [
    "pred"
   ]
  },
  {
   "cell_type": "code",
   "execution_count": 16,
   "metadata": {},
   "outputs": [
    {
     "data": {
      "text/plain": [
       "0.0"
      ]
     },
     "execution_count": 16,
     "metadata": {},
     "output_type": "execute_result"
    }
   ],
   "source": [
    "min(pred)"
   ]
  },
  {
   "cell_type": "code",
   "execution_count": 17,
   "metadata": {},
   "outputs": [
    {
     "data": {
      "text/plain": [
       "2.3097014"
      ]
     },
     "execution_count": 17,
     "metadata": {},
     "output_type": "execute_result"
    }
   ],
   "source": [
    "max(pred)"
   ]
  },
  {
   "cell_type": "code",
   "execution_count": 18,
   "metadata": {},
   "outputs": [
    {
     "data": {
      "text/plain": [
       "132.50516110874779"
      ]
     },
     "execution_count": 18,
     "metadata": {},
     "output_type": "execute_result"
    }
   ],
   "source": [
    "a = [-2.9628181, -2.9369824, -2.8793402, -2.917018 , -2.8999379,\n",
    "         -2.934715 , -2.854669 , -2.8483472, -2.8471825, -2.8114026,\n",
    "         -2.8795078, -2.9513776, -2.8242412, -2.8139703, -2.838598 ,\n",
    "         -2.837599 ]\n",
    "sum([i*i for i in a])"
   ]
  },
  {
   "cell_type": "code",
   "execution_count": null,
   "metadata": {
    "collapsed": true
   },
   "outputs": [],
   "source": []
  }
 ],
 "metadata": {
  "kernelspec": {
   "display_name": "Python 3",
   "language": "python",
   "name": "python3"
  },
  "language_info": {
   "codemirror_mode": {
    "name": "ipython",
    "version": 3
   },
   "file_extension": ".py",
   "mimetype": "text/x-python",
   "name": "python",
   "nbconvert_exporter": "python",
   "pygments_lexer": "ipython3",
   "version": "3.6.8"
  }
 },
 "nbformat": 4,
 "nbformat_minor": 2
}
